{
 "cells": [
  {
   "cell_type": "markdown",
   "metadata": {
    "gradient": {
     "editing": false,
     "id": "a27d21fb-1079-48d1-91c6-7417e4c33d1e",
     "kernelId": "b625c23a-4b39-43be-b316-0bb9ffbecbd9"
    },
    "id": "IfPL3z-gDHuQ"
   },
   "source": [
    "# Style Transfer model training, converting to ml5.js/tf.js and video stlye transfer"
   ]
  },
  {
   "cell_type": "markdown",
   "metadata": {
    "gradient": {
     "editing": false,
     "id": "449ae701-0e56-4b60-9908-70f4651a6e0e",
     "kernelId": "b625c23a-4b39-43be-b316-0bb9ffbecbd9"
    }
   },
   "source": [
    "This notebook is based on the [Google Colab notebook](https://colab.research.google.com/drive/1TZNdhoUEBoxQqY5EFloZcuyYUs9oNQ-g), provided by ml5 and adapted so it works with Paperspace Gradient notebooks.  \n",
    "\n",
    "It excludes downloading of the 14GB+ COCO image dataset, since it is already provided by Paperspace.  \n",
    "\n",
    "First, we prepare the environment by downloading the fast-style-transfer git repo and the vgg image, installing libraries that are not included in the Paperspace TensorFlow 1.14 Docker image, train the model, convert it into ml5 appropriate format and (optionally) use it to perform stlye transfer on a video.\n",
    "\n",
    "NOTE: For this notebook to work, the Paperspace Docker image must be TensorFlow 1.14.\n"
   ]
  },
  {
   "cell_type": "markdown",
   "metadata": {
    "gradient": {
     "editing": false,
     "id": "ba30d4c8-fdf1-4d70-a1e1-a70e7cac5cb2",
     "kernelId": "b625c23a-4b39-43be-b316-0bb9ffbecbd9"
    },
    "id": "VcY9cMXsDL8b"
   },
   "source": [
    "## 1. Preparing the environment\n"
   ]
  },
  {
   "cell_type": "code",
   "execution_count": null,
   "metadata": {
    "collapsed": false,
    "gradient": {
     "editing": false,
     "id": "207eabd1-df86-4dc7-94d3-9d7ac7f21523",
     "kernelId": "b625c23a-4b39-43be-b316-0bb9ffbecbd9",
     "source_hidden": false
    }
   },
   "outputs": [],
   "source": [
    "# Upgrade pip\n",
    "pip install --upgrade pip"
   ]
  },
  {
   "cell_type": "code",
   "execution_count": null,
   "metadata": {
    "colab": {
     "base_uri": "https://localhost:8080/"
    },
    "gradient": {
     "editing": false,
     "id": "f4b850cc-cc53-4a0a-b06f-8d29a0bbfbad",
     "kernelId": "b625c23a-4b39-43be-b316-0bb9ffbecbd9"
    },
    "id": "_Dkk2v3JCuEW",
    "outputId": "498ff39a-f511-43b7-eed7-343a4261af3c"
   },
   "outputs": [
    {
     "name": "stdout",
     "output_type": "stream",
     "text": [
      "Cloning into 'fast-style-transfer'...\r\n"
     ]
    },
    {
     "name": "stdout",
     "output_type": "stream",
     "text": [
      "remote: Enumerating objects: 248, done.\u001b[K\r\n",
      "remote: Counting objects:  10% (1/10)\u001b[K\r\n",
      "remote: Counting objects:  20% (2/10)\u001b[K\r\n",
      "remote: Counting objects:  30% (3/10)\u001b[K\r\n",
      "remote: Counting objects:  40% (4/10)\u001b[K\r\n",
      "remote: Counting objects:  50% (5/10)\u001b[K\r\n",
      "remote: Counting objects:  60% (6/10)\u001b[K\r\n",
      "remote: Counting objects:  70% (7/10)\u001b[K\r\n",
      "remote: Counting objects:  80% (8/10)\u001b[K\r\n",
      "remote: Counting objects:  90% (9/10)\u001b[K\r\n",
      "remote: Counting objects: 100% (10/10)\u001b[K\r\n",
      "remote: Counting objects: 100% (10/10), done.\u001b[K\r\n",
      "remote: Compressing objects:  10% (1/10)\u001b[K\r\n",
      "remote: Compressing objects:  20% (2/10)\u001b[K\r\n",
      "remote: Compressing objects:  30% (3/10)\u001b[K\r\n",
      "remote: Compressing objects:  40% (4/10)\u001b[K\r\n",
      "remote: Compressing objects:  50% (5/10)\u001b[K\r\n",
      "remote: Compressing objects:  60% (6/10)\u001b[K\r\n",
      "remote: Compressing objects:  70% (7/10)\u001b[K\r\n",
      "remote: Compressing objects:  80% (8/10)\u001b[K\r\n",
      "remote: Compressing objects:  90% (9/10)\u001b[K\r\n",
      "remote: Compressing objects: 100% (10/10)\u001b[K\r\n",
      "remote: Compressing objects: 100% (10/10), done.\u001b[K\r\n"
     ]
    },
    {
     "name": "stdout",
     "output_type": "stream",
     "text": [
      "Receiving objects:   0% (1/248)   \r\n",
      "Receiving objects:   1% (3/248)   \r\n",
      "Receiving objects:   2% (5/248)   \r\n",
      "Receiving objects:   3% (8/248)   \r\n",
      "Receiving objects:   4% (10/248)   \r\n",
      "Receiving objects:   5% (13/248)   \r\n",
      "Receiving objects:   6% (15/248)   \r\n",
      "Receiving objects:   7% (18/248)   \r\n",
      "Receiving objects:   8% (20/248)   \r\n",
      "Receiving objects:   9% (23/248)   \r\n",
      "Receiving objects:  10% (25/248)   \r\n",
      "Receiving objects:  11% (28/248)   \r\n",
      "Receiving objects:  12% (30/248)   \r\n",
      "Receiving objects:  13% (33/248)   \r\n",
      "Receiving objects:  14% (35/248)   \r\n",
      "Receiving objects:  15% (38/248)   \r\n",
      "Receiving objects:  16% (40/248)   \r\n",
      "Receiving objects:  17% (43/248)   \r\n",
      "Receiving objects:  18% (45/248)   \r\n",
      "Receiving objects:  19% (48/248)   \r\n",
      "Receiving objects:  20% (50/248)   \r\n",
      "Receiving objects:  21% (53/248)   \r\n",
      "Receiving objects:  22% (55/248)   \r\n",
      "Receiving objects:  23% (58/248)   \r\n",
      "Receiving objects:  24% (60/248)   \r\n",
      "Receiving objects:  25% (62/248)   \r\n",
      "Receiving objects:  26% (65/248)   \r\n",
      "Receiving objects:  27% (67/248)   \r\n",
      "Receiving objects:  28% (70/248)   \r\n",
      "Receiving objects:  29% (72/248)   \r\n",
      "Receiving objects:  30% (75/248)   \r\n",
      "Receiving objects:  31% (77/248)   \r"
     ]
    },
    {
     "name": "stdout",
     "output_type": "stream",
     "text": [
      "Receiving objects:  32% (80/248)   \r"
     ]
    },
    {
     "name": "stdout",
     "output_type": "stream",
     "text": [
      "Receiving objects:  33% (82/248)   \r"
     ]
    },
    {
     "name": "stdout",
     "output_type": "stream",
     "text": [
      "Receiving objects:  34% (85/248)   \r"
     ]
    },
    {
     "name": "stdout",
     "output_type": "stream",
     "text": [
      "Receiving objects:  35% (87/248)   \r"
     ]
    },
    {
     "name": "stdout",
     "output_type": "stream",
     "text": [
      "Receiving objects:  36% (90/248), 7.37 MiB | 14.37 MiB/s   \r"
     ]
    },
    {
     "name": "stdout",
     "output_type": "stream",
     "text": [
      "Receiving objects:  37% (92/248), 7.37 MiB | 14.37 MiB/s   \r\n",
      "Receiving objects:  38% (95/248), 7.37 MiB | 14.37 MiB/s   \r\n",
      "Receiving objects:  39% (97/248), 7.37 MiB | 14.37 MiB/s   \r\n",
      "Receiving objects:  40% (100/248), 7.37 MiB | 14.37 MiB/s   \r"
     ]
    },
    {
     "name": "stdout",
     "output_type": "stream",
     "text": [
      "Receiving objects:  41% (102/248), 7.37 MiB | 14.37 MiB/s   \r\n",
      "remote: Total 248 (delta 2), reused 5 (delta 0), pack-reused 238\u001b[K\r\n",
      "Receiving objects:  42% (105/248), 7.37 MiB | 14.37 MiB/s   \r\n",
      "Receiving objects:  43% (107/248), 7.37 MiB | 14.37 MiB/s   \r\n",
      "Receiving objects:  44% (110/248), 7.37 MiB | 14.37 MiB/s   \r\n",
      "Receiving objects:  45% (112/248), 7.37 MiB | 14.37 MiB/s   \r\n",
      "Receiving objects:  46% (115/248), 7.37 MiB | 14.37 MiB/s   \r\n",
      "Receiving objects:  47% (117/248), 7.37 MiB | 14.37 MiB/s   \r\n",
      "Receiving objects:  48% (120/248), 7.37 MiB | 14.37 MiB/s   \r\n",
      "Receiving objects:  49% (122/248), 7.37 MiB | 14.37 MiB/s   \r\n",
      "Receiving objects:  50% (124/248), 7.37 MiB | 14.37 MiB/s   \r\n",
      "Receiving objects:  51% (127/248), 7.37 MiB | 14.37 MiB/s   \r\n",
      "Receiving objects:  52% (129/248), 7.37 MiB | 14.37 MiB/s   \r\n",
      "Receiving objects:  53% (132/248), 7.37 MiB | 14.37 MiB/s   \r\n",
      "Receiving objects:  54% (134/248), 7.37 MiB | 14.37 MiB/s   \r\n",
      "Receiving objects:  55% (137/248), 7.37 MiB | 14.37 MiB/s   \r\n",
      "Receiving objects:  56% (139/248), 7.37 MiB | 14.37 MiB/s   \r\n",
      "Receiving objects:  57% (142/248), 7.37 MiB | 14.37 MiB/s   \r\n",
      "Receiving objects:  58% (144/248), 7.37 MiB | 14.37 MiB/s   \r\n",
      "Receiving objects:  59% (147/248), 7.37 MiB | 14.37 MiB/s   \r\n",
      "Receiving objects:  60% (149/248), 7.37 MiB | 14.37 MiB/s   \r\n",
      "Receiving objects:  61% (152/248), 7.37 MiB | 14.37 MiB/s   \r\n",
      "Receiving objects:  62% (154/248), 7.37 MiB | 14.37 MiB/s   \r\n",
      "Receiving objects:  63% (157/248), 7.37 MiB | 14.37 MiB/s   \r\n",
      "Receiving objects:  64% (159/248), 7.37 MiB | 14.37 MiB/s   \r\n",
      "Receiving objects:  65% (162/248), 7.37 MiB | 14.37 MiB/s   \r\n",
      "Receiving objects:  66% (164/248), 7.37 MiB | 14.37 MiB/s   \r\n",
      "Receiving objects:  67% (167/248), 7.37 MiB | 14.37 MiB/s   \r\n",
      "Receiving objects:  68% (169/248), 7.37 MiB | 14.37 MiB/s   \r\n",
      "Receiving objects:  69% (172/248), 7.37 MiB | 14.37 MiB/s   \r\n",
      "Receiving objects:  70% (174/248), 7.37 MiB | 14.37 MiB/s   \r\n",
      "Receiving objects:  71% (177/248), 7.37 MiB | 14.37 MiB/s   \r\n",
      "Receiving objects:  72% (179/248), 7.37 MiB | 14.37 MiB/s   \r\n",
      "Receiving objects:  73% (182/248), 7.37 MiB | 14.37 MiB/s   \r\n",
      "Receiving objects:  74% (184/248), 7.37 MiB | 14.37 MiB/s   \r\n",
      "Receiving objects:  75% (186/248), 7.37 MiB | 14.37 MiB/s   \r\n",
      "Receiving objects:  76% (189/248), 7.37 MiB | 14.37 MiB/s   \r\n",
      "Receiving objects:  77% (191/248), 7.37 MiB | 14.37 MiB/s   \r\n",
      "Receiving objects:  78% (194/248), 7.37 MiB | 14.37 MiB/s   \r\n",
      "Receiving objects:  79% (196/248), 7.37 MiB | 14.37 MiB/s   \r\n",
      "Receiving objects:  80% (199/248), 7.37 MiB | 14.37 MiB/s   \r\n",
      "Receiving objects:  81% (201/248), 7.37 MiB | 14.37 MiB/s   \r\n",
      "Receiving objects:  82% (204/248), 7.37 MiB | 14.37 MiB/s   \r\n",
      "Receiving objects:  83% (206/248), 7.37 MiB | 14.37 MiB/s   \r\n",
      "Receiving objects:  84% (209/248), 7.37 MiB | 14.37 MiB/s   \r\n",
      "Receiving objects:  85% (211/248), 7.37 MiB | 14.37 MiB/s   \r\n",
      "Receiving objects:  86% (214/248), 7.37 MiB | 14.37 MiB/s   \r\n",
      "Receiving objects:  87% (216/248), 7.37 MiB | 14.37 MiB/s   \r\n",
      "Receiving objects:  88% (219/248), 7.37 MiB | 14.37 MiB/s   \r\n",
      "Receiving objects:  89% (221/248), 7.37 MiB | 14.37 MiB/s   \r\n",
      "Receiving objects:  90% (224/248), 7.37 MiB | 14.37 MiB/s   \r\n",
      "Receiving objects:  91% (226/248), 7.37 MiB | 14.37 MiB/s   \r\n",
      "Receiving objects:  92% (229/248), 7.37 MiB | 14.37 MiB/s   \r\n",
      "Receiving objects:  93% (231/248), 7.37 MiB | 14.37 MiB/s   \r\n",
      "Receiving objects:  94% (234/248), 7.37 MiB | 14.37 MiB/s   \r\n",
      "Receiving objects:  95% (236/248), 7.37 MiB | 14.37 MiB/s   \r\n",
      "Receiving objects:  96% (239/248), 7.37 MiB | 14.37 MiB/s   \r\n",
      "Receiving objects:  97% (241/248), 7.37 MiB | 14.37 MiB/s   \r\n",
      "Receiving objects:  98% (244/248), 7.37 MiB | 14.37 MiB/s   \r\n",
      "Receiving objects:  99% (246/248), 7.37 MiB | 14.37 MiB/s   \r\n",
      "Receiving objects: 100% (248/248), 7.37 MiB | 14.37 MiB/s   \r\n",
      "Receiving objects: 100% (248/248), 11.02 MiB | 14.29 MiB/s, done.\r\n",
      "Resolving deltas:   0% (0/113)   \r\n",
      "Resolving deltas:  22% (25/113)   \r\n",
      "Resolving deltas:  25% (29/113)   \r\n",
      "Resolving deltas:  29% (33/113)   \r\n",
      "Resolving deltas:  31% (36/113)   \r\n",
      "Resolving deltas:  33% (38/113)   \r\n",
      "Resolving deltas:  35% (40/113)   \r\n",
      "Resolving deltas:  36% (41/113)   \r\n",
      "Resolving deltas:  38% (44/113)   \r\n",
      "Resolving deltas:  39% (45/113)   \r\n",
      "Resolving deltas:  41% (47/113)   \r\n",
      "Resolving deltas:  43% (49/113)   \r\n",
      "Resolving deltas:  44% (50/113)   \r\n",
      "Resolving deltas:  55% (63/113)   \r\n",
      "Resolving deltas:  59% (67/113)   \r\n",
      "Resolving deltas:  62% (71/113)   \r\n",
      "Resolving deltas:  68% (77/113)   \r\n",
      "Resolving deltas:  72% (82/113)   \r\n",
      "Resolving deltas:  84% (96/113)   \r\n",
      "Resolving deltas:  95% (108/113)   \r\n",
      "Resolving deltas:  97% (110/113)   \r\n",
      "Resolving deltas: 100% (113/113)   \r\n",
      "Resolving deltas: 100% (113/113), done.\r\n"
     ]
    }
   ],
   "source": [
    "# Clone the fast-style-transfer git repo from github: https://github.com/lengstrom/fast-style-transfer.\n",
    "!git clone https://github.com/lengstrom/fast-style-transfer"
   ]
  },
  {
   "cell_type": "markdown",
   "metadata": {
    "gradient": {
     "editing": false,
     "id": "d0a751ce-093e-49d5-84ed-95dbea833024",
     "kernelId": "b625c23a-4b39-43be-b316-0bb9ffbecbd9"
    }
   },
   "source": [
    "### Creating directories"
   ]
  },
  {
   "cell_type": "markdown",
   "metadata": {
    "gradient": {
     "editing": false,
     "id": "5c30855f-5071-4aa8-94a0-9ab0381b9a80",
     "kernelId": "b625c23a-4b39-43be-b316-0bb9ffbecbd9"
    }
   },
   "source": [
    "Create a folder called 'ckpt' inside of 'fast-style-transfer' folder"
   ]
  },
  {
   "cell_type": "code",
   "execution_count": null,
   "metadata": {
    "collapsed": false,
    "gradient": {
     "editing": false,
     "execution_count": 4,
     "id": "6201a582-3dba-41a4-92e4-8244e556156d",
     "kernelId": "b625c23a-4b39-43be-b316-0bb9ffbecbd9",
     "source_hidden": false
    }
   },
   "outputs": [],
   "source": [
    "%mkdir /notebooks/fast-style-transfer/ckpt"
   ]
  },
  {
   "cell_type": "markdown",
   "metadata": {
    "gradient": {
     "editing": false,
     "id": "cfffb425-64f4-4afc-b8e3-b95f77286f97",
     "kernelId": "b625c23a-4b39-43be-b316-0bb9ffbecbd9"
    }
   },
   "source": [
    "Create another folder called 'images' inside of 'fast-style-transfer' folder"
   ]
  },
  {
   "cell_type": "code",
   "execution_count": null,
   "metadata": {
    "collapsed": false,
    "gradient": {
     "editing": false,
     "execution_count": 5,
     "id": "a18a1d46-2551-42cc-b9fa-dabc9b4df0fc",
     "kernelId": "b625c23a-4b39-43be-b316-0bb9ffbecbd9",
     "source_hidden": false
    }
   },
   "outputs": [],
   "source": [
    "%mkdir /notebooks/fast-style-transfer"
   ]
  },
  {
   "cell_type": "markdown",
   "metadata": {
    "gradient": {
     "editing": false,
     "id": "f159105b-7bf5-4222-bf7c-dd3007128658",
     "kernelId": "b625c23a-4b39-43be-b316-0bb9ffbecbd9"
    }
   },
   "source": [
    "Inside of the 'images' folder, create a folder called 'style'"
   ]
  },
  {
   "cell_type": "code",
   "execution_count": null,
   "metadata": {
    "collapsed": false,
    "gradient": {
     "editing": false,
     "execution_count": 6,
     "id": "ae17b497-acae-403b-a15d-9372f5497e0d",
     "kernelId": "b625c23a-4b39-43be-b316-0bb9ffbecbd9",
     "source_hidden": false
    }
   },
   "outputs": [],
   "source": [
    "%mkdir /notebooks/fast-style-transfer/images/style"
   ]
  },
  {
   "cell_type": "markdown",
   "metadata": {
    "gradient": {
     "editing": false,
     "id": "2ac92a93-28d0-45b6-8183-e42b478a4006",
     "kernelId": "b625c23a-4b39-43be-b316-0bb9ffbecbd9"
    },
    "id": "F4qwxD7ZEMgD"
   },
   "source": [
    "### Add a style image\n",
    "- Go to left sidebar, click on the folder icon to open \"Files\" panel\n",
    "- Put a style image inside of the _fast-style-transfer/images/style_ folder"
   ]
  },
  {
   "cell_type": "markdown",
   "metadata": {
    "gradient": {
     "editing": false,
     "id": "7fbe09d4-4ff2-486c-b82a-023ce097c98a",
     "kernelId": "b625c23a-4b39-43be-b316-0bb9ffbecbd9"
    },
    "id": "cF1kfOS9dJHF"
   },
   "source": [
    "### Install additional libraries"
   ]
  },
  {
   "cell_type": "markdown",
   "metadata": {
    "gradient": {
     "editing": false,
     "id": "66e4bbac-b480-4a3b-8698-f926d6773456",
     "kernelId": "b625c23a-4b39-43be-b316-0bb9ffbecbd9"
    }
   },
   "source": [
    "#### Install a higher version of tensorflow for training\n",
    "\n",
    "We need the 2.1.0 version for training and video style transfer.  \n",
    "The TensorFlow 1.14 version is needed only to convert the trained model to ml5, but we can only upgrade a version in a Docker image and not downgrade - this is why we start with the 1.14 image."
   ]
  },
  {
   "cell_type": "code",
   "execution_count": null,
   "metadata": {
    "colab": {
     "base_uri": "https://localhost:8080/"
    },
    "gradient": {
     "editing": false,
     "id": "ec6ae17f-7112-425c-98d3-a49f076c34d1",
     "kernelId": "b625c23a-4b39-43be-b316-0bb9ffbecbd9"
    },
    "id": "Jii5lBIVY1cs",
    "outputId": "ff5dba27-65ae-439a-b326-f8a2752866d2"
   },
   "outputs": [],
   "source": [
    "# Install a higher version of tensorflow for training\n",
    "!pip install tensorflow-gpu==2.1.0"
   ]
  },
  {
   "cell_type": "markdown",
   "metadata": {
    "gradient": {
     "editing": false,
     "id": "9162db29-78df-49c6-bf71-e77471a61a52",
     "kernelId": "b625c23a-4b39-43be-b316-0bb9ffbecbd9"
    }
   },
   "source": [
    "#### Install necessary libraries"
   ]
  },
  {
   "cell_type": "code",
   "execution_count": null,
   "metadata": {
    "collapsed": false,
    "gradient": {
     "editing": false,
     "execution_count": 36,
     "id": "2faf6586-287e-4153-9680-28f6c7299fd9",
     "kernelId": "b625c23a-4b39-43be-b316-0bb9ffbecbd9",
     "source_hidden": false
    }
   },
   "outputs": [],
   "source": [
    "# Install imageio\n",
    "!pip install imageio"
   ]
  },
  {
   "cell_type": "markdown",
   "metadata": {
    "gradient": {
     "editing": false,
     "id": "e1753973-4712-43f3-9df9-237ad54275ba",
     "kernelId": "b625c23a-4b39-43be-b316-0bb9ffbecbd9"
    }
   },
   "source": [
    "#### Install libraries for video style transfer (optional)"
   ]
  },
  {
   "cell_type": "code",
   "execution_count": null,
   "metadata": {
    "collapsed": false,
    "gradient": {
     "editing": false,
     "execution_count": 39,
     "id": "dfcd2456-9591-474f-91cf-20a0ff92bef1",
     "kernelId": "b625c23a-4b39-43be-b316-0bb9ffbecbd9",
     "source_hidden": false
    }
   },
   "outputs": [],
   "source": [
    "# Install libraries for video style transfer\n",
    "!pip install ffmpeg\n",
    "!pip install moviepy==1.0.2\n",
    "!pip install scipy\n",
    "# Downgrading the image-ffmpeg prevent some pipe error\n",
    "!pip install imageio-ffmpeg==0.2.0"
   ]
  },
  {
   "cell_type": "markdown",
   "metadata": {
    "gradient": {
     "editing": false,
     "id": "520ecf5c-e2ab-4a13-bf0d-feb4b3c2e978",
     "kernelId": "b625c23a-4b39-43be-b316-0bb9ffbecbd9"
    }
   },
   "source": [
    "## 2. Preparing the training data"
   ]
  },
  {
   "cell_type": "markdown",
   "metadata": {
    "gradient": {
     "editing": false,
     "id": "8ada0388-1002-4a39-b67a-fab6a40947b8",
     "kernelId": "b625c23a-4b39-43be-b316-0bb9ffbecbd9"
    }
   },
   "source": [
    "#### Check that the COCO dataset exists on Paperspace"
   ]
  },
  {
   "cell_type": "code",
   "execution_count": null,
   "metadata": {
    "gradient": {
     "editing": false,
     "id": "c6073fe6-780c-4937-ae87-f301ba691c24",
     "kernelId": "b625c23a-4b39-43be-b316-0bb9ffbecbd9",
     "source_hidden": false
    }
   },
   "outputs": [
    {
     "name": "stdout",
     "output_type": "stream",
     "text": [
      "\u001b[0m\u001b[01;34mannotations\u001b[0m/  \u001b[01;34mcoco_train2014\u001b[0m/  \u001b[01;34mcoco_val2014\u001b[0m/\r\n"
     ]
    }
   ],
   "source": [
    "# Check for the coco dataset in the paperspace files\n",
    "%ls /datasets/coco/"
   ]
  },
  {
   "cell_type": "markdown",
   "metadata": {
    "gradient": {
     "editing": false,
     "id": "a998c7dc-ec13-4c5a-a6a4-ce3ac739da0c",
     "kernelId": "b625c23a-4b39-43be-b316-0bb9ffbecbd9"
    }
   },
   "source": [
    "#### Downloading the vgg .mat file"
   ]
  },
  {
   "cell_type": "code",
   "execution_count": null,
   "metadata": {
    "collapsed": false,
    "gradient": {
     "editing": false,
     "execution_count": 27,
     "id": "e1baac90-5009-4ef1-9550-8ffb49e3b71c",
     "kernelId": "b625c23a-4b39-43be-b316-0bb9ffbecbd9",
     "source_hidden": false
    }
   },
   "outputs": [],
   "source": [
    "# Create the necessary directory\n",
    "%mkdir /notebooks/fast-style-transfer/data/"
   ]
  },
  {
   "cell_type": "code",
   "execution_count": null,
   "metadata": {
    "collapsed": false,
    "gradient": {
     "editing": false,
     "id": "c4f4b0a0-bb46-47bd-972f-3774f69b65c5",
     "kernelId": "b625c23a-4b39-43be-b316-0bb9ffbecbd9",
     "source_hidden": false
    }
   },
   "outputs": [
    {
     "name": "stdout",
     "output_type": "stream",
     "text": [
      "/notebooks/fast-style-transfer/data\n"
     ]
    },
    {
     "name": "stdout",
     "output_type": "stream",
     "text": [
      "--2021-12-10 15:55:21--  https://www.vlfeat.org/matconvnet/models/beta16/imagenet-vgg-verydeep-19.mat\r\n",
      "Resolving www.vlfeat.org (www.vlfeat.org)... "
     ]
    },
    {
     "name": "stdout",
     "output_type": "stream",
     "text": [
      "64.90.48.57\r\n",
      "Connecting to www.vlfeat.org (www.vlfeat.org)|64.90.48.57|:443... "
     ]
    },
    {
     "name": "stdout",
     "output_type": "stream",
     "text": [
      "connected.\r\n"
     ]
    },
    {
     "name": "stdout",
     "output_type": "stream",
     "text": [
      "HTTP request sent, awaiting response... "
     ]
    },
    {
     "name": "stdout",
     "output_type": "stream",
     "text": [
      "200 OK\r\n",
      "Length: 576042600 (549M)\r\n"
     ]
    },
    {
     "name": "stdout",
     "output_type": "stream",
     "text": [
      "Saving to: ‘imagenet-vgg-verydeep-19.mat’\r\n",
      "\r\n",
      "\r\n",
      "          imagenet-   0%[                    ]       0  --.-KB/s               "
     ]
    },
    {
     "name": "stdout",
     "output_type": "stream",
     "text": [
      "\r\n",
      "         imagenet-v   0%[                    ] 200.00K   966KB/s               "
     ]
    },
    {
     "name": "stdout",
     "output_type": "stream",
     "text": [
      "\r\n",
      "        imagenet-vg   0%[                    ] 744.00K  1.63MB/s               "
     ]
    },
    {
     "name": "stdout",
     "output_type": "stream",
     "text": [
      "\r\n",
      "       imagenet-vgg   0%[                    ]   3.07M  4.74MB/s               "
     ]
    },
    {
     "name": "stdout",
     "output_type": "stream",
     "text": [
      "\r\n",
      "      imagenet-vgg-   0%[                    ]   4.74M  5.59MB/s               "
     ]
    },
    {
     "name": "stdout",
     "output_type": "stream",
     "text": [
      "\r\n",
      "     imagenet-vgg-v   1%[                    ]   6.40M  6.10MB/s               "
     ]
    },
    {
     "name": "stdout",
     "output_type": "stream",
     "text": [
      "\r\n",
      "    imagenet-vgg-ve   1%[                    ]   8.23M  6.58MB/s               "
     ]
    },
    {
     "name": "stdout",
     "output_type": "stream",
     "text": [
      "\r\n",
      "   imagenet-vgg-ver   1%[                    ]   9.99M  6.87MB/s               "
     ]
    },
    {
     "name": "stdout",
     "output_type": "stream",
     "text": [
      "\r\n",
      "  imagenet-vgg-very   2%[                    ]  11.88M  7.18MB/s               "
     ]
    },
    {
     "name": "stdout",
     "output_type": "stream",
     "text": [
      "\r\n",
      " imagenet-vgg-veryd   2%[                    ]  13.82M  7.45MB/s               "
     ]
    },
    {
     "name": "stdout",
     "output_type": "stream",
     "text": [
      "\r\n",
      "imagenet-vgg-veryde   2%[                    ]  15.80M  7.59MB/s               "
     ]
    },
    {
     "name": "stdout",
     "output_type": "stream",
     "text": [
      "\r\n",
      "magenet-vgg-verydee   3%[                    ]  17.74M  7.77MB/s               "
     ]
    },
    {
     "name": "stdout",
     "output_type": "stream",
     "text": [
      "\r\n",
      "agenet-vgg-verydeep   3%[                    ]  19.79M  7.97MB/s               "
     ]
    },
    {
     "name": "stdout",
     "output_type": "stream",
     "text": [
      "\r\n",
      "genet-vgg-verydeep-   3%[                    ]  21.87M  8.15MB/s               "
     ]
    },
    {
     "name": "stdout",
     "output_type": "stream",
     "text": [
      "\r\n",
      "enet-vgg-verydeep-1   4%[                    ]  23.93M  8.29MB/s               "
     ]
    },
    {
     "name": "stdout",
     "output_type": "stream",
     "text": [
      "\r\n",
      "net-vgg-verydeep-19   4%[                    ]  25.49M  8.26MB/s    eta 63s    "
     ]
    },
    {
     "name": "stdout",
     "output_type": "stream",
     "text": [
      "\r\n",
      "et-vgg-verydeep-19.   4%[                    ]  27.30M  8.29MB/s    eta 63s    "
     ]
    },
    {
     "name": "stdout",
     "output_type": "stream",
     "text": [
      "\r\n",
      "t-vgg-verydeep-19.m   5%[>                   ]  27.88M  8.42MB/s    eta 63s    "
     ]
    },
    {
     "name": "stdout",
     "output_type": "stream",
     "text": [
      "\r\n",
      "-vgg-verydeep-19.ma   5%[>                   ]  28.76M  8.63MB/s    eta 63s    "
     ]
    },
    {
     "name": "stdout",
     "output_type": "stream",
     "text": [
      "\r\n",
      "vgg-verydeep-19.mat   5%[>                   ]  29.77M  8.02MB/s    eta 63s    "
     ]
    },
    {
     "name": "stdout",
     "output_type": "stream",
     "text": [
      "\r\n",
      "gg-verydeep-19.mat    5%[>                   ]  30.88M  7.75MB/s    eta 71s    "
     ]
    },
    {
     "name": "stdout",
     "output_type": "stream",
     "text": [
      "\r\n",
      "g-verydeep-19.mat     5%[>                   ]  31.66M  7.37MB/s    eta 71s    "
     ]
    },
    {
     "name": "stdout",
     "output_type": "stream",
     "text": [
      "\r\n",
      "-verydeep-19.mat      5%[>                   ]  32.60M  7.05MB/s    eta 71s    "
     ]
    },
    {
     "name": "stdout",
     "output_type": "stream",
     "text": [
      "\r\n",
      "verydeep-19.mat       6%[>                   ]  33.27M  6.70MB/s    eta 71s    "
     ]
    },
    {
     "name": "stdout",
     "output_type": "stream",
     "text": [
      "\r\n",
      "erydeep-19.mat        6%[>                   ]  34.18M  6.51MB/s    eta 71s    "
     ]
    },
    {
     "name": "stdout",
     "output_type": "stream",
     "text": [
      "\r\n",
      "rydeep-19.mat         6%[>                   ]  35.01M  6.21MB/s    eta 78s    "
     ]
    },
    {
     "name": "stdout",
     "output_type": "stream",
     "text": [
      "\r\n",
      "ydeep-19.mat          6%[>                   ]  35.57M  5.88MB/s    eta 78s    "
     ]
    },
    {
     "name": "stdout",
     "output_type": "stream",
     "text": [
      "\r\n",
      "deep-19.mat           6%[>                   ]  36.40M  5.59MB/s    eta 78s    "
     ]
    },
    {
     "name": "stdout",
     "output_type": "stream",
     "text": [
      "\r\n",
      "eep-19.mat            6%[>                   ]  36.95M  5.22MB/s    eta 78s    "
     ]
    },
    {
     "name": "stdout",
     "output_type": "stream",
     "text": [
      "\r\n",
      "ep-19.mat             6%[>                   ]  37.59M  4.67MB/s    eta 78s    "
     ]
    },
    {
     "name": "stdout",
     "output_type": "stream",
     "text": [
      "\r\n",
      "p-19.mat              6%[>                   ]  38.34M  4.36MB/s    eta 84s    "
     ]
    },
    {
     "name": "stdout",
     "output_type": "stream",
     "text": [
      "\r\n",
      "-19.mat               7%[>                   ]  38.96M  3.94MB/s    eta 84s    "
     ]
    },
    {
     "name": "stdout",
     "output_type": "stream",
     "text": [
      "\r\n",
      "19.mat                7%[>                   ]  39.62M  3.62MB/s    eta 84s    "
     ]
    },
    {
     "name": "stdout",
     "output_type": "stream",
     "text": [
      "\r\n",
      "9.mat                 7%[>                   ]  40.32M  3.53MB/s    eta 84s    "
     ]
    },
    {
     "name": "stdout",
     "output_type": "stream",
     "text": [
      "\r\n",
      ".mat                  7%[>                   ]  41.15M  3.54MB/s    eta 84s    "
     ]
    },
    {
     "name": "stdout",
     "output_type": "stream",
     "text": [
      "\r\n",
      "mat                   7%[>                   ]  41.95M  3.55MB/s    eta 90s    "
     ]
    },
    {
     "name": "stdout",
     "output_type": "stream",
     "text": [
      "\r\n",
      "at                    7%[>                   ]  42.70M  3.51MB/s    eta 90s    "
     ]
    },
    {
     "name": "stdout",
     "output_type": "stream",
     "text": [
      "\r\n",
      "t                     7%[>                   ]  43.43M  3.45MB/s    eta 90s    "
     ]
    },
    {
     "name": "stdout",
     "output_type": "stream",
     "text": [
      "\r\n",
      "                      8%[>                   ]  44.26M  3.42MB/s    eta 90s    "
     ]
    },
    {
     "name": "stdout",
     "output_type": "stream",
     "text": [
      "\r\n",
      "                  i   8%[>                   ]  45.12M  3.53MB/s    eta 90s    "
     ]
    },
    {
     "name": "stdout",
     "output_type": "stream",
     "text": [
      "\r\n",
      "                 im   8%[>                   ]  45.87M  3.46MB/s    eta 93s    "
     ]
    },
    {
     "name": "stdout",
     "output_type": "stream",
     "text": [
      "\r\n",
      "                ima   8%[>                   ]  46.71M  3.48MB/s    eta 93s    "
     ]
    },
    {
     "name": "stdout",
     "output_type": "stream",
     "text": [
      "\r\n",
      "               imag   8%[>                   ]  47.43M  3.42MB/s    eta 93s    "
     ]
    },
    {
     "name": "stdout",
     "output_type": "stream",
     "text": [
      "\r\n",
      "              image   8%[>                   ]  48.21M  3.43MB/s    eta 93s    "
     ]
    },
    {
     "name": "stdout",
     "output_type": "stream",
     "text": [
      "\r\n",
      "             imagen   8%[>                   ]  48.98M  3.48MB/s    eta 93s    "
     ]
    },
    {
     "name": "stdout",
     "output_type": "stream",
     "text": [
      "\r\n",
      "            imagene   9%[>                   ]  49.76M  3.45MB/s    eta 96s    "
     ]
    },
    {
     "name": "stdout",
     "output_type": "stream",
     "text": [
      "\r\n",
      "           imagenet   9%[>                   ]  50.60M  3.54MB/s    eta 96s    "
     ]
    },
    {
     "name": "stdout",
     "output_type": "stream",
     "text": [
      "\r\n",
      "          imagenet-   9%[>                   ]  51.41M  3.53MB/s    eta 96s    "
     ]
    },
    {
     "name": "stdout",
     "output_type": "stream",
     "text": [
      "\r\n",
      "         imagenet-v   9%[>                   ]  52.21M  3.59MB/s    eta 96s    "
     ]
    },
    {
     "name": "stdout",
     "output_type": "stream",
     "text": [
      "\r\n",
      "        imagenet-vg   9%[>                   ]  52.99M  3.67MB/s    eta 96s    "
     ]
    },
    {
     "name": "stdout",
     "output_type": "stream",
     "text": [
      "\r\n",
      "       imagenet-vgg   9%[>                   ]  53.84M  3.75MB/s    eta 98s    "
     ]
    },
    {
     "name": "stdout",
     "output_type": "stream",
     "text": [
      "\r\n",
      "      imagenet-vgg-   9%[>                   ]  54.66M  3.74MB/s    eta 98s    "
     ]
    },
    {
     "name": "stdout",
     "output_type": "stream",
     "text": [
      "\r\n",
      "     imagenet-vgg-v  10%[=>                  ]  55.45M  3.75MB/s    eta 98s    "
     ]
    },
    {
     "name": "stdout",
     "output_type": "stream",
     "text": [
      "\r\n",
      "    imagenet-vgg-ve  10%[=>                  ]  56.23M  3.77MB/s    eta 98s    "
     ]
    },
    {
     "name": "stdout",
     "output_type": "stream",
     "text": [
      "\r\n",
      "   imagenet-vgg-ver  10%[=>                  ]  57.02M  3.78MB/s    eta 98s    "
     ]
    },
    {
     "name": "stdout",
     "output_type": "stream",
     "text": [
      "\r\n",
      "  imagenet-vgg-very  10%[=>                  ]  57.87M  3.81MB/s    eta 99s    "
     ]
    },
    {
     "name": "stdout",
     "output_type": "stream",
     "text": [
      "\r\n",
      " imagenet-vgg-veryd  10%[=>                  ]  58.65M  3.79MB/s    eta 99s    "
     ]
    },
    {
     "name": "stdout",
     "output_type": "stream",
     "text": [
      "\r\n",
      "imagenet-vgg-veryde  10%[=>                  ]  59.41M  3.77MB/s    eta 99s    "
     ]
    },
    {
     "name": "stdout",
     "output_type": "stream",
     "text": [
      "\r\n",
      "magenet-vgg-verydee  10%[=>                  ]  60.24M  3.77MB/s    eta 99s    "
     ]
    },
    {
     "name": "stdout",
     "output_type": "stream",
     "text": [
      "\r\n",
      "agenet-vgg-verydeep  11%[=>                  ]  61.09M  3.85MB/s    eta 99s    "
     ]
    },
    {
     "name": "stdout",
     "output_type": "stream",
     "text": [
      "\r\n",
      "genet-vgg-verydeep-  11%[=>                  ]  61.88M  3.82MB/s    eta 1m 40s "
     ]
    },
    {
     "name": "stdout",
     "output_type": "stream",
     "text": [
      "\r\n",
      "enet-vgg-verydeep-1  11%[=>                  ]  62.65M  3.84MB/s    eta 1m 40s "
     ]
    },
    {
     "name": "stdout",
     "output_type": "stream",
     "text": [
      "\r\n",
      "net-vgg-verydeep-19  11%[=>                  ]  63.41M  3.84MB/s    eta 1m 40s "
     ]
    },
    {
     "name": "stdout",
     "output_type": "stream",
     "text": [
      "\r\n",
      "et-vgg-verydeep-19.  11%[=>                  ]  64.20M  3.79MB/s    eta 1m 40s "
     ]
    },
    {
     "name": "stdout",
     "output_type": "stream",
     "text": [
      "\r\n",
      "t-vgg-verydeep-19.m  11%[=>                  ]  64.76M  3.72MB/s    eta 1m 40s "
     ]
    },
    {
     "name": "stdout",
     "output_type": "stream",
     "text": [
      "\r\n",
      "-vgg-verydeep-19.ma  11%[=>                  ]  65.73M  3.75MB/s    eta 1m 41s "
     ]
    },
    {
     "name": "stdout",
     "output_type": "stream",
     "text": [
      "\r\n",
      "vgg-verydeep-19.mat  12%[=>                  ]  66.37M  3.71MB/s    eta 1m 41s "
     ]
    },
    {
     "name": "stdout",
     "output_type": "stream",
     "text": [
      "\r\n",
      "gg-verydeep-19.mat   12%[=>                  ]  67.09M  3.67MB/s    eta 1m 41s "
     ]
    },
    {
     "name": "stdout",
     "output_type": "stream",
     "text": [
      "\r\n",
      "g-verydeep-19.mat    12%[=>                  ]  67.90M  3.71MB/s    eta 1m 41s "
     ]
    },
    {
     "name": "stdout",
     "output_type": "stream",
     "text": [
      "\r\n",
      "-verydeep-19.mat     12%[=>                  ]  68.65M  3.63MB/s    eta 1m 41s "
     ]
    },
    {
     "name": "stdout",
     "output_type": "stream",
     "text": [
      "\r\n",
      "verydeep-19.mat      12%[=>                  ]  69.40M  3.57MB/s    eta 1m 43s "
     ]
    },
    {
     "name": "stdout",
     "output_type": "stream",
     "text": [
      "\r\n",
      "erydeep-19.mat       12%[=>                  ]  70.16M  3.60MB/s    eta 1m 43s "
     ]
    },
    {
     "name": "stdout",
     "output_type": "stream",
     "text": [
      "\r\n",
      "rydeep-19.mat        12%[=>                  ]  70.80M  3.54MB/s    eta 1m 43s "
     ]
    },
    {
     "name": "stdout",
     "output_type": "stream",
     "text": [
      "\r\n",
      "ydeep-19.mat         13%[=>                  ]  71.68M  3.57MB/s    eta 1m 43s "
     ]
    },
    {
     "name": "stdout",
     "output_type": "stream",
     "text": [
      "\r\n",
      "deep-19.mat          13%[=>                  ]  72.30M  3.51MB/s    eta 1m 43s "
     ]
    },
    {
     "name": "stdout",
     "output_type": "stream",
     "text": [
      "\r\n",
      "eep-19.mat           13%[=>                  ]  73.04M  3.50MB/s    eta 1m 44s "
     ]
    },
    {
     "name": "stdout",
     "output_type": "stream",
     "text": [
      "\r\n",
      "ep-19.mat            13%[=>                  ]  73.79M  3.50MB/s    eta 1m 44s "
     ]
    },
    {
     "name": "stdout",
     "output_type": "stream",
     "text": [
      "\r\n",
      "p-19.mat             13%[=>                  ]  74.48M  3.47MB/s    eta 1m 44s "
     ]
    },
    {
     "name": "stdout",
     "output_type": "stream",
     "text": [
      "\r\n",
      "-19.mat              13%[=>                  ]  75.35M  3.50MB/s    eta 1m 44s "
     ]
    },
    {
     "name": "stdout",
     "output_type": "stream",
     "text": [
      "\r\n",
      "19.mat               13%[=>                  ]  76.13M  3.49MB/s    eta 1m 44s "
     ]
    },
    {
     "name": "stdout",
     "output_type": "stream",
     "text": [
      "\r\n",
      "9.mat                14%[=>                  ]  76.93M  3.58MB/s    eta 1m 44s "
     ]
    },
    {
     "name": "stdout",
     "output_type": "stream",
     "text": [
      "\r\n",
      ".mat                 14%[=>                  ]  77.71M  3.56MB/s    eta 1m 44s "
     ]
    },
    {
     "name": "stdout",
     "output_type": "stream",
     "text": [
      "\r\n",
      "mat                  14%[=>                  ]  78.59M  3.61MB/s    eta 1m 44s "
     ]
    },
    {
     "name": "stdout",
     "output_type": "stream",
     "text": [
      "\r\n",
      "at                   14%[=>                  ]  79.48M  3.64MB/s    eta 1m 44s "
     ]
    },
    {
     "name": "stdout",
     "output_type": "stream",
     "text": [
      "\r\n",
      "t                    14%[=>                  ]  80.30M  3.63MB/s    eta 1m 44s "
     ]
    },
    {
     "name": "stdout",
     "output_type": "stream",
     "text": [
      "\r\n",
      "                     14%[=>                  ]  81.12M  3.64MB/s    eta 1m 44s "
     ]
    },
    {
     "name": "stdout",
     "output_type": "stream",
     "text": [
      "\r\n",
      "                  i  14%[=>                  ]  81.98M  3.78MB/s    eta 1m 44s "
     ]
    },
    {
     "name": "stdout",
     "output_type": "stream",
     "text": [
      "\r\n",
      "                 im  15%[==>                 ]  82.87M  3.83MB/s    eta 1m 44s "
     ]
    },
    {
     "name": "stdout",
     "output_type": "stream",
     "text": [
      "\r\n",
      "                ima  15%[==>                 ]  83.79M  3.90MB/s    eta 1m 44s "
     ]
    },
    {
     "name": "stdout",
     "output_type": "stream",
     "text": [
      "\r\n",
      "               imag  15%[==>                 ]  84.68M  3.99MB/s    eta 1m 44s "
     ]
    },
    {
     "name": "stdout",
     "output_type": "stream",
     "text": [
      "\r\n",
      "              image  15%[==>                 ]  85.55M  4.03MB/s    eta 1m 43s "
     ]
    },
    {
     "name": "stdout",
     "output_type": "stream",
     "text": [
      "\r\n",
      "             imagen  15%[==>                 ]  86.46M  4.07MB/s    eta 1m 43s "
     ]
    },
    {
     "name": "stdout",
     "output_type": "stream",
     "text": [
      "\r\n",
      "            imagene  15%[==>                 ]  87.40M  4.10MB/s    eta 1m 43s "
     ]
    },
    {
     "name": "stdout",
     "output_type": "stream",
     "text": [
      "\r\n",
      "           imagenet  16%[==>                 ]  88.37M  4.17MB/s    eta 1m 43s "
     ]
    },
    {
     "name": "stdout",
     "output_type": "stream",
     "text": [
      "\r\n",
      "          imagenet-  16%[==>                 ]  89.29M  4.23MB/s    eta 1m 43s "
     ]
    },
    {
     "name": "stdout",
     "output_type": "stream",
     "text": [
      "\r\n",
      "         imagenet-v  16%[==>                 ]  90.35M  4.29MB/s    eta 1m 42s "
     ]
    },
    {
     "name": "stdout",
     "output_type": "stream",
     "text": [
      "\r\n",
      "        imagenet-vg  16%[==>                 ]  91.39M  4.38MB/s    eta 1m 42s "
     ]
    },
    {
     "name": "stdout",
     "output_type": "stream",
     "text": [
      "\r\n",
      "       imagenet-vgg  16%[==>                 ]  92.48M  4.49MB/s    eta 1m 42s "
     ]
    },
    {
     "name": "stdout",
     "output_type": "stream",
     "text": [
      "\r\n",
      "      imagenet-vgg-  17%[==>                 ]  93.62M  4.58MB/s    eta 1m 42s "
     ]
    },
    {
     "name": "stdout",
     "output_type": "stream",
     "text": [
      "\r\n",
      "     imagenet-vgg-v  17%[==>                 ]  94.76M  4.68MB/s    eta 1m 42s "
     ]
    },
    {
     "name": "stdout",
     "output_type": "stream",
     "text": [
      "\r\n",
      "    imagenet-vgg-ve  17%[==>                 ]  95.95M  4.79MB/s    eta 1m 40s "
     ]
    },
    {
     "name": "stdout",
     "output_type": "stream",
     "text": [
      "\r\n",
      "   imagenet-vgg-ver  17%[==>                 ]  97.16M  4.89MB/s    eta 1m 40s "
     ]
    },
    {
     "name": "stdout",
     "output_type": "stream",
     "text": [
      "\r\n",
      "  imagenet-vgg-very  17%[==>                 ]  98.43M  5.01MB/s    eta 1m 40s "
     ]
    },
    {
     "name": "stdout",
     "output_type": "stream",
     "text": [
      "\r\n",
      " imagenet-vgg-veryd  18%[==>                 ]  99.59M  5.09MB/s    eta 1m 40s "
     ]
    },
    {
     "name": "stdout",
     "output_type": "stream",
     "text": [
      "\r\n",
      "imagenet-vgg-veryde  18%[==>                 ] 100.65M  5.11MB/s    eta 1m 40s "
     ]
    },
    {
     "name": "stdout",
     "output_type": "stream",
     "text": [
      "\r\n",
      "magenet-vgg-verydee  18%[==>                 ] 101.49M  5.12MB/s    eta 98s    "
     ]
    },
    {
     "name": "stdout",
     "output_type": "stream",
     "text": [
      "\r\n",
      "agenet-vgg-verydeep  18%[==>                 ] 102.32M  5.03MB/s    eta 98s    "
     ]
    },
    {
     "name": "stdout",
     "output_type": "stream",
     "text": [
      "\r\n",
      "genet-vgg-verydeep-  18%[==>                 ] 103.02M  4.98MB/s    eta 98s    "
     ]
    },
    {
     "name": "stdout",
     "output_type": "stream",
     "text": [
      "\r\n",
      "enet-vgg-verydeep-1  18%[==>                 ] 103.77M  4.90MB/s    eta 98s    "
     ]
    },
    {
     "name": "stdout",
     "output_type": "stream",
     "text": [
      "\r\n",
      "net-vgg-verydeep-19  19%[==>                 ] 104.46M  4.80MB/s    eta 98s    "
     ]
    },
    {
     "name": "stdout",
     "output_type": "stream",
     "text": [
      "\r\n",
      "et-vgg-verydeep-19.  19%[==>                 ] 105.21M  4.66MB/s    eta 98s    "
     ]
    },
    {
     "name": "stdout",
     "output_type": "stream",
     "text": [
      "\r\n",
      "t-vgg-verydeep-19.m  19%[==>                 ] 105.99M  4.56MB/s    eta 98s    "
     ]
    },
    {
     "name": "stdout",
     "output_type": "stream",
     "text": [
      "\r\n",
      "-vgg-verydeep-19.ma  19%[==>                 ] 106.88M  4.47MB/s    eta 98s    "
     ]
    },
    {
     "name": "stdout",
     "output_type": "stream",
     "text": [
      "\r\n",
      "vgg-verydeep-19.mat  19%[==>                 ] 107.54M  4.37MB/s    eta 98s    "
     ]
    },
    {
     "name": "stdout",
     "output_type": "stream",
     "text": [
      "\r\n",
      "gg-verydeep-19.mat   19%[==>                 ] 108.34M  4.29MB/s    eta 98s    "
     ]
    },
    {
     "name": "stdout",
     "output_type": "stream",
     "text": [
      "\r\n",
      "g-verydeep-19.mat    19%[==>                 ] 109.18M  4.15MB/s    eta 98s    "
     ]
    },
    {
     "name": "stdout",
     "output_type": "stream",
     "text": [
      "\r\n",
      "-verydeep-19.mat     20%[===>                ] 110.02M  4.08MB/s    eta 98s    "
     ]
    },
    {
     "name": "stdout",
     "output_type": "stream",
     "text": [
      "\r\n",
      "verydeep-19.mat      20%[===>                ] 110.80M  3.96MB/s    eta 98s    "
     ]
    },
    {
     "name": "stdout",
     "output_type": "stream",
     "text": [
      "\r\n",
      "erydeep-19.mat       20%[===>                ] 111.66M  3.89MB/s    eta 98s    "
     ]
    },
    {
     "name": "stdout",
     "output_type": "stream",
     "text": [
      "\r\n",
      "rydeep-19.mat        20%[===>                ] 112.30M  3.78MB/s    eta 98s    "
     ]
    },
    {
     "name": "stdout",
     "output_type": "stream",
     "text": [
      "\r\n",
      "ydeep-19.mat         20%[===>                ] 112.91M  3.65MB/s    eta 98s    "
     ]
    },
    {
     "name": "stdout",
     "output_type": "stream",
     "text": [
      "\r\n",
      "deep-19.mat          20%[===>                ] 113.55M  3.53MB/s    eta 98s    "
     ]
    },
    {
     "name": "stdout",
     "output_type": "stream",
     "text": [
      "\r\n",
      "eep-19.mat           20%[===>                ] 114.20M  3.53MB/s    eta 98s    "
     ]
    },
    {
     "name": "stdout",
     "output_type": "stream",
     "text": [
      "\r\n",
      "ep-19.mat            20%[===>                ] 114.85M  3.50MB/s    eta 98s    "
     ]
    },
    {
     "name": "stdout",
     "output_type": "stream",
     "text": [
      "\r\n",
      "p-19.mat             21%[===>                ] 115.54M  3.49MB/s    eta 98s    "
     ]
    },
    {
     "name": "stdout",
     "output_type": "stream",
     "text": [
      "\r\n",
      "-19.mat              21%[===>                ] 116.27M  3.52MB/s    eta 98s    "
     ]
    },
    {
     "name": "stdout",
     "output_type": "stream",
     "text": [
      "\r\n",
      "19.mat               21%[===>                ] 116.95M  3.52MB/s    eta 98s    "
     ]
    },
    {
     "name": "stdout",
     "output_type": "stream",
     "text": [
      "\r\n",
      "9.mat                21%[===>                ] 117.68M  3.51MB/s    eta 98s    "
     ]
    },
    {
     "name": "stdout",
     "output_type": "stream",
     "text": [
      "\r\n",
      ".mat                 21%[===>                ] 118.37M  3.51MB/s    eta 98s    "
     ]
    },
    {
     "name": "stdout",
     "output_type": "stream",
     "text": [
      "\r\n",
      "mat                  21%[===>                ] 118.98M  3.35MB/s    eta 98s    "
     ]
    },
    {
     "name": "stdout",
     "output_type": "stream",
     "text": [
      "\r\n",
      "at                   21%[===>                ] 119.79M  3.37MB/s    eta 99s    "
     ]
    },
    {
     "name": "stdout",
     "output_type": "stream",
     "text": [
      "\r\n",
      "t                    21%[===>                ] 120.35M  3.31MB/s    eta 99s    "
     ]
    },
    {
     "name": "stdout",
     "output_type": "stream",
     "text": [
      "\r\n",
      "                     22%[===>                ] 121.13M  3.26MB/s    eta 99s    "
     ]
    },
    {
     "name": "stdout",
     "output_type": "stream",
     "text": [
      "\r\n",
      "                  i  22%[===>                ] 121.90M  3.32MB/s    eta 99s    "
     ]
    },
    {
     "name": "stdout",
     "output_type": "stream",
     "text": [
      "\r\n",
      "                 im  22%[===>                ] 122.63M  3.24MB/s    eta 99s    "
     ]
    },
    {
     "name": "stdout",
     "output_type": "stream",
     "text": [
      "\r\n",
      "                ima  22%[===>                ] 123.34M  3.27MB/s    eta 99s    "
     ]
    },
    {
     "name": "stdout",
     "output_type": "stream",
     "text": [
      "\r\n",
      "               imag  22%[===>                ] 124.10M  3.30MB/s    eta 99s    "
     ]
    },
    {
     "name": "stdout",
     "output_type": "stream",
     "text": [
      "\r\n",
      "              image  22%[===>                ] 124.88M  3.35MB/s    eta 99s    "
     ]
    },
    {
     "name": "stdout",
     "output_type": "stream",
     "text": [
      "\r\n",
      "             imagen  22%[===>                ] 125.62M  3.34MB/s    eta 99s    "
     ]
    },
    {
     "name": "stdout",
     "output_type": "stream",
     "text": [
      "\r\n",
      "            imagene  22%[===>                ] 126.34M  3.36MB/s    eta 99s    "
     ]
    },
    {
     "name": "stdout",
     "output_type": "stream",
     "text": [
      "\r\n",
      "           imagenet  23%[===>                ] 127.09M  3.37MB/s    eta 98s    "
     ]
    },
    {
     "name": "stdout",
     "output_type": "stream",
     "text": [
      "\r\n",
      "          imagenet-  23%[===>                ] 127.88M  3.42MB/s    eta 98s    "
     ]
    },
    {
     "name": "stdout",
     "output_type": "stream",
     "text": [
      "\r\n",
      "         imagenet-v  23%[===>                ] 128.68M  3.44MB/s    eta 98s    "
     ]
    },
    {
     "name": "stdout",
     "output_type": "stream",
     "text": [
      "\r\n",
      "        imagenet-vg  23%[===>                ] 129.43M  3.48MB/s    eta 98s    "
     ]
    },
    {
     "name": "stdout",
     "output_type": "stream",
     "text": [
      "\r\n",
      "       imagenet-vgg  23%[===>                ] 130.18M  3.45MB/s    eta 98s    "
     ]
    },
    {
     "name": "stdout",
     "output_type": "stream",
     "text": [
      "\r\n",
      "      imagenet-vgg-  23%[===>                ] 130.95M  3.56MB/s    eta 98s    "
     ]
    },
    {
     "name": "stdout",
     "output_type": "stream",
     "text": [
      "\r\n",
      "     imagenet-vgg-v  23%[===>                ] 131.73M  3.59MB/s    eta 98s    "
     ]
    },
    {
     "name": "stdout",
     "output_type": "stream",
     "text": [
      "\r\n",
      "    imagenet-vgg-ve  24%[===>                ] 132.51M  3.63MB/s    eta 98s    "
     ]
    },
    {
     "name": "stdout",
     "output_type": "stream",
     "text": [
      "\r\n",
      "   imagenet-vgg-ver  24%[===>                ] 133.15M  3.63MB/s    eta 98s    "
     ]
    },
    {
     "name": "stdout",
     "output_type": "stream",
     "text": [
      "\r\n",
      "  imagenet-vgg-very  24%[===>                ] 133.96M  3.63MB/s    eta 98s    "
     ]
    },
    {
     "name": "stdout",
     "output_type": "stream",
     "text": [
      "\r\n",
      " imagenet-vgg-veryd  24%[===>                ] 134.73M  3.62MB/s    eta 98s    "
     ]
    },
    {
     "name": "stdout",
     "output_type": "stream",
     "text": [
      "\r\n",
      "imagenet-vgg-veryde  24%[===>                ] 135.57M  3.68MB/s    eta 98s    "
     ]
    },
    {
     "name": "stdout",
     "output_type": "stream",
     "text": [
      "\r\n",
      "magenet-vgg-verydee  24%[===>                ] 136.48M  3.72MB/s    eta 98s    "
     ]
    },
    {
     "name": "stdout",
     "output_type": "stream",
     "text": [
      "\r\n",
      "agenet-vgg-verydeep  24%[===>                ] 137.32M  3.76MB/s    eta 98s    "
     ]
    },
    {
     "name": "stdout",
     "output_type": "stream",
     "text": [
      "\r\n",
      "genet-vgg-verydeep-  25%[====>               ] 138.13M  3.81MB/s    eta 98s    "
     ]
    },
    {
     "name": "stdout",
     "output_type": "stream",
     "text": [
      "\r\n",
      "enet-vgg-verydeep-1  25%[====>               ] 138.96M  3.80MB/s    eta 97s    "
     ]
    },
    {
     "name": "stdout",
     "output_type": "stream",
     "text": [
      "\r\n",
      "net-vgg-verydeep-19  25%[====>               ] 139.80M  3.84MB/s    eta 97s    "
     ]
    },
    {
     "name": "stdout",
     "output_type": "stream",
     "text": [
      "\r\n",
      "et-vgg-verydeep-19.  25%[====>               ] 140.66M  3.88MB/s    eta 97s    "
     ]
    },
    {
     "name": "stdout",
     "output_type": "stream",
     "text": [
      "\r\n",
      "t-vgg-verydeep-19.m  25%[====>               ] 141.59M  3.92MB/s    eta 97s    "
     ]
    },
    {
     "name": "stdout",
     "output_type": "stream",
     "text": [
      "\r\n",
      "-vgg-verydeep-19.ma  25%[====>               ] 142.51M  3.98MB/s    eta 97s    "
     ]
    },
    {
     "name": "stdout",
     "output_type": "stream",
     "text": [
      "\r\n",
      "vgg-verydeep-19.mat  26%[====>               ] 143.16M  3.91MB/s    eta 96s    "
     ]
    },
    {
     "name": "stdout",
     "output_type": "stream",
     "text": [
      "\r\n",
      "gg-verydeep-19.mat   26%[====>               ] 143.77M  3.90MB/s    eta 96s    "
     ]
    },
    {
     "name": "stdout",
     "output_type": "stream",
     "text": [
      "\r\n",
      "g-verydeep-19.mat    26%[====>               ] 144.48M  3.88MB/s    eta 96s    "
     ]
    },
    {
     "name": "stdout",
     "output_type": "stream",
     "text": [
      "\r\n",
      "-verydeep-19.mat     26%[====>               ] 145.15M  3.83MB/s    eta 96s    "
     ]
    },
    {
     "name": "stdout",
     "output_type": "stream",
     "text": [
      "\r\n",
      "verydeep-19.mat      26%[====>               ] 145.85M  3.81MB/s    eta 96s    "
     ]
    },
    {
     "name": "stdout",
     "output_type": "stream",
     "text": [
      "\r\n",
      "erydeep-19.mat       26%[====>               ] 146.59M  3.81MB/s    eta 96s    "
     ]
    },
    {
     "name": "stdout",
     "output_type": "stream",
     "text": [
      "\r\n",
      "rydeep-19.mat        26%[====>               ] 147.38M  3.81MB/s    eta 96s    "
     ]
    },
    {
     "name": "stdout",
     "output_type": "stream",
     "text": [
      "\r\n",
      "ydeep-19.mat         26%[====>               ] 148.20M  3.85MB/s    eta 96s    "
     ]
    },
    {
     "name": "stdout",
     "output_type": "stream",
     "text": [
      "\r\n",
      "deep-19.mat          27%[====>               ] 148.98M  3.81MB/s    eta 96s    "
     ]
    },
    {
     "name": "stdout",
     "output_type": "stream",
     "text": [
      "\r\n",
      "eep-19.mat           27%[====>               ] 149.62M  3.74MB/s    eta 96s    "
     ]
    },
    {
     "name": "stdout",
     "output_type": "stream",
     "text": [
      "\r\n",
      "ep-19.mat            27%[====>               ] 150.16M  3.69MB/s    eta 95s    "
     ]
    },
    {
     "name": "stdout",
     "output_type": "stream",
     "text": [
      "\r\n",
      "p-19.mat             27%[====>               ] 150.95M  3.65MB/s    eta 95s    "
     ]
    },
    {
     "name": "stdout",
     "output_type": "stream",
     "text": [
      "\r\n",
      "-19.mat              27%[====>               ] 151.49M  3.60MB/s    eta 95s    "
     ]
    },
    {
     "name": "stdout",
     "output_type": "stream",
     "text": [
      "\r\n",
      "19.mat               27%[====>               ] 152.16M  3.53MB/s    eta 95s    "
     ]
    },
    {
     "name": "stdout",
     "output_type": "stream",
     "text": [
      "\r\n",
      "9.mat                27%[====>               ] 152.65M  3.47MB/s    eta 95s    "
     ]
    },
    {
     "name": "stdout",
     "output_type": "stream",
     "text": [
      "\r\n",
      ".mat                 27%[====>               ] 153.35M  3.39MB/s    eta 95s    "
     ]
    },
    {
     "name": "stdout",
     "output_type": "stream",
     "text": [
      "\r\n",
      "mat                  28%[====>               ] 154.05M  3.38MB/s    eta 95s    "
     ]
    },
    {
     "name": "stdout",
     "output_type": "stream",
     "text": [
      "\r\n",
      "at                   28%[====>               ] 154.70M  3.28MB/s    eta 95s    "
     ]
    },
    {
     "name": "stdout",
     "output_type": "stream",
     "text": [
      "\r\n",
      "t                    28%[====>               ] 155.37M  3.31MB/s    eta 95s    "
     ]
    },
    {
     "name": "stdout",
     "output_type": "stream",
     "text": [
      "\r\n",
      "                     28%[====>               ] 156.10M  3.32MB/s    eta 95s    "
     ]
    },
    {
     "name": "stdout",
     "output_type": "stream",
     "text": [
      "\r\n",
      "                  i  28%[====>               ] 156.84M  3.34MB/s    eta 95s    "
     ]
    },
    {
     "name": "stdout",
     "output_type": "stream",
     "text": [
      "\r\n",
      "                 im  28%[====>               ] 157.51M  3.30MB/s    eta 95s    "
     ]
    },
    {
     "name": "stdout",
     "output_type": "stream",
     "text": [
      "\r\n",
      "                ima  28%[====>               ] 158.21M  3.30MB/s    eta 95s    "
     ]
    },
    {
     "name": "stdout",
     "output_type": "stream",
     "text": [
      "\r\n",
      "               imag  28%[====>               ] 158.90M  3.29MB/s    eta 95s    "
     ]
    },
    {
     "name": "stdout",
     "output_type": "stream",
     "text": [
      "\r\n",
      "              image  29%[====>               ] 159.60M  3.28MB/s    eta 95s    "
     ]
    },
    {
     "name": "stdout",
     "output_type": "stream",
     "text": [
      "\r\n",
      "             imagen  29%[====>               ] 160.30M  3.24MB/s    eta 94s    "
     ]
    },
    {
     "name": "stdout",
     "output_type": "stream",
     "text": [
      "\r\n",
      "            imagene  29%[====>               ] 161.05M  3.26MB/s    eta 94s    "
     ]
    },
    {
     "name": "stdout",
     "output_type": "stream",
     "text": [
      "\r\n",
      "           imagenet  29%[====>               ] 161.77M  3.31MB/s    eta 94s    "
     ]
    },
    {
     "name": "stdout",
     "output_type": "stream",
     "text": [
      "\r\n",
      "          imagenet-  29%[====>               ] 162.48M  3.28MB/s    eta 94s    "
     ]
    },
    {
     "name": "stdout",
     "output_type": "stream",
     "text": [
      "\r\n",
      "         imagenet-v  29%[====>               ] 163.04M  3.20MB/s    eta 94s    "
     ]
    },
    {
     "name": "stdout",
     "output_type": "stream",
     "text": [
      "\r\n",
      "        imagenet-vg  29%[====>               ] 163.84M  3.28MB/s    eta 94s    "
     ]
    },
    {
     "name": "stdout",
     "output_type": "stream",
     "text": [
      "\r\n",
      "       imagenet-vgg  29%[====>               ] 164.41M  3.28MB/s    eta 94s    "
     ]
    },
    {
     "name": "stdout",
     "output_type": "stream",
     "text": [
      "\r\n",
      "      imagenet-vgg-  30%[=====>              ] 165.15M  3.26MB/s    eta 94s    "
     ]
    },
    {
     "name": "stdout",
     "output_type": "stream",
     "text": [
      "\r\n",
      "     imagenet-vgg-v  30%[=====>              ] 165.95M  3.31MB/s    eta 94s    "
     ]
    },
    {
     "name": "stdout",
     "output_type": "stream",
     "text": [
      "\r\n",
      "    imagenet-vgg-ve  30%[=====>              ] 166.65M  3.29MB/s    eta 94s    "
     ]
    },
    {
     "name": "stdout",
     "output_type": "stream",
     "text": [
      "\r\n",
      "   imagenet-vgg-ver  30%[=====>              ] 167.43M  3.36MB/s    eta 94s    "
     ]
    },
    {
     "name": "stdout",
     "output_type": "stream",
     "text": [
      "\r\n",
      "  imagenet-vgg-very  30%[=====>              ] 168.20M  3.33MB/s    eta 94s    "
     ]
    },
    {
     "name": "stdout",
     "output_type": "stream",
     "text": [
      "\r\n",
      " imagenet-vgg-veryd  30%[=====>              ] 169.01M  3.41MB/s    eta 94s    "
     ]
    },
    {
     "name": "stdout",
     "output_type": "stream",
     "text": [
      "\r\n",
      "imagenet-vgg-veryde  30%[=====>              ] 169.76M  3.38MB/s    eta 94s    "
     ]
    },
    {
     "name": "stdout",
     "output_type": "stream",
     "text": [
      "\r\n",
      "magenet-vgg-verydee  31%[=====>              ] 170.55M  3.43MB/s    eta 94s    "
     ]
    },
    {
     "name": "stdout",
     "output_type": "stream",
     "text": [
      "\r\n",
      "agenet-vgg-verydeep  31%[=====>              ] 171.35M  3.43MB/s    eta 93s    "
     ]
    },
    {
     "name": "stdout",
     "output_type": "stream",
     "text": [
      "\r\n",
      "genet-vgg-verydeep-  31%[=====>              ] 172.13M  3.48MB/s    eta 93s    "
     ]
    },
    {
     "name": "stdout",
     "output_type": "stream",
     "text": [
      "\r\n",
      "enet-vgg-verydeep-1  31%[=====>              ] 172.93M  3.49MB/s    eta 93s    "
     ]
    },
    {
     "name": "stdout",
     "output_type": "stream",
     "text": [
      "\r\n",
      "net-vgg-verydeep-19  31%[=====>              ] 173.74M  3.53MB/s    eta 93s    "
     ]
    },
    {
     "name": "stdout",
     "output_type": "stream",
     "text": [
      "\r\n",
      "et-vgg-verydeep-19.  31%[=====>              ] 174.51M  3.51MB/s    eta 93s    "
     ]
    },
    {
     "name": "stdout",
     "output_type": "stream",
     "text": [
      "\r\n",
      "t-vgg-verydeep-19.m  31%[=====>              ] 175.35M  3.63MB/s    eta 92s    "
     ]
    },
    {
     "name": "stdout",
     "output_type": "stream",
     "text": [
      "\r\n",
      "-vgg-verydeep-19.ma  32%[=====>              ] 176.20M  3.71MB/s    eta 92s    "
     ]
    },
    {
     "name": "stdout",
     "output_type": "stream",
     "text": [
      "\r\n",
      "vgg-verydeep-19.mat  32%[=====>              ] 177.01M  3.77MB/s    eta 92s    "
     ]
    },
    {
     "name": "stdout",
     "output_type": "stream",
     "text": [
      "\r\n",
      "gg-verydeep-19.mat   32%[=====>              ] 177.82M  3.80MB/s    eta 92s    "
     ]
    },
    {
     "name": "stdout",
     "output_type": "stream",
     "text": [
      "\r\n",
      "g-verydeep-19.mat    32%[=====>              ] 178.70M  3.87MB/s    eta 92s    "
     ]
    },
    {
     "name": "stdout",
     "output_type": "stream",
     "text": [
      "\r\n",
      "-verydeep-19.mat     32%[=====>              ] 179.52M  3.89MB/s    eta 91s    "
     ]
    },
    {
     "name": "stdout",
     "output_type": "stream",
     "text": [
      "\r\n",
      "verydeep-19.mat      32%[=====>              ] 180.35M  3.88MB/s    eta 91s    "
     ]
    },
    {
     "name": "stdout",
     "output_type": "stream",
     "text": [
      "\r\n",
      "erydeep-19.mat       32%[=====>              ] 181.04M  3.87MB/s    eta 91s    "
     ]
    },
    {
     "name": "stdout",
     "output_type": "stream",
     "text": [
      "\r\n",
      "rydeep-19.mat        33%[=====>              ] 181.87M  3.88MB/s    eta 91s    "
     ]
    },
    {
     "name": "stdout",
     "output_type": "stream",
     "text": [
      "\r\n",
      "ydeep-19.mat         33%[=====>              ] 182.51M  3.86MB/s    eta 91s    "
     ]
    },
    {
     "name": "stdout",
     "output_type": "stream",
     "text": [
      "\r\n",
      "deep-19.mat          33%[=====>              ] 183.01M  3.74MB/s    eta 91s    "
     ]
    },
    {
     "name": "stdout",
     "output_type": "stream",
     "text": [
      "\r\n",
      "eep-19.mat           33%[=====>              ] 183.76M  3.75MB/s    eta 91s    "
     ]
    },
    {
     "name": "stdout",
     "output_type": "stream",
     "text": [
      "\r\n",
      "ep-19.mat            33%[=====>              ] 184.51M  3.69MB/s    eta 91s    "
     ]
    },
    {
     "name": "stdout",
     "output_type": "stream",
     "text": [
      "\r\n",
      "p-19.mat             33%[=====>              ] 185.26M  3.67MB/s    eta 91s    "
     ]
    },
    {
     "name": "stdout",
     "output_type": "stream",
     "text": [
      "\r\n",
      "-19.mat              33%[=====>              ] 186.02M  3.68MB/s    eta 91s    "
     ]
    },
    {
     "name": "stdout",
     "output_type": "stream",
     "text": [
      "\r\n",
      "19.mat               33%[=====>              ] 186.77M  3.66MB/s    eta 90s    "
     ]
    },
    {
     "name": "stdout",
     "output_type": "stream",
     "text": [
      "\r\n",
      "9.mat                34%[=====>              ] 187.59M  3.64MB/s    eta 90s    "
     ]
    },
    {
     "name": "stdout",
     "output_type": "stream",
     "text": [
      "\r\n",
      ".mat                 34%[=====>              ] 188.37M  3.63MB/s    eta 90s    "
     ]
    },
    {
     "name": "stdout",
     "output_type": "stream",
     "text": [
      "\r\n",
      "mat                  34%[=====>              ] 189.23M  3.63MB/s    eta 90s    "
     ]
    },
    {
     "name": "stdout",
     "output_type": "stream",
     "text": [
      "\r\n",
      "at                   34%[=====>              ] 190.05M  3.65MB/s    eta 90s    "
     ]
    },
    {
     "name": "stdout",
     "output_type": "stream",
     "text": [
      "\r\n",
      "t                    34%[=====>              ] 190.90M  3.62MB/s    eta 89s    "
     ]
    },
    {
     "name": "stdout",
     "output_type": "stream",
     "text": [
      "\r\n",
      "                     34%[=====>              ] 191.71M  3.61MB/s    eta 89s    "
     ]
    },
    {
     "name": "stdout",
     "output_type": "stream",
     "text": [
      "\r\n",
      "                  i  35%[======>             ] 192.55M  3.61MB/s    eta 89s    "
     ]
    },
    {
     "name": "stdout",
     "output_type": "stream",
     "text": [
      "\r\n",
      "                 im  35%[======>             ] 193.41M  3.63MB/s    eta 89s    "
     ]
    },
    {
     "name": "stdout",
     "output_type": "stream",
     "text": [
      "\r\n",
      "                ima  35%[======>             ] 194.26M  3.71MB/s    eta 89s    "
     ]
    },
    {
     "name": "stdout",
     "output_type": "stream",
     "text": [
      "\r\n",
      "               imag  35%[======>             ] 195.13M  3.74MB/s    eta 88s    "
     ]
    },
    {
     "name": "stdout",
     "output_type": "stream",
     "text": [
      "\r\n",
      "              image  35%[======>             ] 195.82M  3.78MB/s    eta 88s    "
     ]
    },
    {
     "name": "stdout",
     "output_type": "stream",
     "text": [
      "\r\n",
      "             imagen  35%[======>             ] 196.44M  3.77MB/s    eta 88s    "
     ]
    },
    {
     "name": "stdout",
     "output_type": "stream",
     "text": [
      "\r\n",
      "            imagene  35%[======>             ] 197.27M  3.82MB/s    eta 88s    "
     ]
    },
    {
     "name": "stdout",
     "output_type": "stream",
     "text": [
      "\r\n",
      "           imagenet  36%[======>             ] 198.10M  3.86MB/s    eta 88s    "
     ]
    },
    {
     "name": "stdout",
     "output_type": "stream",
     "text": [
      "\r\n",
      "          imagenet-  36%[======>             ] 199.02M  3.88MB/s    eta 87s    "
     ]
    },
    {
     "name": "stdout",
     "output_type": "stream",
     "text": [
      "\r\n",
      "         imagenet-v  36%[======>             ] 199.95M  3.97MB/s    eta 87s    "
     ]
    },
    {
     "name": "stdout",
     "output_type": "stream",
     "text": [
      "\r\n",
      "        imagenet-vg  36%[======>             ] 200.80M  4.00MB/s    eta 87s    "
     ]
    },
    {
     "name": "stdout",
     "output_type": "stream",
     "text": [
      "\r\n",
      "       imagenet-vgg  36%[======>             ] 201.65M  4.02MB/s    eta 87s    "
     ]
    },
    {
     "name": "stdout",
     "output_type": "stream",
     "text": [
      "\r\n",
      "      imagenet-vgg-  36%[======>             ] 202.47M  3.99MB/s    eta 87s    "
     ]
    },
    {
     "name": "stdout",
     "output_type": "stream",
     "text": [
      "\r\n",
      "     imagenet-vgg-v  37%[======>             ] 203.30M  4.01MB/s    eta 86s    "
     ]
    },
    {
     "name": "stdout",
     "output_type": "stream",
     "text": [
      "\r\n",
      "    imagenet-vgg-ve  37%[======>             ] 204.18M  4.00MB/s    eta 86s    "
     ]
    },
    {
     "name": "stdout",
     "output_type": "stream",
     "text": [
      "\r\n",
      "   imagenet-vgg-ver  37%[======>             ] 205.07M  4.05MB/s    eta 86s    "
     ]
    },
    {
     "name": "stdout",
     "output_type": "stream",
     "text": [
      "\r\n",
      "  imagenet-vgg-very  37%[======>             ] 205.95M  4.04MB/s    eta 86s    "
     ]
    },
    {
     "name": "stdout",
     "output_type": "stream",
     "text": [
      "\r\n",
      " imagenet-vgg-veryd  37%[======>             ] 206.79M  4.03MB/s    eta 86s    "
     ]
    },
    {
     "name": "stdout",
     "output_type": "stream",
     "text": [
      "\r\n",
      "imagenet-vgg-veryde  37%[======>             ] 207.62M  4.06MB/s    eta 85s    "
     ]
    },
    {
     "name": "stdout",
     "output_type": "stream",
     "text": [
      "\r\n",
      "magenet-vgg-verydee  37%[======>             ] 208.52M  4.04MB/s    eta 85s    "
     ]
    },
    {
     "name": "stdout",
     "output_type": "stream",
     "text": [
      "\r\n",
      "agenet-vgg-verydeep  38%[======>             ] 209.37M  4.14MB/s    eta 85s    "
     ]
    },
    {
     "name": "stdout",
     "output_type": "stream",
     "text": [
      "\r\n",
      "genet-vgg-verydeep-  38%[======>             ] 210.23M  4.18MB/s    eta 85s    "
     ]
    },
    {
     "name": "stdout",
     "output_type": "stream",
     "text": [
      "\r\n",
      "enet-vgg-verydeep-1  38%[======>             ] 211.12M  4.17MB/s    eta 85s    "
     ]
    },
    {
     "name": "stdout",
     "output_type": "stream",
     "text": [
      "\r\n",
      "net-vgg-verydeep-19  38%[======>             ] 211.98M  4.24MB/s    eta 84s    "
     ]
    },
    {
     "name": "stdout",
     "output_type": "stream",
     "text": [
      "\r\n",
      "et-vgg-verydeep-19.  38%[======>             ] 212.84M  4.20MB/s    eta 84s    "
     ]
    },
    {
     "name": "stdout",
     "output_type": "stream",
     "text": [
      "\r\n",
      "t-vgg-verydeep-19.m  38%[======>             ] 213.73M  4.25MB/s    eta 84s    "
     ]
    },
    {
     "name": "stdout",
     "output_type": "stream",
     "text": [
      "\r\n",
      "-vgg-verydeep-19.ma  39%[======>             ] 214.60M  4.24MB/s    eta 84s    "
     ]
    },
    {
     "name": "stdout",
     "output_type": "stream",
     "text": [
      "\r\n",
      "vgg-verydeep-19.mat  39%[======>             ] 215.46M  4.18MB/s    eta 84s    "
     ]
    },
    {
     "name": "stdout",
     "output_type": "stream",
     "text": [
      "\r\n",
      "gg-verydeep-19.mat   39%[======>             ] 216.09M  4.12MB/s    eta 83s    "
     ]
    },
    {
     "name": "stdout",
     "output_type": "stream",
     "text": [
      "\r\n",
      "g-verydeep-19.mat    39%[======>             ] 216.71M  4.00MB/s    eta 83s    "
     ]
    },
    {
     "name": "stdout",
     "output_type": "stream",
     "text": [
      "\r\n",
      "-verydeep-19.mat     39%[======>             ] 217.54M  3.94MB/s    eta 83s    "
     ]
    },
    {
     "name": "stdout",
     "output_type": "stream",
     "text": [
      "\r\n",
      "verydeep-19.mat      39%[======>             ] 218.30M  3.91MB/s    eta 83s    "
     ]
    },
    {
     "name": "stdout",
     "output_type": "stream",
     "text": [
      "\r\n",
      "erydeep-19.mat       39%[======>             ] 219.02M  3.89MB/s    eta 83s    "
     ]
    },
    {
     "name": "stdout",
     "output_type": "stream",
     "text": [
      "\r\n",
      "rydeep-19.mat        40%[=======>            ] 219.88M  3.89MB/s    eta 82s    "
     ]
    },
    {
     "name": "stdout",
     "output_type": "stream",
     "text": [
      "\r\n",
      "ydeep-19.mat         40%[=======>            ] 220.68M  3.84MB/s    eta 82s    "
     ]
    },
    {
     "name": "stdout",
     "output_type": "stream",
     "text": [
      "\r\n",
      "deep-19.mat          40%[=======>            ] 221.48M  3.83MB/s    eta 82s    "
     ]
    },
    {
     "name": "stdout",
     "output_type": "stream",
     "text": [
      "\r\n",
      "eep-19.mat           40%[=======>            ] 222.30M  3.81MB/s    eta 82s    "
     ]
    },
    {
     "name": "stdout",
     "output_type": "stream",
     "text": [
      "\r\n",
      "ep-19.mat            40%[=======>            ] 223.13M  3.77MB/s    eta 82s    "
     ]
    },
    {
     "name": "stdout",
     "output_type": "stream",
     "text": [
      "\r\n",
      "p-19.mat             40%[=======>            ] 224.04M  3.80MB/s    eta 81s    "
     ]
    },
    {
     "name": "stdout",
     "output_type": "stream",
     "text": [
      "\r\n",
      "-19.mat              40%[=======>            ] 224.98M  3.81MB/s    eta 81s    "
     ]
    },
    {
     "name": "stdout",
     "output_type": "stream",
     "text": [
      "\r\n",
      "19.mat               41%[=======>            ] 225.84M  3.79MB/s    eta 81s    "
     ]
    },
    {
     "name": "stdout",
     "output_type": "stream",
     "text": [
      "\r\n",
      "9.mat                41%[=======>            ] 226.73M  3.80MB/s    eta 81s    "
     ]
    },
    {
     "name": "stdout",
     "output_type": "stream",
     "text": [
      "\r\n",
      ".mat                 41%[=======>            ] 227.60M  3.81MB/s    eta 81s    "
     ]
    },
    {
     "name": "stdout",
     "output_type": "stream",
     "text": [
      "\r\n",
      "mat                  41%[=======>            ] 228.49M  3.88MB/s    eta 80s    "
     ]
    },
    {
     "name": "stdout",
     "output_type": "stream",
     "text": [
      "\r\n",
      "at                   41%[=======>            ] 229.38M  3.96MB/s    eta 80s    "
     ]
    },
    {
     "name": "stdout",
     "output_type": "stream",
     "text": [
      "\r\n",
      "t                    41%[=======>            ] 229.98M  3.89MB/s    eta 80s    "
     ]
    },
    {
     "name": "stdout",
     "output_type": "stream",
     "text": [
      "\r\n",
      "                     42%[=======>            ] 230.90M  3.97MB/s    eta 80s    "
     ]
    },
    {
     "name": "stdout",
     "output_type": "stream",
     "text": [
      "\r\n",
      "                  i  42%[=======>            ] 231.52M  3.92MB/s    eta 80s    "
     ]
    },
    {
     "name": "stdout",
     "output_type": "stream",
     "text": [
      "\r\n",
      "                 im  42%[=======>            ] 232.20M  3.89MB/s    eta 79s    "
     ]
    },
    {
     "name": "stdout",
     "output_type": "stream",
     "text": [
      "\r\n",
      "                ima  42%[=======>            ] 232.87M  3.86MB/s    eta 79s    "
     ]
    },
    {
     "name": "stdout",
     "output_type": "stream",
     "text": [
      "\r\n",
      "               imag  42%[=======>            ] 233.60M  3.84MB/s    eta 79s    "
     ]
    },
    {
     "name": "stdout",
     "output_type": "stream",
     "text": [
      "\r\n",
      "              image  42%[=======>            ] 234.30M  3.81MB/s    eta 79s    "
     ]
    },
    {
     "name": "stdout",
     "output_type": "stream",
     "text": [
      "\r\n",
      "             imagen  42%[=======>            ] 234.99M  3.76MB/s    eta 79s    "
     ]
    },
    {
     "name": "stdout",
     "output_type": "stream",
     "text": [
      "\r\n",
      "            imagene  42%[=======>            ] 235.70M  3.74MB/s    eta 78s    "
     ]
    },
    {
     "name": "stdout",
     "output_type": "stream",
     "text": [
      "\r\n",
      "           imagenet  43%[=======>            ] 236.46M  3.70MB/s    eta 78s    "
     ]
    },
    {
     "name": "stdout",
     "output_type": "stream",
     "text": [
      "\r\n",
      "          imagenet-  43%[=======>            ] 237.21M  3.62MB/s    eta 78s    "
     ]
    },
    {
     "name": "stdout",
     "output_type": "stream",
     "text": [
      "\r\n",
      "         imagenet-v  43%[=======>            ] 238.01M  3.63MB/s    eta 78s    "
     ]
    },
    {
     "name": "stdout",
     "output_type": "stream",
     "text": [
      "\r\n",
      "        imagenet-vg  43%[=======>            ] 238.77M  3.59MB/s    eta 78s    "
     ]
    },
    {
     "name": "stdout",
     "output_type": "stream",
     "text": [
      "\r\n",
      "       imagenet-vgg  43%[=======>            ] 239.51M  3.51MB/s    eta 77s    "
     ]
    },
    {
     "name": "stdout",
     "output_type": "stream",
     "text": [
      "\r\n",
      "      imagenet-vgg-  43%[=======>            ] 240.34M  3.49MB/s    eta 77s    "
     ]
    },
    {
     "name": "stdout",
     "output_type": "stream",
     "text": [
      "\r\n",
      "     imagenet-vgg-v  43%[=======>            ] 241.12M  3.53MB/s    eta 77s    "
     ]
    },
    {
     "name": "stdout",
     "output_type": "stream",
     "text": [
      "\r\n",
      "    imagenet-vgg-ve  44%[=======>            ] 241.95M  3.60MB/s    eta 77s    "
     ]
    },
    {
     "name": "stdout",
     "output_type": "stream",
     "text": [
      "\r\n",
      "   imagenet-vgg-ver  44%[=======>            ] 242.71M  3.55MB/s    eta 77s    "
     ]
    },
    {
     "name": "stdout",
     "output_type": "stream",
     "text": [
      "\r\n",
      "  imagenet-vgg-very  44%[=======>            ] 243.51M  3.61MB/s    eta 77s    "
     ]
    },
    {
     "name": "stdout",
     "output_type": "stream",
     "text": [
      "\r\n",
      " imagenet-vgg-veryd  44%[=======>            ] 244.27M  3.63MB/s    eta 77s    "
     ]
    },
    {
     "name": "stdout",
     "output_type": "stream",
     "text": [
      "\r\n",
      "imagenet-vgg-veryde  44%[=======>            ] 245.09M  3.69MB/s    eta 77s    "
     ]
    },
    {
     "name": "stdout",
     "output_type": "stream",
     "text": [
      "\r\n",
      "magenet-vgg-verydee  44%[=======>            ] 245.70M  3.62MB/s    eta 77s    "
     ]
    },
    {
     "name": "stdout",
     "output_type": "stream",
     "text": [
      "\r\n",
      "agenet-vgg-verydeep  44%[=======>            ] 246.29M  3.57MB/s    eta 77s    "
     ]
    },
    {
     "name": "stdout",
     "output_type": "stream",
     "text": [
      "\r\n",
      "genet-vgg-verydeep-  44%[=======>            ] 247.07M  3.61MB/s    eta 76s    "
     ]
    },
    {
     "name": "stdout",
     "output_type": "stream",
     "text": [
      "\r\n",
      "enet-vgg-verydeep-1  45%[========>           ] 247.77M  3.59MB/s    eta 76s    "
     ]
    },
    {
     "name": "stdout",
     "output_type": "stream",
     "text": [
      "\r\n",
      "net-vgg-verydeep-19  45%[========>           ] 248.54M  3.60MB/s    eta 76s    "
     ]
    },
    {
     "name": "stdout",
     "output_type": "stream",
     "text": [
      "\r\n",
      "et-vgg-verydeep-19.  45%[========>           ] 249.35M  3.62MB/s    eta 76s    "
     ]
    },
    {
     "name": "stdout",
     "output_type": "stream",
     "text": [
      "\r\n",
      "t-vgg-verydeep-19.m  45%[========>           ] 250.24M  3.66MB/s    eta 76s    "
     ]
    },
    {
     "name": "stdout",
     "output_type": "stream",
     "text": [
      "\r\n",
      "-vgg-verydeep-19.ma  45%[========>           ] 251.09M  3.70MB/s    eta 75s    "
     ]
    },
    {
     "name": "stdout",
     "output_type": "stream",
     "text": [
      "\r\n",
      "vgg-verydeep-19.mat  45%[========>           ] 251.90M  3.66MB/s    eta 75s    "
     ]
    },
    {
     "name": "stdout",
     "output_type": "stream",
     "text": [
      "\r\n",
      "gg-verydeep-19.mat   46%[========>           ] 252.71M  3.66MB/s    eta 75s    "
     ]
    },
    {
     "name": "stdout",
     "output_type": "stream",
     "text": [
      "\r\n",
      "g-verydeep-19.mat    46%[========>           ] 253.57M  3.73MB/s    eta 75s    "
     ]
    },
    {
     "name": "stdout",
     "output_type": "stream",
     "text": [
      "\r\n",
      "-verydeep-19.mat     46%[========>           ] 254.40M  3.71MB/s    eta 75s    "
     ]
    },
    {
     "name": "stdout",
     "output_type": "stream",
     "text": [
      "\r\n",
      "verydeep-19.mat      46%[========>           ] 255.34M  3.80MB/s    eta 74s    "
     ]
    },
    {
     "name": "stdout",
     "output_type": "stream",
     "text": [
      "\r\n",
      "erydeep-19.mat       46%[========>           ] 256.15M  3.75MB/s    eta 74s    "
     ]
    },
    {
     "name": "stdout",
     "output_type": "stream",
     "text": [
      "\r\n",
      "rydeep-19.mat        46%[========>           ] 256.90M  3.72MB/s    eta 74s    "
     ]
    },
    {
     "name": "stdout",
     "output_type": "stream",
     "text": [
      "\r\n",
      "ydeep-19.mat         46%[========>           ] 257.35M  3.65MB/s    eta 74s    "
     ]
    },
    {
     "name": "stdout",
     "output_type": "stream",
     "text": [
      "\r\n",
      "deep-19.mat          46%[========>           ] 257.79M  3.58MB/s    eta 74s    "
     ]
    },
    {
     "name": "stdout",
     "output_type": "stream",
     "text": [
      "\r\n",
      "eep-19.mat           47%[========>           ] 258.24M  3.53MB/s    eta 73s    "
     ]
    },
    {
     "name": "stdout",
     "output_type": "stream",
     "text": [
      "\r"
     ]
    },
    {
     "name": "stdout",
     "output_type": "stream",
     "text": [
      "ep-19.mat            47%[========>           ] 258.74M  3.47MB/s    eta 73s    "
     ]
    },
    {
     "name": "stdout",
     "output_type": "stream",
     "text": [
      "\r\n",
      "p-19.mat             47%[========>           ] 259.20M  3.41MB/s    eta 73s    "
     ]
    },
    {
     "name": "stdout",
     "output_type": "stream",
     "text": [
      "\r\n",
      "-19.mat              47%[========>           ] 259.60M  3.26MB/s    eta 73s    "
     ]
    },
    {
     "name": "stdout",
     "output_type": "stream",
     "text": [
      "\r\n",
      "19.mat               47%[========>           ] 260.18M  3.20MB/s    eta 73s    "
     ]
    },
    {
     "name": "stdout",
     "output_type": "stream",
     "text": [
      "\r\n",
      "9.mat                47%[========>           ] 260.68M  3.12MB/s    eta 73s    "
     ]
    },
    {
     "name": "stdout",
     "output_type": "stream",
     "text": [
      "\r\n",
      ".mat                 47%[========>           ] 261.18M  2.96MB/s    eta 73s    "
     ]
    },
    {
     "name": "stdout",
     "output_type": "stream",
     "text": [
      "\r\n",
      "mat                  47%[========>           ] 261.73M  2.86MB/s    eta 73s    "
     ]
    },
    {
     "name": "stdout",
     "output_type": "stream",
     "text": [
      "\r\n",
      "at                   47%[========>           ] 262.27M  2.82MB/s    eta 73s    "
     ]
    },
    {
     "name": "stdout",
     "output_type": "stream",
     "text": [
      "\r\n",
      "t                    47%[========>           ] 262.80M  2.65MB/s    eta 73s    "
     ]
    },
    {
     "name": "stdout",
     "output_type": "stream",
     "text": [
      "\r\n",
      "                     47%[========>           ] 263.32M  2.56MB/s    eta 73s    "
     ]
    },
    {
     "name": "stdout",
     "output_type": "stream",
     "text": [
      "\r\n",
      "                  i  48%[========>           ] 263.90M  2.51MB/s    eta 73s    "
     ]
    },
    {
     "name": "stdout",
     "output_type": "stream",
     "text": [
      "\r\n",
      "                 im  48%[========>           ] 264.40M  2.43MB/s    eta 73s    "
     ]
    },
    {
     "name": "stdout",
     "output_type": "stream",
     "text": [
      "\r\n",
      "                ima  48%[========>           ] 264.91M  2.40MB/s    eta 73s    "
     ]
    },
    {
     "name": "stdout",
     "output_type": "stream",
     "text": [
      "\r\n",
      "               imag  48%[========>           ] 265.45M  2.39MB/s    eta 73s    "
     ]
    },
    {
     "name": "stdout",
     "output_type": "stream",
     "text": [
      "\r\n",
      "              image  48%[========>           ] 265.99M  2.43MB/s    eta 73s    "
     ]
    },
    {
     "name": "stdout",
     "output_type": "stream",
     "text": [
      "\r\n",
      "             imagen  48%[========>           ] 266.59M  2.48MB/s    eta 73s    "
     ]
    },
    {
     "name": "stdout",
     "output_type": "stream",
     "text": [
      "\r\n",
      "            imagene  48%[========>           ] 267.07M  2.49MB/s    eta 73s    "
     ]
    },
    {
     "name": "stdout",
     "output_type": "stream",
     "text": [
      "\r\n",
      "           imagenet  48%[========>           ] 267.70M  2.53MB/s    eta 73s    "
     ]
    },
    {
     "name": "stdout",
     "output_type": "stream",
     "text": [
      "\r\n",
      "          imagenet-  48%[========>           ] 268.26M  2.58MB/s    eta 73s    "
     ]
    },
    {
     "name": "stdout",
     "output_type": "stream",
     "text": [
      "\r\n",
      "         imagenet-v  48%[========>           ] 268.84M  2.60MB/s    eta 72s    "
     ]
    },
    {
     "name": "stdout",
     "output_type": "stream",
     "text": [
      "\r\n",
      "        imagenet-vg  49%[========>           ] 269.41M  2.59MB/s    eta 72s    "
     ]
    },
    {
     "name": "stdout",
     "output_type": "stream",
     "text": [
      "\r\n",
      "       imagenet-vgg  49%[========>           ] 269.99M  2.64MB/s    eta 72s    "
     ]
    },
    {
     "name": "stdout",
     "output_type": "stream",
     "text": [
      "\r\n",
      "      imagenet-vgg-  49%[========>           ] 270.62M  2.68MB/s    eta 72s    "
     ]
    },
    {
     "name": "stdout",
     "output_type": "stream",
     "text": [
      "\r\n",
      "     imagenet-vgg-v  49%[========>           ] 271.15M  2.66MB/s    eta 72s    "
     ]
    },
    {
     "name": "stdout",
     "output_type": "stream",
     "text": [
      "\r\n",
      "    imagenet-vgg-ve  49%[========>           ] 271.70M  2.70MB/s    eta 72s    "
     ]
    },
    {
     "name": "stdout",
     "output_type": "stream",
     "text": [
      "\r\n",
      "   imagenet-vgg-ver  49%[========>           ] 272.29M  2.71MB/s    eta 72s    "
     ]
    },
    {
     "name": "stdout",
     "output_type": "stream",
     "text": [
      "\r\n",
      "  imagenet-vgg-very  49%[========>           ] 272.90M  2.70MB/s    eta 72s    "
     ]
    },
    {
     "name": "stdout",
     "output_type": "stream",
     "text": [
      "\r\n",
      " imagenet-vgg-veryd  49%[========>           ] 273.57M  2.76MB/s    eta 72s    "
     ]
    },
    {
     "name": "stdout",
     "output_type": "stream",
     "text": [
      "\r\n",
      "imagenet-vgg-veryde  49%[========>           ] 274.12M  2.76MB/s    eta 72s    "
     ]
    },
    {
     "name": "stdout",
     "output_type": "stream",
     "text": [
      "\r\n",
      "magenet-vgg-verydee  50%[=========>          ] 274.82M  2.81MB/s    eta 71s    "
     ]
    },
    {
     "name": "stdout",
     "output_type": "stream",
     "text": [
      "\r\n",
      "agenet-vgg-verydeep  50%[=========>          ] 275.48M  2.84MB/s    eta 71s    "
     ]
    },
    {
     "name": "stdout",
     "output_type": "stream",
     "text": [
      "\r\n",
      "genet-vgg-verydeep-  50%[=========>          ] 276.16M  2.89MB/s    eta 71s    "
     ]
    },
    {
     "name": "stdout",
     "output_type": "stream",
     "text": [
      "\r\n",
      "enet-vgg-verydeep-1  50%[=========>          ] 276.80M  2.91MB/s    eta 71s    "
     ]
    },
    {
     "name": "stdout",
     "output_type": "stream",
     "text": [
      "\r\n",
      "net-vgg-verydeep-19  50%[=========>          ] 277.48M  2.95MB/s    eta 71s    "
     ]
    },
    {
     "name": "stdout",
     "output_type": "stream",
     "text": [
      "\r\n",
      "et-vgg-verydeep-19.  50%[=========>          ] 278.24M  3.00MB/s    eta 71s    "
     ]
    },
    {
     "name": "stdout",
     "output_type": "stream",
     "text": [
      "\r\n",
      "t-vgg-verydeep-19.m  50%[=========>          ] 278.91M  3.01MB/s    eta 71s    "
     ]
    },
    {
     "name": "stdout",
     "output_type": "stream",
     "text": [
      "\r\n",
      "-vgg-verydeep-19.ma  50%[=========>          ] 279.63M  3.05MB/s    eta 71s    "
     ]
    },
    {
     "name": "stdout",
     "output_type": "stream",
     "text": [
      "\r\n",
      "vgg-verydeep-19.mat  51%[=========>          ] 280.34M  3.07MB/s    eta 71s    "
     ]
    },
    {
     "name": "stdout",
     "output_type": "stream",
     "text": [
      "\r\n",
      "gg-verydeep-19.mat   51%[=========>          ] 281.09M  3.12MB/s    eta 71s    "
     ]
    },
    {
     "name": "stdout",
     "output_type": "stream",
     "text": [
      "\r\n",
      "g-verydeep-19.mat    51%[=========>          ] 281.85M  3.18MB/s    eta 70s    "
     ]
    },
    {
     "name": "stdout",
     "output_type": "stream",
     "text": [
      "\r\n",
      "-verydeep-19.mat     51%[=========>          ] 282.63M  3.24MB/s    eta 70s    "
     ]
    },
    {
     "name": "stdout",
     "output_type": "stream",
     "text": [
      "\r\n",
      "verydeep-19.mat      51%[=========>          ] 283.40M  3.32MB/s    eta 70s    "
     ]
    },
    {
     "name": "stdout",
     "output_type": "stream",
     "text": [
      "\r\n",
      "erydeep-19.mat       51%[=========>          ] 284.21M  3.41MB/s    eta 70s    "
     ]
    },
    {
     "name": "stdout",
     "output_type": "stream",
     "text": [
      "\r\n",
      "rydeep-19.mat        51%[=========>          ] 285.06M  3.49MB/s    eta 70s    "
     ]
    },
    {
     "name": "stdout",
     "output_type": "stream",
     "text": [
      "\r\n",
      "ydeep-19.mat         52%[=========>          ] 285.98M  3.57MB/s    eta 69s    "
     ]
    },
    {
     "name": "stdout",
     "output_type": "stream",
     "text": [
      "\r\n",
      "deep-19.mat          52%[=========>          ] 286.95M  3.67MB/s    eta 69s    "
     ]
    },
    {
     "name": "stdout",
     "output_type": "stream",
     "text": [
      "\r\n",
      "eep-19.mat           52%[=========>          ] 287.95M  3.76MB/s    eta 69s    "
     ]
    },
    {
     "name": "stdout",
     "output_type": "stream",
     "text": [
      "\r\n",
      "ep-19.mat            52%[=========>          ] 288.91M  3.81MB/s    eta 69s    "
     ]
    },
    {
     "name": "stdout",
     "output_type": "stream",
     "text": [
      "\r\n",
      "p-19.mat             52%[=========>          ] 289.82M  3.87MB/s    eta 69s    "
     ]
    },
    {
     "name": "stdout",
     "output_type": "stream",
     "text": [
      "\r\n",
      "-19.mat              52%[=========>          ] 290.43M  3.83MB/s    eta 67s    "
     ]
    },
    {
     "name": "stdout",
     "output_type": "stream",
     "text": [
      "\r\n",
      "19.mat               53%[=========>          ] 291.23M  3.85MB/s    eta 67s    "
     ]
    },
    {
     "name": "stdout",
     "output_type": "stream",
     "text": [
      "\r\n",
      "9.mat                53%[=========>          ] 292.04M  3.86MB/s    eta 67s    "
     ]
    },
    {
     "name": "stdout",
     "output_type": "stream",
     "text": [
      "\r\n",
      ".mat                 53%[=========>          ] 292.93M  3.92MB/s    eta 67s    "
     ]
    },
    {
     "name": "stdout",
     "output_type": "stream",
     "text": [
      "\r\n",
      "mat                  53%[=========>          ] 293.82M  3.99MB/s    eta 67s    "
     ]
    },
    {
     "name": "stdout",
     "output_type": "stream",
     "text": [
      "\r\n",
      "at                   53%[=========>          ] 294.77M  4.06MB/s    eta 66s    "
     ]
    },
    {
     "name": "stdout",
     "output_type": "stream",
     "text": [
      "\r\n",
      "t                    53%[=========>          ] 295.63M  4.09MB/s    eta 66s    "
     ]
    },
    {
     "name": "stdout",
     "output_type": "stream",
     "text": [
      "\r\n",
      "                     53%[=========>          ] 296.54M  4.14MB/s    eta 66s    "
     ]
    },
    {
     "name": "stdout",
     "output_type": "stream",
     "text": [
      "\r\n",
      "                  i  54%[=========>          ] 297.59M  4.23MB/s    eta 66s    "
     ]
    },
    {
     "name": "stdout",
     "output_type": "stream",
     "text": [
      "\r\n",
      "                 im  54%[=========>          ] 298.57M  4.27MB/s    eta 66s    "
     ]
    },
    {
     "name": "stdout",
     "output_type": "stream",
     "text": [
      "\r\n",
      "                ima  54%[=========>          ] 299.55M  4.28MB/s    eta 65s    "
     ]
    },
    {
     "name": "stdout",
     "output_type": "stream",
     "text": [
      "\r\n",
      "               imag  54%[=========>          ] 300.54M  4.30MB/s    eta 65s    "
     ]
    },
    {
     "name": "stdout",
     "output_type": "stream",
     "text": [
      "\r\n",
      "              image  54%[=========>          ] 301.57M  4.32MB/s    eta 65s    "
     ]
    },
    {
     "name": "stdout",
     "output_type": "stream",
     "text": [
      "\r\n",
      "             imagen  55%[==========>         ] 302.59M  4.34MB/s    eta 65s    "
     ]
    },
    {
     "name": "stdout",
     "output_type": "stream",
     "text": [
      "\r\n",
      "            imagene  55%[==========>         ] 303.59M  4.37MB/s    eta 65s    "
     ]
    },
    {
     "name": "stdout",
     "output_type": "stream",
     "text": [
      "\r\n",
      "           imagenet  55%[==========>         ] 304.62M  4.48MB/s    eta 63s    "
     ]
    },
    {
     "name": "stdout",
     "output_type": "stream",
     "text": [
      "\r\n",
      "          imagenet-  55%[==========>         ] 305.59M  4.57MB/s    eta 63s    "
     ]
    },
    {
     "name": "stdout",
     "output_type": "stream",
     "text": [
      "\r\n",
      "         imagenet-v  55%[==========>         ] 306.62M  4.66MB/s    eta 63s    "
     ]
    },
    {
     "name": "stdout",
     "output_type": "stream",
     "text": [
      "\r\n",
      "        imagenet-vg  56%[==========>         ] 307.70M  4.82MB/s    eta 63s    "
     ]
    },
    {
     "name": "stdout",
     "output_type": "stream",
     "text": [
      "\r\n",
      "       imagenet-vgg  56%[==========>         ] 308.46M  4.72MB/s    eta 63s    "
     ]
    },
    {
     "name": "stdout",
     "output_type": "stream",
     "text": [
      "\r\n",
      "      imagenet-vgg-  56%[==========>         ] 309.52M  4.81MB/s    eta 62s    "
     ]
    },
    {
     "name": "stdout",
     "output_type": "stream",
     "text": [
      "\r\n",
      "     imagenet-vgg-v  56%[==========>         ] 310.31M  4.75MB/s    eta 62s    "
     ]
    },
    {
     "name": "stdout",
     "output_type": "stream",
     "text": [
      "\r\n",
      "    imagenet-vgg-ve  56%[==========>         ] 310.95M  4.70MB/s    eta 62s    "
     ]
    },
    {
     "name": "stdout",
     "output_type": "stream",
     "text": [
      "\r\n",
      "   imagenet-vgg-ver  56%[==========>         ] 311.63M  4.61MB/s    eta 62s    "
     ]
    },
    {
     "name": "stdout",
     "output_type": "stream",
     "text": [
      "\r\n",
      "  imagenet-vgg-very  56%[==========>         ] 312.55M  4.62MB/s    eta 62s    "
     ]
    },
    {
     "name": "stdout",
     "output_type": "stream",
     "text": [
      "\r\n",
      " imagenet-vgg-veryd  57%[==========>         ] 313.41M  4.56MB/s    eta 61s    "
     ]
    },
    {
     "name": "stdout",
     "output_type": "stream",
     "text": [
      "\r\n",
      "imagenet-vgg-veryde  57%[==========>         ] 314.30M  4.51MB/s    eta 61s    "
     ]
    },
    {
     "name": "stdout",
     "output_type": "stream",
     "text": [
      "\r\n",
      "magenet-vgg-verydee  57%[==========>         ] 315.24M  4.48MB/s    eta 61s    "
     ]
    },
    {
     "name": "stdout",
     "output_type": "stream",
     "text": [
      "\r\n",
      "agenet-vgg-verydeep  57%[==========>         ] 316.20M  4.49MB/s    eta 61s    "
     ]
    },
    {
     "name": "stdout",
     "output_type": "stream",
     "text": [
      "\r\n",
      "genet-vgg-verydeep-  57%[==========>         ] 317.16M  4.47MB/s    eta 61s    "
     ]
    },
    {
     "name": "stdout",
     "output_type": "stream",
     "text": [
      "\r\n",
      "enet-vgg-verydeep-1  57%[==========>         ] 318.18M  4.48MB/s    eta 59s    "
     ]
    },
    {
     "name": "stdout",
     "output_type": "stream",
     "text": [
      "\r\n",
      "net-vgg-verydeep-19  58%[==========>         ] 319.13M  4.43MB/s    eta 59s    "
     ]
    },
    {
     "name": "stdout",
     "output_type": "stream",
     "text": [
      "\r\n",
      "et-vgg-verydeep-19.  58%[==========>         ] 320.10M  4.44MB/s    eta 59s    "
     ]
    },
    {
     "name": "stdout",
     "output_type": "stream",
     "text": [
      "\r\n",
      "t-vgg-verydeep-19.m  58%[==========>         ] 321.15M  4.39MB/s    eta 59s    "
     ]
    },
    {
     "name": "stdout",
     "output_type": "stream",
     "text": [
      "\r\n",
      "-vgg-verydeep-19.ma  58%[==========>         ] 322.13M  4.41MB/s    eta 59s    "
     ]
    },
    {
     "name": "stdout",
     "output_type": "stream",
     "text": [
      "\r\n",
      "vgg-verydeep-19.mat  58%[==========>         ] 323.16M  4.41MB/s    eta 58s    "
     ]
    },
    {
     "name": "stdout",
     "output_type": "stream",
     "text": [
      "\r\n",
      "gg-verydeep-19.mat   59%[==========>         ] 324.26M  4.53MB/s    eta 58s    "
     ]
    },
    {
     "name": "stdout",
     "output_type": "stream",
     "text": [
      "\r\n",
      "g-verydeep-19.mat    59%[==========>         ] 325.29M  4.62MB/s    eta 58s    "
     ]
    },
    {
     "name": "stdout",
     "output_type": "stream",
     "text": [
      "\r\n",
      "-verydeep-19.mat     59%[==========>         ] 326.32M  4.74MB/s    eta 58s    "
     ]
    },
    {
     "name": "stdout",
     "output_type": "stream",
     "text": [
      "\r\n",
      "verydeep-19.mat      59%[==========>         ] 327.34M  4.82MB/s    eta 58s    "
     ]
    },
    {
     "name": "stdout",
     "output_type": "stream",
     "text": [
      "\r\n",
      "erydeep-19.mat       59%[==========>         ] 328.40M  4.85MB/s    eta 56s    "
     ]
    },
    {
     "name": "stdout",
     "output_type": "stream",
     "text": [
      "\r\n",
      "rydeep-19.mat        59%[==========>         ] 329.26M  4.85MB/s    eta 56s    "
     ]
    },
    {
     "name": "stdout",
     "output_type": "stream",
     "text": [
      "\r\n",
      "ydeep-19.mat         60%[===========>        ] 329.96M  4.77MB/s    eta 56s    "
     ]
    },
    {
     "name": "stdout",
     "output_type": "stream",
     "text": [
      "\r\n",
      "deep-19.mat          60%[===========>        ] 330.87M  4.79MB/s    eta 56s    "
     ]
    },
    {
     "name": "stdout",
     "output_type": "stream",
     "text": [
      "\r\n",
      "eep-19.mat           60%[===========>        ] 331.54M  4.63MB/s    eta 56s    "
     ]
    },
    {
     "name": "stdout",
     "output_type": "stream",
     "text": [
      "\r\n",
      "ep-19.mat            60%[===========>        ] 332.29M  4.56MB/s    eta 55s    "
     ]
    },
    {
     "name": "stdout",
     "output_type": "stream",
     "text": [
      "\r\n",
      "p-19.mat             60%[===========>        ] 332.87M  4.42MB/s    eta 55s    "
     ]
    },
    {
     "name": "stdout",
     "output_type": "stream",
     "text": [
      "\r\n",
      "-19.mat              60%[===========>        ] 333.48M  4.30MB/s    eta 55s    "
     ]
    },
    {
     "name": "stdout",
     "output_type": "stream",
     "text": [
      "\r\n",
      "19.mat               60%[===========>        ] 334.09M  4.18MB/s    eta 55s    "
     ]
    },
    {
     "name": "stdout",
     "output_type": "stream",
     "text": [
      "\r\n",
      "9.mat                60%[===========>        ] 334.73M  4.06MB/s    eta 55s    "
     ]
    },
    {
     "name": "stdout",
     "output_type": "stream",
     "text": [
      "\r\n",
      ".mat                 61%[===========>        ] 335.38M  3.94MB/s    eta 55s    "
     ]
    },
    {
     "name": "stdout",
     "output_type": "stream",
     "text": [
      "\r\n",
      "mat                  61%[===========>        ] 336.04M  3.80MB/s    eta 55s    "
     ]
    },
    {
     "name": "stdout",
     "output_type": "stream",
     "text": [
      "\r\n",
      "at                   61%[===========>        ] 336.68M  3.70MB/s    eta 55s    "
     ]
    },
    {
     "name": "stdout",
     "output_type": "stream",
     "text": [
      "\r\n",
      "t                    61%[===========>        ] 337.30M  3.62MB/s    eta 55s    "
     ]
    },
    {
     "name": "stdout",
     "output_type": "stream",
     "text": [
      "\r\n",
      "                     61%[===========>        ] 338.02M  3.54MB/s    eta 55s    "
     ]
    },
    {
     "name": "stdout",
     "output_type": "stream",
     "text": [
      "\r\n",
      "                  i  61%[===========>        ] 338.66M  3.36MB/s    eta 54s    "
     ]
    },
    {
     "name": "stdout",
     "output_type": "stream",
     "text": [
      "\r\n",
      "                 im  61%[===========>        ] 339.24M  3.26MB/s    eta 54s    "
     ]
    },
    {
     "name": "stdout",
     "output_type": "stream",
     "text": [
      "\r\n",
      "                ima  61%[===========>        ] 339.95M  3.21MB/s    eta 54s    "
     ]
    },
    {
     "name": "stdout",
     "output_type": "stream",
     "text": [
      "\r\n",
      "               imag  62%[===========>        ] 340.62M  3.16MB/s    eta 54s    "
     ]
    },
    {
     "name": "stdout",
     "output_type": "stream",
     "text": [
      "\r\n",
      "              image  62%[===========>        ] 341.30M  3.07MB/s    eta 54s    "
     ]
    },
    {
     "name": "stdout",
     "output_type": "stream",
     "text": [
      "\r\n",
      "             imagen  62%[===========>        ] 341.99M  3.12MB/s    eta 53s    "
     ]
    },
    {
     "name": "stdout",
     "output_type": "stream",
     "text": [
      "\r\n",
      "            imagene  62%[===========>        ] 342.66M  3.11MB/s    eta 53s    "
     ]
    },
    {
     "name": "stdout",
     "output_type": "stream",
     "text": [
      "\r\n",
      "           imagenet  62%[===========>        ] 343.34M  3.15MB/s    eta 53s    "
     ]
    },
    {
     "name": "stdout",
     "output_type": "stream",
     "text": [
      "\r\n",
      "          imagenet-  62%[===========>        ] 343.98M  3.16MB/s    eta 53s    "
     ]
    },
    {
     "name": "stdout",
     "output_type": "stream",
     "text": [
      "\r\n",
      "         imagenet-v  62%[===========>        ] 344.59M  3.15MB/s    eta 53s    "
     ]
    },
    {
     "name": "stdout",
     "output_type": "stream",
     "text": [
      "\r\n",
      "        imagenet-vg  62%[===========>        ] 345.24M  3.14MB/s    eta 53s    "
     ]
    },
    {
     "name": "stdout",
     "output_type": "stream",
     "text": [
      "\r\n",
      "       imagenet-vgg  62%[===========>        ] 345.91M  3.13MB/s    eta 53s    "
     ]
    },
    {
     "name": "stdout",
     "output_type": "stream",
     "text": [
      "\r\n",
      "      imagenet-vgg-  63%[===========>        ] 346.63M  3.13MB/s    eta 53s    "
     ]
    },
    {
     "name": "stdout",
     "output_type": "stream",
     "text": [
      "\r\n",
      "     imagenet-vgg-v  63%[===========>        ] 347.37M  3.16MB/s    eta 53s    "
     ]
    },
    {
     "name": "stdout",
     "output_type": "stream",
     "text": [
      "\r\n",
      "    imagenet-vgg-ve  63%[===========>        ] 348.16M  3.19MB/s    eta 53s    "
     ]
    },
    {
     "name": "stdout",
     "output_type": "stream",
     "text": [
      "\r\n",
      "   imagenet-vgg-ver  63%[===========>        ] 348.90M  3.20MB/s    eta 52s    "
     ]
    },
    {
     "name": "stdout",
     "output_type": "stream",
     "text": [
      "\r\n",
      "  imagenet-vgg-very  63%[===========>        ] 349.60M  3.21MB/s    eta 52s    "
     ]
    },
    {
     "name": "stdout",
     "output_type": "stream",
     "text": [
      "\r\n",
      " imagenet-vgg-veryd  63%[===========>        ] 350.38M  3.25MB/s    eta 52s    "
     ]
    },
    {
     "name": "stdout",
     "output_type": "stream",
     "text": [
      "\r\n",
      "imagenet-vgg-veryde  63%[===========>        ] 351.20M  3.30MB/s    eta 52s    "
     ]
    },
    {
     "name": "stdout",
     "output_type": "stream",
     "text": [
      "\r\n",
      "magenet-vgg-verydee  64%[===========>        ] 351.93M  3.33MB/s    eta 52s    "
     ]
    },
    {
     "name": "stdout",
     "output_type": "stream",
     "text": [
      "\r\n",
      "agenet-vgg-verydeep  64%[===========>        ] 352.70M  3.32MB/s    eta 51s    "
     ]
    },
    {
     "name": "stdout",
     "output_type": "stream",
     "text": [
      "\r\n",
      "genet-vgg-verydeep-  64%[===========>        ] 353.51M  3.37MB/s    eta 51s    "
     ]
    },
    {
     "name": "stdout",
     "output_type": "stream",
     "text": [
      "\r\n",
      "enet-vgg-verydeep-1  64%[===========>        ] 354.35M  3.42MB/s    eta 51s    "
     ]
    },
    {
     "name": "stdout",
     "output_type": "stream",
     "text": [
      "\r\n",
      "net-vgg-verydeep-19  64%[===========>        ] 355.15M  3.41MB/s    eta 51s    "
     ]
    },
    {
     "name": "stdout",
     "output_type": "stream",
     "text": [
      "\r\n",
      "et-vgg-verydeep-19.  64%[===========>        ] 355.91M  3.45MB/s    eta 51s    "
     ]
    },
    {
     "name": "stdout",
     "output_type": "stream",
     "text": [
      "\r\n",
      "t-vgg-verydeep-19.m  64%[===========>        ] 356.69M  3.51MB/s    eta 50s    "
     ]
    },
    {
     "name": "stdout",
     "output_type": "stream",
     "text": [
      "\r\n",
      "-vgg-verydeep-19.ma  65%[============>       ] 357.54M  3.60MB/s    eta 50s    "
     ]
    },
    {
     "name": "stdout",
     "output_type": "stream",
     "text": [
      "\r\n",
      "vgg-verydeep-19.mat  65%[============>       ] 358.29M  3.66MB/s    eta 50s    "
     ]
    },
    {
     "name": "stdout",
     "output_type": "stream",
     "text": [
      "\r\n",
      "gg-verydeep-19.mat   65%[============>       ] 359.10M  3.70MB/s    eta 50s    "
     ]
    },
    {
     "name": "stdout",
     "output_type": "stream",
     "text": [
      "\r\n",
      "g-verydeep-19.mat    65%[============>       ] 359.84M  3.72MB/s    eta 50s    "
     ]
    },
    {
     "name": "stdout",
     "output_type": "stream",
     "text": [
      "\r\n",
      "-verydeep-19.mat     65%[============>       ] 360.37M  3.65MB/s    eta 49s    "
     ]
    },
    {
     "name": "stdout",
     "output_type": "stream",
     "text": [
      "\r\n",
      "verydeep-19.mat      65%[============>       ] 361.16M  3.68MB/s    eta 49s    "
     ]
    },
    {
     "name": "stdout",
     "output_type": "stream",
     "text": [
      "\r\n",
      "erydeep-19.mat       65%[============>       ] 361.73M  3.64MB/s    eta 49s    "
     ]
    },
    {
     "name": "stdout",
     "output_type": "stream",
     "text": [
      "\r\n",
      "rydeep-19.mat        65%[============>       ] 362.44M  3.61MB/s    eta 49s    "
     ]
    },
    {
     "name": "stdout",
     "output_type": "stream",
     "text": [
      "\r\n",
      "ydeep-19.mat         66%[============>       ] 363.13M  3.58MB/s    eta 49s    "
     ]
    },
    {
     "name": "stdout",
     "output_type": "stream",
     "text": [
      "\r\n",
      "deep-19.mat          66%[============>       ] 363.79M  3.52MB/s    eta 48s    "
     ]
    },
    {
     "name": "stdout",
     "output_type": "stream",
     "text": [
      "\r\n",
      "eep-19.mat           66%[============>       ] 364.51M  3.55MB/s    eta 48s    "
     ]
    },
    {
     "name": "stdout",
     "output_type": "stream",
     "text": [
      "\r\n",
      "ep-19.mat            66%[============>       ] 365.23M  3.53MB/s    eta 48s    "
     ]
    },
    {
     "name": "stdout",
     "output_type": "stream",
     "text": [
      "\r\n",
      "p-19.mat             66%[============>       ] 365.95M  3.49MB/s    eta 48s    "
     ]
    },
    {
     "name": "stdout",
     "output_type": "stream",
     "text": [
      "\r\n",
      "-19.mat              66%[============>       ] 366.66M  3.51MB/s    eta 48s    "
     ]
    },
    {
     "name": "stdout",
     "output_type": "stream",
     "text": [
      "\r\n",
      "19.mat               66%[============>       ] 367.43M  3.48MB/s    eta 47s    "
     ]
    },
    {
     "name": "stdout",
     "output_type": "stream",
     "text": [
      "\r\n",
      "9.mat                67%[============>       ] 368.23M  3.45MB/s    eta 47s    "
     ]
    },
    {
     "name": "stdout",
     "output_type": "stream",
     "text": [
      "\r\n",
      ".mat                 67%[============>       ] 368.99M  3.48MB/s    eta 47s    "
     ]
    },
    {
     "name": "stdout",
     "output_type": "stream",
     "text": [
      "\r\n",
      "mat                  67%[============>       ] 369.77M  3.49MB/s    eta 47s    "
     ]
    },
    {
     "name": "stdout",
     "output_type": "stream",
     "text": [
      "\r\n",
      "at                   67%[============>       ] 370.60M  3.49MB/s    eta 47s    "
     ]
    },
    {
     "name": "stdout",
     "output_type": "stream",
     "text": [
      "\r\n",
      "t                    67%[============>       ] 371.40M  3.47MB/s    eta 46s    "
     ]
    },
    {
     "name": "stdout",
     "output_type": "stream",
     "text": [
      "\r\n",
      "                     67%[============>       ] 372.24M  3.56MB/s    eta 46s    "
     ]
    },
    {
     "name": "stdout",
     "output_type": "stream",
     "text": [
      "\r\n",
      "                  i  67%[============>       ] 373.05M  3.58MB/s    eta 46s    "
     ]
    },
    {
     "name": "stdout",
     "output_type": "stream",
     "text": [
      "\r\n",
      "                 im  68%[============>       ] 373.87M  3.65MB/s    eta 46s    "
     ]
    },
    {
     "name": "stdout",
     "output_type": "stream",
     "text": [
      "\r\n",
      "                ima  68%[============>       ] 374.55M  3.66MB/s    eta 46s    "
     ]
    },
    {
     "name": "stdout",
     "output_type": "stream",
     "text": [
      "\r\n",
      "               imag  68%[============>       ] 375.27M  3.67MB/s    eta 45s    "
     ]
    },
    {
     "name": "stdout",
     "output_type": "stream",
     "text": [
      "\r\n",
      "              image  68%[============>       ] 375.98M  3.70MB/s    eta 45s    "
     ]
    },
    {
     "name": "stdout",
     "output_type": "stream",
     "text": [
      "\r\n",
      "             imagen  68%[============>       ] 376.45M  3.62MB/s    eta 45s    "
     ]
    },
    {
     "name": "stdout",
     "output_type": "stream",
     "text": [
      "\r\n",
      "            imagene  68%[============>       ] 377.16M  3.61MB/s    eta 45s    "
     ]
    },
    {
     "name": "stdout",
     "output_type": "stream",
     "text": [
      "\r\n",
      "           imagenet  68%[============>       ] 377.87M  3.61MB/s    eta 45s    "
     ]
    },
    {
     "name": "stdout",
     "output_type": "stream",
     "text": [
      "\r\n",
      "          imagenet-  68%[============>       ] 378.52M  3.59MB/s    eta 44s    "
     ]
    },
    {
     "name": "stdout",
     "output_type": "stream",
     "text": [
      "\r\n",
      "         imagenet-v  69%[============>       ] 379.20M  3.53MB/s    eta 44s    "
     ]
    },
    {
     "name": "stdout",
     "output_type": "stream",
     "text": [
      "\r\n",
      "        imagenet-vg  69%[============>       ] 379.90M  3.52MB/s    eta 44s    "
     ]
    },
    {
     "name": "stdout",
     "output_type": "stream",
     "text": [
      "\r\n",
      "       imagenet-vgg  69%[============>       ] 380.65M  3.51MB/s    eta 44s    "
     ]
    },
    {
     "name": "stdout",
     "output_type": "stream",
     "text": [
      "\r\n",
      "      imagenet-vgg-  69%[============>       ] 381.32M  3.47MB/s    eta 44s    "
     ]
    },
    {
     "name": "stdout",
     "output_type": "stream",
     "text": [
      "\r\n",
      "     imagenet-vgg-v  69%[============>       ] 382.05M  3.46MB/s    eta 44s    "
     ]
    },
    {
     "name": "stdout",
     "output_type": "stream",
     "text": [
      "\r\n",
      "    imagenet-vgg-ve  69%[============>       ] 382.84M  3.45MB/s    eta 44s    "
     ]
    },
    {
     "name": "stdout",
     "output_type": "stream",
     "text": [
      "\r\n",
      "   imagenet-vgg-ver  69%[============>       ] 383.63M  3.47MB/s    eta 44s    "
     ]
    },
    {
     "name": "stdout",
     "output_type": "stream",
     "text": [
      "\r\n",
      "  imagenet-vgg-very  69%[============>       ] 384.43M  3.45MB/s    eta 44s    "
     ]
    },
    {
     "name": "stdout",
     "output_type": "stream",
     "text": [
      "\r\n",
      " imagenet-vgg-veryd  70%[=============>      ] 385.16M  3.45MB/s    eta 44s    "
     ]
    },
    {
     "name": "stdout",
     "output_type": "stream",
     "text": [
      "\r\n",
      "imagenet-vgg-veryde  70%[=============>      ] 385.98M  3.45MB/s    eta 43s    "
     ]
    },
    {
     "name": "stdout",
     "output_type": "stream",
     "text": [
      "\r\n",
      "magenet-vgg-verydee  70%[=============>      ] 386.79M  3.53MB/s    eta 43s    "
     ]
    },
    {
     "name": "stdout",
     "output_type": "stream",
     "text": [
      "\r\n",
      "agenet-vgg-verydeep  70%[=============>      ] 387.54M  3.55MB/s    eta 43s    "
     ]
    },
    {
     "name": "stdout",
     "output_type": "stream",
     "text": [
      "\r\n",
      "genet-vgg-verydeep-  70%[=============>      ] 388.32M  3.64MB/s    eta 43s    "
     ]
    },
    {
     "name": "stdout",
     "output_type": "stream",
     "text": [
      "\r\n",
      "enet-vgg-verydeep-1  70%[=============>      ] 388.99M  3.63MB/s    eta 43s    "
     ]
    },
    {
     "name": "stdout",
     "output_type": "stream",
     "text": [
      "\r\n",
      "net-vgg-verydeep-19  70%[=============>      ] 389.79M  3.66MB/s    eta 42s    "
     ]
    },
    {
     "name": "stdout",
     "output_type": "stream",
     "text": [
      "\r\n",
      "et-vgg-verydeep-19.  71%[=============>      ] 390.71M  3.75MB/s    eta 42s    "
     ]
    },
    {
     "name": "stdout",
     "output_type": "stream",
     "text": [
      "\r\n",
      "t-vgg-verydeep-19.m  71%[=============>      ] 391.48M  3.77MB/s    eta 42s    "
     ]
    },
    {
     "name": "stdout",
     "output_type": "stream",
     "text": [
      "\r\n",
      "-vgg-verydeep-19.ma  71%[=============>      ] 392.40M  3.81MB/s    eta 42s    "
     ]
    },
    {
     "name": "stdout",
     "output_type": "stream",
     "text": [
      "\r\n",
      "vgg-verydeep-19.mat  71%[=============>      ] 393.16M  3.85MB/s    eta 42s    "
     ]
    },
    {
     "name": "stdout",
     "output_type": "stream",
     "text": [
      "\r\n",
      "gg-verydeep-19.mat   71%[=============>      ] 394.02M  3.87MB/s    eta 40s    "
     ]
    },
    {
     "name": "stdout",
     "output_type": "stream",
     "text": [
      "\r\n",
      "g-verydeep-19.mat    71%[=============>      ] 394.85M  3.91MB/s    eta 40s    "
     ]
    },
    {
     "name": "stdout",
     "output_type": "stream",
     "text": [
      "\r\n",
      "-verydeep-19.mat     72%[=============>      ] 395.71M  3.92MB/s    eta 40s    "
     ]
    },
    {
     "name": "stdout",
     "output_type": "stream",
     "text": [
      "\r\n",
      "verydeep-19.mat      72%[=============>      ] 396.48M  3.95MB/s    eta 40s    "
     ]
    },
    {
     "name": "stdout",
     "output_type": "stream",
     "text": [
      "\r\n",
      "erydeep-19.mat       72%[=============>      ] 397.32M  3.96MB/s    eta 40s    "
     ]
    },
    {
     "name": "stdout",
     "output_type": "stream",
     "text": [
      "\r\n",
      "rydeep-19.mat        72%[=============>      ] 398.13M  3.92MB/s    eta 39s    "
     ]
    },
    {
     "name": "stdout",
     "output_type": "stream",
     "text": [
      "\r\n",
      "ydeep-19.mat         72%[=============>      ] 398.96M  3.97MB/s    eta 39s    "
     ]
    },
    {
     "name": "stdout",
     "output_type": "stream",
     "text": [
      "\r\n",
      "deep-19.mat          72%[=============>      ] 399.73M  3.93MB/s    eta 39s    "
     ]
    },
    {
     "name": "stdout",
     "output_type": "stream",
     "text": [
      "\r\n",
      "eep-19.mat           72%[=============>      ] 400.59M  3.96MB/s    eta 39s    "
     ]
    },
    {
     "name": "stdout",
     "output_type": "stream",
     "text": [
      "\r\n",
      "ep-19.mat            73%[=============>      ] 401.38M  3.99MB/s    eta 39s    "
     ]
    },
    {
     "name": "stdout",
     "output_type": "stream",
     "text": [
      "\r\n",
      "p-19.mat             73%[=============>      ] 402.23M  4.03MB/s    eta 38s    "
     ]
    },
    {
     "name": "stdout",
     "output_type": "stream",
     "text": [
      "\r\n",
      "-19.mat              73%[=============>      ] 403.01M  4.01MB/s    eta 38s    "
     ]
    },
    {
     "name": "stdout",
     "output_type": "stream",
     "text": [
      "\r\n",
      "19.mat               73%[=============>      ] 403.80M  4.02MB/s    eta 38s    "
     ]
    },
    {
     "name": "stdout",
     "output_type": "stream",
     "text": [
      "\r\n",
      "9.mat                73%[=============>      ] 404.65M  4.04MB/s    eta 38s    "
     ]
    },
    {
     "name": "stdout",
     "output_type": "stream",
     "text": [
      "\r\n",
      ".mat                 73%[=============>      ] 405.45M  4.04MB/s    eta 38s    "
     ]
    },
    {
     "name": "stdout",
     "output_type": "stream",
     "text": [
      "\r\n",
      "mat                  73%[=============>      ] 406.27M  4.02MB/s    eta 37s    "
     ]
    },
    {
     "name": "stdout",
     "output_type": "stream",
     "text": [
      "\r\n",
      "at                   74%[=============>      ] 407.21M  4.06MB/s    eta 37s    "
     ]
    },
    {
     "name": "stdout",
     "output_type": "stream",
     "text": [
      "\r\n",
      "t                    74%[=============>      ] 408.12M  4.10MB/s    eta 37s    "
     ]
    },
    {
     "name": "stdout",
     "output_type": "stream",
     "text": [
      "\r\n",
      "                     74%[=============>      ] 408.87M  4.03MB/s    eta 37s    "
     ]
    },
    {
     "name": "stdout",
     "output_type": "stream",
     "text": [
      "\r\n",
      "                  i  74%[=============>      ] 409.55M  3.95MB/s    eta 37s    "
     ]
    },
    {
     "name": "stdout",
     "output_type": "stream",
     "text": [
      "\r\n",
      "                 im  74%[=============>      ] 410.54M  3.97MB/s    eta 36s    "
     ]
    },
    {
     "name": "stdout",
     "output_type": "stream",
     "text": [
      "\r\n",
      "                ima  74%[=============>      ] 411.18M  3.88MB/s    eta 36s    "
     ]
    },
    {
     "name": "stdout",
     "output_type": "stream",
     "text": [
      "\r\n",
      "               imag  74%[=============>      ] 411.93M  3.86MB/s    eta 36s    "
     ]
    },
    {
     "name": "stdout",
     "output_type": "stream",
     "text": [
      "\r\n",
      "              image  75%[==============>     ] 412.71M  3.88MB/s    eta 36s    "
     ]
    },
    {
     "name": "stdout",
     "output_type": "stream",
     "text": [
      "\r\n",
      "             imagen  75%[==============>     ] 413.48M  3.81MB/s    eta 36s    "
     ]
    },
    {
     "name": "stdout",
     "output_type": "stream",
     "text": [
      "\r"
     ]
    },
    {
     "name": "stdout",
     "output_type": "stream",
     "text": [
      "            imagene  75%[==============>     ] 414.23M  3.78MB/s    eta 35s    "
     ]
    },
    {
     "name": "stdout",
     "output_type": "stream",
     "text": [
      "\r\n",
      "           imagenet  75%[==============>     ] 414.96M  3.78MB/s    eta 35s    "
     ]
    },
    {
     "name": "stdout",
     "output_type": "stream",
     "text": [
      "\r\n",
      "          imagenet-  75%[==============>     ] 415.74M  3.74MB/s    eta 35s    "
     ]
    },
    {
     "name": "stdout",
     "output_type": "stream",
     "text": [
      "\r\n",
      "         imagenet-v  75%[==============>     ] 416.63M  3.79MB/s    eta 35s    "
     ]
    },
    {
     "name": "stdout",
     "output_type": "stream",
     "text": [
      "\r\n",
      "        imagenet-vg  75%[==============>     ] 417.34M  3.74MB/s    eta 35s    "
     ]
    },
    {
     "name": "stdout",
     "output_type": "stream",
     "text": [
      "\r\n",
      "       imagenet-vgg  76%[==============>     ] 418.12M  3.73MB/s    eta 34s    "
     ]
    },
    {
     "name": "stdout",
     "output_type": "stream",
     "text": [
      "\r\n",
      "      imagenet-vgg-  76%[==============>     ] 418.73M  3.70MB/s    eta 34s    "
     ]
    },
    {
     "name": "stdout",
     "output_type": "stream",
     "text": [
      "\r\n",
      "     imagenet-vgg-v  76%[==============>     ] 419.35M  3.62MB/s    eta 34s    "
     ]
    },
    {
     "name": "stdout",
     "output_type": "stream",
     "text": [
      "\r\n",
      "    imagenet-vgg-ve  76%[==============>     ] 419.95M  3.59MB/s    eta 34s    "
     ]
    },
    {
     "name": "stdout",
     "output_type": "stream",
     "text": [
      "\r\n",
      "   imagenet-vgg-ver  76%[==============>     ] 420.51M  3.51MB/s    eta 34s    "
     ]
    },
    {
     "name": "stdout",
     "output_type": "stream",
     "text": [
      "\r\n",
      "  imagenet-vgg-very  76%[==============>     ] 421.15M  3.39MB/s    eta 33s    "
     ]
    },
    {
     "name": "stdout",
     "output_type": "stream",
     "text": [
      "\r\n",
      " imagenet-vgg-veryd  76%[==============>     ] 421.80M  3.34MB/s    eta 33s    "
     ]
    },
    {
     "name": "stdout",
     "output_type": "stream",
     "text": [
      "\r\n",
      "imagenet-vgg-veryde  76%[==============>     ] 422.52M  3.33MB/s    eta 33s    "
     ]
    },
    {
     "name": "stdout",
     "output_type": "stream",
     "text": [
      "\r\n",
      "magenet-vgg-verydee  77%[==============>     ] 423.37M  3.31MB/s    eta 33s    "
     ]
    },
    {
     "name": "stdout",
     "output_type": "stream",
     "text": [
      "\r\n",
      "agenet-vgg-verydeep  77%[==============>     ] 424.02M  3.35MB/s    eta 33s    "
     ]
    },
    {
     "name": "stdout",
     "output_type": "stream",
     "text": [
      "\r\n",
      "genet-vgg-verydeep-  77%[==============>     ] 424.66M  3.34MB/s    eta 33s    "
     ]
    },
    {
     "name": "stdout",
     "output_type": "stream",
     "text": [
      "\r\n",
      "enet-vgg-verydeep-1  77%[==============>     ] 425.32M  3.30MB/s    eta 33s    "
     ]
    },
    {
     "name": "stdout",
     "output_type": "stream",
     "text": [
      "\r\n",
      "net-vgg-verydeep-19  77%[==============>     ] 426.04M  3.33MB/s    eta 33s    "
     ]
    },
    {
     "name": "stdout",
     "output_type": "stream",
     "text": [
      "\r\n",
      "et-vgg-verydeep-19.  77%[==============>     ] 426.79M  3.31MB/s    eta 33s    "
     ]
    },
    {
     "name": "stdout",
     "output_type": "stream",
     "text": [
      "\r\n",
      "t-vgg-verydeep-19.m  77%[==============>     ] 427.49M  3.26MB/s    eta 33s    "
     ]
    },
    {
     "name": "stdout",
     "output_type": "stream",
     "text": [
      "\r\n",
      "-vgg-verydeep-19.ma  77%[==============>     ] 428.26M  3.26MB/s    eta 32s    "
     ]
    },
    {
     "name": "stdout",
     "output_type": "stream",
     "text": [
      "\r\n",
      "vgg-verydeep-19.mat  78%[==============>     ] 429.05M  3.26MB/s    eta 32s    "
     ]
    },
    {
     "name": "stdout",
     "output_type": "stream",
     "text": [
      "\r\n",
      "gg-verydeep-19.mat   78%[==============>     ] 429.76M  3.20MB/s    eta 32s    "
     ]
    },
    {
     "name": "stdout",
     "output_type": "stream",
     "text": [
      "\r\n",
      "g-verydeep-19.mat    78%[==============>     ] 430.38M  3.18MB/s    eta 32s    "
     ]
    },
    {
     "name": "stdout",
     "output_type": "stream",
     "text": [
      "\r\n",
      "-verydeep-19.mat     78%[==============>     ] 431.07M  3.21MB/s    eta 32s    "
     ]
    },
    {
     "name": "stdout",
     "output_type": "stream",
     "text": [
      "\r\n",
      "verydeep-19.mat      78%[==============>     ] 431.76M  3.22MB/s    eta 31s    "
     ]
    },
    {
     "name": "stdout",
     "output_type": "stream",
     "text": [
      "\r\n",
      "erydeep-19.mat       78%[==============>     ] 432.46M  3.25MB/s    eta 31s    "
     ]
    },
    {
     "name": "stdout",
     "output_type": "stream",
     "text": [
      "\r\n",
      "rydeep-19.mat        78%[==============>     ] 433.20M  3.36MB/s    eta 31s    "
     ]
    },
    {
     "name": "stdout",
     "output_type": "stream",
     "text": [
      "\r\n",
      "ydeep-19.mat         78%[==============>     ] 433.91M  3.38MB/s    eta 31s    "
     ]
    },
    {
     "name": "stdout",
     "output_type": "stream",
     "text": [
      "\r\n",
      "deep-19.mat          79%[==============>     ] 434.60M  3.43MB/s    eta 31s    "
     ]
    },
    {
     "name": "stdout",
     "output_type": "stream",
     "text": [
      "\r\n",
      "eep-19.mat           79%[==============>     ] 435.32M  3.44MB/s    eta 30s    "
     ]
    },
    {
     "name": "stdout",
     "output_type": "stream",
     "text": [
      "\r\n",
      "ep-19.mat            79%[==============>     ] 435.88M  3.38MB/s    eta 30s    "
     ]
    },
    {
     "name": "stdout",
     "output_type": "stream",
     "text": [
      "\r\n",
      "p-19.mat             79%[==============>     ] 436.41M  3.37MB/s    eta 30s    "
     ]
    },
    {
     "name": "stdout",
     "output_type": "stream",
     "text": [
      "\r\n",
      "-19.mat              79%[==============>     ] 437.15M  3.35MB/s    eta 30s    "
     ]
    },
    {
     "name": "stdout",
     "output_type": "stream",
     "text": [
      "\r\n",
      "19.mat               79%[==============>     ] 437.73M  3.34MB/s    eta 30s    "
     ]
    },
    {
     "name": "stdout",
     "output_type": "stream",
     "text": [
      "\r\n",
      "9.mat                79%[==============>     ] 438.41M  3.34MB/s    eta 29s    "
     ]
    },
    {
     "name": "stdout",
     "output_type": "stream",
     "text": [
      "\r\n",
      ".mat                 79%[==============>     ] 439.12M  3.29MB/s    eta 29s    "
     ]
    },
    {
     "name": "stdout",
     "output_type": "stream",
     "text": [
      "\r\n",
      "mat                  80%[===============>    ] 439.87M  3.31MB/s    eta 29s    "
     ]
    },
    {
     "name": "stdout",
     "output_type": "stream",
     "text": [
      "\r\n",
      "at                   80%[===============>    ] 440.55M  3.30MB/s    eta 29s    "
     ]
    },
    {
     "name": "stdout",
     "output_type": "stream",
     "text": [
      "\r\n",
      "t                    80%[===============>    ] 441.27M  3.28MB/s    eta 29s    "
     ]
    },
    {
     "name": "stdout",
     "output_type": "stream",
     "text": [
      "\r\n",
      "                     80%[===============>    ] 442.01M  3.35MB/s    eta 28s    "
     ]
    },
    {
     "name": "stdout",
     "output_type": "stream",
     "text": [
      "\r\n",
      "                  i  80%[===============>    ] 442.73M  3.32MB/s    eta 28s    "
     ]
    },
    {
     "name": "stdout",
     "output_type": "stream",
     "text": [
      "\r\n",
      "                 im  80%[===============>    ] 443.43M  3.36MB/s    eta 28s    "
     ]
    },
    {
     "name": "stdout",
     "output_type": "stream",
     "text": [
      "\r\n",
      "                ima  80%[===============>    ] 444.12M  3.36MB/s    eta 28s    "
     ]
    },
    {
     "name": "stdout",
     "output_type": "stream",
     "text": [
      "\r\n",
      "               imag  80%[===============>    ] 444.82M  3.30MB/s    eta 28s    "
     ]
    },
    {
     "name": "stdout",
     "output_type": "stream",
     "text": [
      "\r\n",
      "              image  81%[===============>    ] 445.55M  3.32MB/s    eta 27s    "
     ]
    },
    {
     "name": "stdout",
     "output_type": "stream",
     "text": [
      "\r\n",
      "             imagen  81%[===============>    ] 446.27M  3.31MB/s    eta 27s    "
     ]
    },
    {
     "name": "stdout",
     "output_type": "stream",
     "text": [
      "\r\n",
      "            imagene  81%[===============>    ] 446.98M  3.33MB/s    eta 27s    "
     ]
    },
    {
     "name": "stdout",
     "output_type": "stream",
     "text": [
      "\r\n",
      "           imagenet  81%[===============>    ] 447.70M  3.41MB/s    eta 27s    "
     ]
    },
    {
     "name": "stdout",
     "output_type": "stream",
     "text": [
      "\r\n",
      "          imagenet-  81%[===============>    ] 448.27M  3.36MB/s    eta 27s    "
     ]
    },
    {
     "name": "stdout",
     "output_type": "stream",
     "text": [
      "\r\n",
      "         imagenet-v  81%[===============>    ] 448.90M  3.32MB/s    eta 26s    "
     ]
    },
    {
     "name": "stdout",
     "output_type": "stream",
     "text": [
      "\r\n",
      "        imagenet-vg  81%[===============>    ] 449.66M  3.35MB/s    eta 26s    "
     ]
    },
    {
     "name": "stdout",
     "output_type": "stream",
     "text": [
      "\r\n",
      "       imagenet-vgg  81%[===============>    ] 450.20M  3.24MB/s    eta 26s    "
     ]
    },
    {
     "name": "stdout",
     "output_type": "stream",
     "text": [
      "\r\n",
      "      imagenet-vgg-  82%[===============>    ] 450.76M  3.22MB/s    eta 26s    "
     ]
    },
    {
     "name": "stdout",
     "output_type": "stream",
     "text": [
      "\r\n",
      "     imagenet-vgg-v  82%[===============>    ] 451.29M  3.16MB/s    eta 26s    "
     ]
    },
    {
     "name": "stdout",
     "output_type": "stream",
     "text": [
      "\r\n",
      "    imagenet-vgg-ve  82%[===============>    ] 451.91M  3.13MB/s    eta 26s    "
     ]
    },
    {
     "name": "stdout",
     "output_type": "stream",
     "text": [
      "\r\n",
      "   imagenet-vgg-ver  82%[===============>    ] 452.60M  3.14MB/s    eta 26s    "
     ]
    },
    {
     "name": "stdout",
     "output_type": "stream",
     "text": [
      "\r\n",
      "  imagenet-vgg-very  82%[===============>    ] 453.23M  3.09MB/s    eta 26s    "
     ]
    },
    {
     "name": "stdout",
     "output_type": "stream",
     "text": [
      "\r\n",
      " imagenet-vgg-veryd  82%[===============>    ] 453.87M  3.08MB/s    eta 26s    "
     ]
    },
    {
     "name": "stdout",
     "output_type": "stream",
     "text": [
      "\r\n",
      "imagenet-vgg-veryde  82%[===============>    ] 454.51M  3.03MB/s    eta 26s    "
     ]
    },
    {
     "name": "stdout",
     "output_type": "stream",
     "text": [
      "\r\n",
      "magenet-vgg-verydee  82%[===============>    ] 455.15M  3.00MB/s    eta 25s    "
     ]
    },
    {
     "name": "stdout",
     "output_type": "stream",
     "text": [
      "\r\n",
      "agenet-vgg-verydeep  82%[===============>    ] 455.82M  2.99MB/s    eta 25s    "
     ]
    },
    {
     "name": "stdout",
     "output_type": "stream",
     "text": [
      "\r\n",
      "genet-vgg-verydeep-  83%[===============>    ] 456.51M  2.97MB/s    eta 25s    "
     ]
    },
    {
     "name": "stdout",
     "output_type": "stream",
     "text": [
      "\r\n",
      "enet-vgg-verydeep-1  83%[===============>    ] 457.26M  2.96MB/s    eta 25s    "
     ]
    },
    {
     "name": "stdout",
     "output_type": "stream",
     "text": [
      "\r\n",
      "net-vgg-verydeep-19  83%[===============>    ] 457.96M  2.98MB/s    eta 25s    "
     ]
    },
    {
     "name": "stdout",
     "output_type": "stream",
     "text": [
      "\r\n",
      "et-vgg-verydeep-19.  83%[===============>    ] 458.63M  2.98MB/s    eta 24s    "
     ]
    },
    {
     "name": "stdout",
     "output_type": "stream",
     "text": [
      "\r\n",
      "t-vgg-verydeep-19.m  83%[===============>    ] 459.35M  3.05MB/s    eta 24s    "
     ]
    },
    {
     "name": "stdout",
     "output_type": "stream",
     "text": [
      "\r\n",
      "-vgg-verydeep-19.ma  83%[===============>    ] 460.09M  3.07MB/s    eta 24s    "
     ]
    },
    {
     "name": "stdout",
     "output_type": "stream",
     "text": [
      "\r\n",
      "vgg-verydeep-19.mat  83%[===============>    ] 460.76M  3.10MB/s    eta 24s    "
     ]
    },
    {
     "name": "stdout",
     "output_type": "stream",
     "text": [
      "\r\n",
      "gg-verydeep-19.mat   84%[===============>    ] 461.55M  3.18MB/s    eta 24s    "
     ]
    },
    {
     "name": "stdout",
     "output_type": "stream",
     "text": [
      "\r\n",
      "g-verydeep-19.mat    84%[===============>    ] 462.29M  3.23MB/s    eta 23s    "
     ]
    },
    {
     "name": "stdout",
     "output_type": "stream",
     "text": [
      "\r\n",
      "-verydeep-19.mat     84%[===============>    ] 463.01M  3.29MB/s    eta 23s    "
     ]
    },
    {
     "name": "stdout",
     "output_type": "stream",
     "text": [
      "\r\n",
      "verydeep-19.mat      84%[===============>    ] 463.73M  3.26MB/s    eta 23s    "
     ]
    },
    {
     "name": "stdout",
     "output_type": "stream",
     "text": [
      "\r\n",
      "erydeep-19.mat       84%[===============>    ] 464.46M  3.31MB/s    eta 23s    "
     ]
    },
    {
     "name": "stdout",
     "output_type": "stream",
     "text": [
      "\r\n",
      "rydeep-19.mat        84%[===============>    ] 465.10M  3.32MB/s    eta 23s    "
     ]
    },
    {
     "name": "stdout",
     "output_type": "stream",
     "text": [
      "\r\n",
      "ydeep-19.mat         84%[===============>    ] 465.85M  3.34MB/s    eta 22s    "
     ]
    },
    {
     "name": "stdout",
     "output_type": "stream",
     "text": [
      "\r\n",
      "deep-19.mat          84%[===============>    ] 466.56M  3.37MB/s    eta 22s    "
     ]
    },
    {
     "name": "stdout",
     "output_type": "stream",
     "text": [
      "\r\n",
      "eep-19.mat           85%[================>   ] 467.30M  3.44MB/s    eta 22s    "
     ]
    },
    {
     "name": "stdout",
     "output_type": "stream",
     "text": [
      "\r\n",
      "ep-19.mat            85%[================>   ] 467.85M  3.42MB/s    eta 22s    "
     ]
    },
    {
     "name": "stdout",
     "output_type": "stream",
     "text": [
      "\r\n",
      "p-19.mat             85%[================>   ] 468.46M  3.34MB/s    eta 22s    "
     ]
    },
    {
     "name": "stdout",
     "output_type": "stream",
     "text": [
      "\r\n",
      "-19.mat              85%[================>   ] 469.20M  3.39MB/s    eta 21s    "
     ]
    },
    {
     "name": "stdout",
     "output_type": "stream",
     "text": [
      "\r\n",
      "19.mat               85%[================>   ] 469.88M  3.38MB/s    eta 21s    "
     ]
    },
    {
     "name": "stdout",
     "output_type": "stream",
     "text": [
      "\r\n",
      "9.mat                85%[================>   ] 470.54M  3.37MB/s    eta 21s    "
     ]
    },
    {
     "name": "stdout",
     "output_type": "stream",
     "text": [
      "\r\n",
      ".mat                 85%[================>   ] 471.21M  3.35MB/s    eta 21s    "
     ]
    },
    {
     "name": "stdout",
     "output_type": "stream",
     "text": [
      "\r\n",
      "mat                  85%[================>   ] 472.03M  3.41MB/s    eta 21s    "
     ]
    },
    {
     "name": "stdout",
     "output_type": "stream",
     "text": [
      "\r\n",
      "at                   86%[================>   ] 472.48M  3.35MB/s    eta 20s    "
     ]
    },
    {
     "name": "stdout",
     "output_type": "stream",
     "text": [
      "\r\n",
      "t                    86%[================>   ] 473.05M  3.31MB/s    eta 20s    "
     ]
    },
    {
     "name": "stdout",
     "output_type": "stream",
     "text": [
      "\r\n",
      "                     86%[================>   ] 473.49M  3.17MB/s    eta 20s    "
     ]
    },
    {
     "name": "stdout",
     "output_type": "stream",
     "text": [
      "\r\n",
      "                  i  86%[================>   ] 473.87M  3.10MB/s    eta 20s    "
     ]
    },
    {
     "name": "stdout",
     "output_type": "stream",
     "text": [
      "\r\n",
      "                 im  86%[================>   ] 474.27M  3.01MB/s    eta 20s    "
     ]
    },
    {
     "name": "stdout",
     "output_type": "stream",
     "text": [
      "\r\n",
      "                ima  86%[================>   ] 474.63M  2.87MB/s    eta 20s    "
     ]
    },
    {
     "name": "stdout",
     "output_type": "stream",
     "text": [
      "\r\n",
      "               imag  86%[================>   ] 475.09M  2.80MB/s    eta 20s    "
     ]
    },
    {
     "name": "stdout",
     "output_type": "stream",
     "text": [
      "\r\n",
      "              image  86%[================>   ] 475.57M  2.70MB/s    eta 20s    "
     ]
    },
    {
     "name": "stdout",
     "output_type": "stream",
     "text": [
      "\r\n",
      "             imagen  86%[================>   ] 475.99M  2.62MB/s    eta 20s    "
     ]
    },
    {
     "name": "stdout",
     "output_type": "stream",
     "text": [
      "\r\n",
      "            imagene  86%[================>   ] 476.48M  2.58MB/s    eta 20s    "
     ]
    },
    {
     "name": "stdout",
     "output_type": "stream",
     "text": [
      "\r\n",
      "           imagenet  86%[================>   ] 476.85M  2.49MB/s    eta 19s    "
     ]
    },
    {
     "name": "stdout",
     "output_type": "stream",
     "text": [
      "\r\n",
      "          imagenet-  86%[================>   ] 477.24M  2.39MB/s    eta 19s    "
     ]
    },
    {
     "name": "stdout",
     "output_type": "stream",
     "text": [
      "\r\n",
      "         imagenet-v  86%[================>   ] 477.65M  2.29MB/s    eta 19s    "
     ]
    },
    {
     "name": "stdout",
     "output_type": "stream",
     "text": [
      "\r\n",
      "        imagenet-vg  87%[================>   ] 478.09M  2.17MB/s    eta 19s    "
     ]
    },
    {
     "name": "stdout",
     "output_type": "stream",
     "text": [
      "\r\n",
      "       imagenet-vgg  87%[================>   ] 478.38M  2.10MB/s    eta 19s    "
     ]
    },
    {
     "name": "stdout",
     "output_type": "stream",
     "text": [
      "\r\n",
      "      imagenet-vgg-  87%[================>   ] 478.82M  2.06MB/s    eta 19s    "
     ]
    },
    {
     "name": "stdout",
     "output_type": "stream",
     "text": [
      "\r\n",
      "     imagenet-vgg-v  87%[================>   ] 479.35M  2.00MB/s    eta 19s    "
     ]
    },
    {
     "name": "stdout",
     "output_type": "stream",
     "text": [
      "\r\n",
      "    imagenet-vgg-ve  87%[================>   ] 479.84M  1.99MB/s    eta 19s    "
     ]
    },
    {
     "name": "stdout",
     "output_type": "stream",
     "text": [
      "\r\n",
      "   imagenet-vgg-ver  87%[================>   ] 480.30M  1.97MB/s    eta 19s    "
     ]
    },
    {
     "name": "stdout",
     "output_type": "stream",
     "text": [
      "\r\n",
      "  imagenet-vgg-very  87%[================>   ] 480.84M  2.00MB/s    eta 19s    "
     ]
    },
    {
     "name": "stdout",
     "output_type": "stream",
     "text": [
      "\r\n",
      " imagenet-vgg-veryd  87%[================>   ] 481.32M  2.04MB/s    eta 18s    "
     ]
    },
    {
     "name": "stdout",
     "output_type": "stream",
     "text": [
      "\r\n",
      "imagenet-vgg-veryde  87%[================>   ] 481.79M  2.05MB/s    eta 18s    "
     ]
    },
    {
     "name": "stdout",
     "output_type": "stream",
     "text": [
      "\r\n",
      "magenet-vgg-verydee  87%[================>   ] 482.27M  2.13MB/s    eta 18s    "
     ]
    },
    {
     "name": "stdout",
     "output_type": "stream",
     "text": [
      "\r\n",
      "agenet-vgg-verydeep  87%[================>   ] 482.74M  2.14MB/s    eta 18s    "
     ]
    },
    {
     "name": "stdout",
     "output_type": "stream",
     "text": [
      "\r\n",
      "genet-vgg-verydeep-  87%[================>   ] 483.27M  2.16MB/s    eta 18s    "
     ]
    },
    {
     "name": "stdout",
     "output_type": "stream",
     "text": [
      "\r\n",
      "enet-vgg-verydeep-1  88%[================>   ] 483.77M  2.19MB/s    eta 18s    "
     ]
    },
    {
     "name": "stdout",
     "output_type": "stream",
     "text": [
      "\r\n",
      "net-vgg-verydeep-19  88%[================>   ] 484.29M  2.20MB/s    eta 18s    "
     ]
    },
    {
     "name": "stdout",
     "output_type": "stream",
     "text": [
      "\r\n",
      "et-vgg-verydeep-19.  88%[================>   ] 484.80M  2.23MB/s    eta 18s    "
     ]
    },
    {
     "name": "stdout",
     "output_type": "stream",
     "text": [
      "\r\n",
      "t-vgg-verydeep-19.m  88%[================>   ] 485.35M  2.29MB/s    eta 18s    "
     ]
    },
    {
     "name": "stdout",
     "output_type": "stream",
     "text": [
      "\r\n",
      "-vgg-verydeep-19.ma  88%[================>   ] 485.90M  2.33MB/s    eta 18s    "
     ]
    },
    {
     "name": "stdout",
     "output_type": "stream",
     "text": [
      "\r\n",
      "vgg-verydeep-19.mat  88%[================>   ] 486.43M  2.37MB/s    eta 17s    "
     ]
    },
    {
     "name": "stdout",
     "output_type": "stream",
     "text": [
      "\r\n",
      "gg-verydeep-19.mat   88%[================>   ] 487.05M  2.46MB/s    eta 17s    "
     ]
    },
    {
     "name": "stdout",
     "output_type": "stream",
     "text": [
      "\r\n",
      "g-verydeep-19.mat    88%[================>   ] 487.62M  2.49MB/s    eta 17s    "
     ]
    },
    {
     "name": "stdout",
     "output_type": "stream",
     "text": [
      "\r\n",
      "-verydeep-19.mat     88%[================>   ] 488.18M  2.53MB/s    eta 17s    "
     ]
    },
    {
     "name": "stdout",
     "output_type": "stream",
     "text": [
      "\r\n",
      "verydeep-19.mat      88%[================>   ] 488.74M  2.55MB/s    eta 17s    "
     ]
    },
    {
     "name": "stdout",
     "output_type": "stream",
     "text": [
      "\r\n",
      "erydeep-19.mat       89%[================>   ] 489.29M  2.56MB/s    eta 16s    "
     ]
    },
    {
     "name": "stdout",
     "output_type": "stream",
     "text": [
      "\r\n",
      "rydeep-19.mat        89%[================>   ] 489.91M  2.60MB/s    eta 16s    "
     ]
    },
    {
     "name": "stdout",
     "output_type": "stream",
     "text": [
      "\r\n",
      "ydeep-19.mat         89%[================>   ] 490.29M  2.56MB/s    eta 16s    "
     ]
    },
    {
     "name": "stdout",
     "output_type": "stream",
     "text": [
      "\r\n",
      "deep-19.mat          89%[================>   ] 491.01M  2.61MB/s    eta 16s    "
     ]
    },
    {
     "name": "stdout",
     "output_type": "stream",
     "text": [
      "\r\n",
      "eep-19.mat           89%[================>   ] 491.65M  2.66MB/s    eta 16s    "
     ]
    },
    {
     "name": "stdout",
     "output_type": "stream",
     "text": [
      "\r\n",
      "ep-19.mat            89%[================>   ] 492.24M  2.67MB/s    eta 16s    "
     ]
    },
    {
     "name": "stdout",
     "output_type": "stream",
     "text": [
      "\r\n",
      "p-19.mat             89%[================>   ] 492.87M  2.69MB/s    eta 16s    "
     ]
    },
    {
     "name": "stdout",
     "output_type": "stream",
     "text": [
      "\r\n",
      "-19.mat              89%[================>   ] 493.48M  2.72MB/s    eta 16s    "
     ]
    },
    {
     "name": "stdout",
     "output_type": "stream",
     "text": [
      "\r\n",
      "19.mat               89%[================>   ] 494.10M  2.77MB/s    eta 16s    "
     ]
    },
    {
     "name": "stdout",
     "output_type": "stream",
     "text": [
      "\r\n",
      "9.mat                90%[=================>  ] 494.79M  2.79MB/s    eta 16s    "
     ]
    },
    {
     "name": "stdout",
     "output_type": "stream",
     "text": [
      "\r\n",
      ".mat                 90%[=================>  ] 495.48M  2.86MB/s    eta 15s    "
     ]
    },
    {
     "name": "stdout",
     "output_type": "stream",
     "text": [
      "\r\n",
      "mat                  90%[=================>  ] 496.21M  2.91MB/s    eta 15s    "
     ]
    },
    {
     "name": "stdout",
     "output_type": "stream",
     "text": [
      "\r\n",
      "at                   90%[=================>  ] 496.99M  2.98MB/s    eta 15s    "
     ]
    },
    {
     "name": "stdout",
     "output_type": "stream",
     "text": [
      "\r\n",
      "t                    90%[=================>  ] 497.85M  3.07MB/s    eta 15s    "
     ]
    },
    {
     "name": "stdout",
     "output_type": "stream",
     "text": [
      "\r\n",
      "                     90%[=================>  ] 498.46M  3.06MB/s    eta 15s    "
     ]
    },
    {
     "name": "stdout",
     "output_type": "stream",
     "text": [
      "\r\n",
      "                  i  90%[=================>  ] 499.38M  3.15MB/s    eta 14s    "
     ]
    },
    {
     "name": "stdout",
     "output_type": "stream",
     "text": [
      "\r\n",
      "                 im  91%[=================>  ] 500.43M  3.29MB/s    eta 14s    "
     ]
    },
    {
     "name": "stdout",
     "output_type": "stream",
     "text": [
      "\r\n",
      "                ima  91%[=================>  ] 501.49M  3.42MB/s    eta 14s    "
     ]
    },
    {
     "name": "stdout",
     "output_type": "stream",
     "text": [
      "\r\n",
      "               imag  91%[=================>  ] 502.54M  3.65MB/s    eta 14s    "
     ]
    },
    {
     "name": "stdout",
     "output_type": "stream",
     "text": [
      "\r\n",
      "              image  91%[=================>  ] 503.20M  3.58MB/s    eta 14s    "
     ]
    },
    {
     "name": "stdout",
     "output_type": "stream",
     "text": [
      "\r\n",
      "             imagen  91%[=================>  ] 504.09M  3.68MB/s    eta 12s    "
     ]
    },
    {
     "name": "stdout",
     "output_type": "stream",
     "text": [
      "\r\n",
      "            imagene  91%[=================>  ] 504.74M  3.70MB/s    eta 12s    "
     ]
    },
    {
     "name": "stdout",
     "output_type": "stream",
     "text": [
      "\r\n",
      "           imagenet  92%[=================>  ] 505.70M  3.81MB/s    eta 12s    "
     ]
    },
    {
     "name": "stdout",
     "output_type": "stream",
     "text": [
      "\r\n",
      "          imagenet-  92%[=================>  ] 506.62M  3.89MB/s    eta 12s    "
     ]
    },
    {
     "name": "stdout",
     "output_type": "stream",
     "text": [
      "\r\n",
      "         imagenet-v  92%[=================>  ] 507.60M  3.95MB/s    eta 12s    "
     ]
    },
    {
     "name": "stdout",
     "output_type": "stream",
     "text": [
      "\r\n",
      "        imagenet-vg  92%[=================>  ] 508.55M  4.07MB/s    eta 11s    "
     ]
    },
    {
     "name": "stdout",
     "output_type": "stream",
     "text": [
      "\r\n",
      "       imagenet-vgg  92%[=================>  ] 509.59M  4.18MB/s    eta 11s    "
     ]
    },
    {
     "name": "stdout",
     "output_type": "stream",
     "text": [
      "\r\n",
      "      imagenet-vgg-  92%[=================>  ] 510.59M  4.26MB/s    eta 11s    "
     ]
    },
    {
     "name": "stdout",
     "output_type": "stream",
     "text": [
      "\r\n",
      "     imagenet-vgg-v  93%[=================>  ] 511.60M  4.30MB/s    eta 11s    "
     ]
    },
    {
     "name": "stdout",
     "output_type": "stream",
     "text": [
      "\r\n",
      "    imagenet-vgg-ve  93%[=================>  ] 512.62M  4.37MB/s    eta 11s    "
     ]
    },
    {
     "name": "stdout",
     "output_type": "stream",
     "text": [
      "\r\n",
      "   imagenet-vgg-ver  93%[=================>  ] 513.65M  4.48MB/s    eta 10s    "
     ]
    },
    {
     "name": "stdout",
     "output_type": "stream",
     "text": [
      "\r\n",
      "  imagenet-vgg-very  93%[=================>  ] 514.70M  4.56MB/s    eta 10s    "
     ]
    },
    {
     "name": "stdout",
     "output_type": "stream",
     "text": [
      "\r\n",
      " imagenet-vgg-veryd  93%[=================>  ] 515.77M  4.60MB/s    eta 10s    "
     ]
    },
    {
     "name": "stdout",
     "output_type": "stream",
     "text": [
      "\r\n",
      "imagenet-vgg-veryde  94%[=================>  ] 516.84M  4.57MB/s    eta 10s    "
     ]
    },
    {
     "name": "stdout",
     "output_type": "stream",
     "text": [
      "\r\n",
      "magenet-vgg-verydee  94%[=================>  ] 517.96M  4.63MB/s    eta 10s    "
     ]
    },
    {
     "name": "stdout",
     "output_type": "stream",
     "text": [
      "\r\n",
      "agenet-vgg-verydeep  94%[=================>  ] 519.10M  4.86MB/s    eta 8s     "
     ]
    },
    {
     "name": "stdout",
     "output_type": "stream",
     "text": [
      "\r\n",
      "genet-vgg-verydeep-  94%[=================>  ] 520.16M  4.90MB/s    eta 8s     "
     ]
    },
    {
     "name": "stdout",
     "output_type": "stream",
     "text": [
      "\r\n",
      "enet-vgg-verydeep-1  94%[=================>  ] 521.29M  5.01MB/s    eta 8s     "
     ]
    },
    {
     "name": "stdout",
     "output_type": "stream",
     "text": [
      "\r\n",
      "net-vgg-verydeep-19  95%[==================> ] 522.38M  5.11MB/s    eta 8s     "
     ]
    },
    {
     "name": "stdout",
     "output_type": "stream",
     "text": [
      "\r\n",
      "et-vgg-verydeep-19.  95%[==================> ] 523.51M  5.17MB/s    eta 8s     "
     ]
    },
    {
     "name": "stdout",
     "output_type": "stream",
     "text": [
      "\r\n",
      "t-vgg-verydeep-19.m  95%[==================> ] 524.66M  5.25MB/s    eta 7s     "
     ]
    },
    {
     "name": "stdout",
     "output_type": "stream",
     "text": [
      "\r\n",
      "-vgg-verydeep-19.ma  95%[==================> ] 525.84M  5.31MB/s    eta 7s     "
     ]
    },
    {
     "name": "stdout",
     "output_type": "stream",
     "text": [
      "\r\n",
      "vgg-verydeep-19.mat  95%[==================> ] 526.98M  5.36MB/s    eta 7s     "
     ]
    },
    {
     "name": "stdout",
     "output_type": "stream",
     "text": [
      "\r\n",
      "gg-verydeep-19.mat   96%[==================> ] 528.10M  5.39MB/s    eta 7s     "
     ]
    },
    {
     "name": "stdout",
     "output_type": "stream",
     "text": [
      "\r\n",
      "g-verydeep-19.mat    96%[==================> ] 529.21M  5.42MB/s    eta 7s     "
     ]
    },
    {
     "name": "stdout",
     "output_type": "stream",
     "text": [
      "\r\n",
      "-verydeep-19.mat     96%[==================> ] 530.32M  5.44MB/s    eta 5s     "
     ]
    },
    {
     "name": "stdout",
     "output_type": "stream",
     "text": [
      "\r\n",
      "verydeep-19.mat      96%[==================> ] 531.40M  5.46MB/s    eta 5s     "
     ]
    },
    {
     "name": "stdout",
     "output_type": "stream",
     "text": [
      "\r\n",
      "erydeep-19.mat       96%[==================> ] 532.49M  5.45MB/s    eta 5s     "
     ]
    },
    {
     "name": "stdout",
     "output_type": "stream",
     "text": [
      "\r\n",
      "rydeep-19.mat        97%[==================> ] 533.62M  5.49MB/s    eta 5s     "
     ]
    },
    {
     "name": "stdout",
     "output_type": "stream",
     "text": [
      "\r\n",
      "ydeep-19.mat         97%[==================> ] 534.51M  5.38MB/s    eta 5s     "
     ]
    },
    {
     "name": "stdout",
     "output_type": "stream",
     "text": [
      "\r\n",
      "deep-19.mat          97%[==================> ] 535.68M  5.36MB/s    eta 4s     "
     ]
    },
    {
     "name": "stdout",
     "output_type": "stream",
     "text": [
      "\r\n",
      "eep-19.mat           97%[==================> ] 536.80M  5.37MB/s    eta 4s     "
     ]
    },
    {
     "name": "stdout",
     "output_type": "stream",
     "text": [
      "\r\n",
      "ep-19.mat            97%[==================> ] 537.94M  5.35MB/s    eta 4s     "
     ]
    },
    {
     "name": "stdout",
     "output_type": "stream",
     "text": [
      "\r\n",
      "p-19.mat             98%[==================> ] 538.95M  5.34MB/s    eta 4s     "
     ]
    },
    {
     "name": "stdout",
     "output_type": "stream",
     "text": [
      "\r\n",
      "-19.mat              98%[==================> ] 539.74M  5.22MB/s    eta 4s     "
     ]
    },
    {
     "name": "stdout",
     "output_type": "stream",
     "text": [
      "\r\n",
      "19.mat               98%[==================> ] 540.60M  5.18MB/s    eta 2s     "
     ]
    },
    {
     "name": "stdout",
     "output_type": "stream",
     "text": [
      "\r\n",
      "9.mat                98%[==================> ] 541.48M  5.11MB/s    eta 2s     "
     ]
    },
    {
     "name": "stdout",
     "output_type": "stream",
     "text": [
      "\r\n",
      ".mat                 98%[==================> ] 542.40M  5.04MB/s    eta 2s     "
     ]
    },
    {
     "name": "stdout",
     "output_type": "stream",
     "text": [
      "\r\n",
      "mat                  98%[==================> ] 543.27M  4.97MB/s    eta 2s     "
     ]
    },
    {
     "name": "stdout",
     "output_type": "stream",
     "text": [
      "\r\n",
      "at                   99%[==================> ] 543.88M  4.76MB/s    eta 2s     "
     ]
    },
    {
     "name": "stdout",
     "output_type": "stream",
     "text": [
      "\r\n",
      "t                    99%[==================> ] 544.45M  4.55MB/s    eta 1s     "
     ]
    },
    {
     "name": "stdout",
     "output_type": "stream",
     "text": [
      "\r\n",
      "                     99%[==================> ] 545.13M  4.40MB/s    eta 1s     "
     ]
    },
    {
     "name": "stdout",
     "output_type": "stream",
     "text": [
      "\r\n",
      "                  i  99%[==================> ] 545.90M  4.33MB/s    eta 1s     "
     ]
    },
    {
     "name": "stdout",
     "output_type": "stream",
     "text": [
      "\r\n",
      "                 im  99%[==================> ] 546.51M  4.16MB/s    eta 1s     "
     ]
    },
    {
     "name": "stdout",
     "output_type": "stream",
     "text": [
      "\r\n",
      "                ima  99%[==================> ] 547.04M  3.97MB/s    eta 1s     "
     ]
    },
    {
     "name": "stdout",
     "output_type": "stream",
     "text": [
      "\r\n",
      "               imag  99%[==================> ] 547.74M  3.93MB/s    eta 0s     "
     ]
    },
    {
     "name": "stdout",
     "output_type": "stream",
     "text": [
      "\r\n",
      "              image  99%[==================> ] 548.55M  3.90MB/s    eta 0s     "
     ]
    },
    {
     "name": "stdout",
     "output_type": "stream",
     "text": [
      "\r\n",
      "             imagen  99%[==================> ] 549.10M  3.63MB/s    eta 0s     "
     ]
    },
    {
     "name": "stdout",
     "output_type": "stream",
     "text": [
      "\r\n",
      "imagenet-vgg-veryde 100%[===================>] 549.36M  3.64MB/s    in 2m 27s  \r\n",
      "\r\n",
      "2021-12-10 15:57:48 (3.73 MB/s) - ‘imagenet-vgg-verydeep-19.mat’ saved [576042600/576042600]\r\n",
      "\r\n"
     ]
    }
   ],
   "source": [
    "# Go into the appropriate directory and download the necessary file\n",
    "%cd /notebooks/fast-style-transfer/data/\n",
    "!wget https://www.vlfeat.org/matconvnet/models/beta16/imagenet-vgg-verydeep-19.mat"
   ]
  },
  {
   "cell_type": "code",
   "execution_count": null,
   "metadata": {
    "gradient": {
     "editing": false,
     "id": "e17a0c2e-70f5-4528-930e-272c35c5ebcd",
     "kernelId": "b625c23a-4b39-43be-b316-0bb9ffbecbd9",
     "source_hidden": false
    }
   },
   "outputs": [
    {
     "name": "stdout",
     "output_type": "stream",
     "text": [
      "imagenet-vgg-verydeep-19.mat\r\n"
     ]
    }
   ],
   "source": [
    "# Check that we got the .mat file\n",
    "%ls /notebooks/fast-style-transfer/data"
   ]
  },
  {
   "cell_type": "markdown",
   "metadata": {
    "gradient": {
     "editing": false,
     "id": "a3b265e8-8612-4068-8598-e208f261e909",
     "kernelId": "b625c23a-4b39-43be-b316-0bb9ffbecbd9"
    },
    "id": "lwj2HgUlIrtH"
   },
   "source": [
    "## 3. Training with style.py"
   ]
  },
  {
   "cell_type": "code",
   "execution_count": null,
   "metadata": {
    "collapsed": false,
    "gradient": {
     "editing": false,
     "execution_count": 31,
     "id": "42d9dce9-0af8-48da-a510-32a934a99b13",
     "kernelId": "b625c23a-4b39-43be-b316-0bb9ffbecbd9",
     "source_hidden": false
    }
   },
   "outputs": [
    {
     "name": "stdout",
     "output_type": "stream",
     "text": [
      "/notebooks/fast-style-transfer\n"
     ]
    }
   ],
   "source": [
    "# We first move into the fast-style-transfer repo\n",
    "%cd /notebooks/fast-style-transfer"
   ]
  },
  {
   "cell_type": "markdown",
   "metadata": {
    "gradient": {
     "editing": false,
     "id": "84b51743-3611-46b8-b8fc-15a97cc3827b",
     "kernelId": "b625c23a-4b39-43be-b316-0bb9ffbecbd9"
    }
   },
   "source": [
    "Arguments - make sure \n",
    "\n",
    "- the --checkpoint-dir argument points to _/notebooks/fast-style-transfer/ckpt_\n",
    "- the --style argument points to your style image, such as _/notebooks/fast-stype-transfer/images/style/slovenia-gan.jpg_\n",
    "- the --vgg-path points to _/notebooks/fast-style-transfer/data/imagenet-vgg-verydeep-19.mat_\n",
    "\n",
    "\n",
    "You can change the number after --epoch to change the training time, default to 2, it has to be > 0"
   ]
  },
  {
   "cell_type": "markdown",
   "metadata": {
    "gradient": {
     "editing": false,
     "id": "7f2b8ae1-8447-4df3-bbff-e10169f8e5f4",
     "kernelId": "b625c23a-4b39-43be-b316-0bb9ffbecbd9"
    }
   },
   "source": [
    "Keep the below cell running, keep the tab active and wait. It took me 2 hours.\n",
    "\n",
    "Paperspace might not update the cell output accordingly, so just be patient."
   ]
  },
  {
   "cell_type": "code",
   "execution_count": null,
   "metadata": {
    "colab": {
     "background_save": true,
     "base_uri": "https://localhost:8080/"
    },
    "gradient": {
     "editing": false,
     "id": "eb5273dc-afe6-4576-aebb-7b9892e8e512",
     "kernelId": "b625c23a-4b39-43be-b316-0bb9ffbecbd9"
    },
    "id": "ypI9UexsKiiN",
    "outputId": "388975b4-e45c-4081-8e23-795c5c443534"
   },
   "outputs": [],
   "source": [
    "# Remember to replace the name after 'images/style/' to your own style image name\n",
    "!python style.py --checkpoint-dir /notebooks/fast-style-transfer/ckpt --style images/style/slovenia-gan.jpg --style-weight 1.5e2 --train-path --vgg-path /notebooks/fast-style-transfer/data/imagenet-vgg-verydeep-19.mat --epochs 2"
   ]
  },
  {
   "cell_type": "markdown",
   "metadata": {
    "gradient": {
     "editing": false,
     "id": "7aa41f91-3504-4a83-88a6-61bf61e26d60",
     "kernelId": "b625c23a-4b39-43be-b316-0bb9ffbecbd9"
    },
    "id": "WQX2AeuXd-LB"
   },
   "source": [
    "At this point, you will be able to see 4 files in the '/fast-style-transfer/ckpt' folder."
   ]
  },
  {
   "cell_type": "markdown",
   "metadata": {
    "gradient": {
     "editing": false,
     "id": "b908d976-a2be-4699-b088-4e0a0610bb17",
     "kernelId": "b625c23a-4b39-43be-b316-0bb9ffbecbd9"
    },
    "id": "ziBLDaHSIr_2"
   },
   "source": [
    "## 4. Converting the model to ml5js"
   ]
  },
  {
   "cell_type": "markdown",
   "metadata": {
    "gradient": {
     "editing": false,
     "id": "cf285507-05e0-4234-b899-0c4706b11bdb",
     "kernelId": "b625c23a-4b39-43be-b316-0bb9ffbecbd9"
    }
   },
   "source": [
    "### Switch back to Tensorflow 1.14.0 "
   ]
  },
  {
   "cell_type": "code",
   "execution_count": null,
   "metadata": {
    "collapsed": false,
    "gradient": {
     "editing": false,
     "id": "8b2d1ebb-a194-42d8-a505-835248197a75",
     "kernelId": "b625c23a-4b39-43be-b316-0bb9ffbecbd9",
     "source_hidden": false
    }
   },
   "outputs": [],
   "source": [
    "!pip install tensorflow==1.14.0"
   ]
  },
  {
   "cell_type": "markdown",
   "metadata": {
    "gradient": {
     "editing": false,
     "id": "3a0cc405-359f-4ae4-933f-f626563032c3",
     "kernelId": "b625c23a-4b39-43be-b316-0bb9ffbecbd9"
    }
   },
   "source": [
    "### Download the repo for conversion"
   ]
  },
  {
   "cell_type": "code",
   "execution_count": null,
   "metadata": {
    "colab": {
     "base_uri": "https://localhost:8080/",
     "height": 136
    },
    "gradient": {
     "editing": false,
     "id": "351f80eb-6d40-4be1-bc36-07ed4b2c2cef",
     "kernelId": "b625c23a-4b39-43be-b316-0bb9ffbecbd9"
    },
    "id": "yW2jDqCOX7Un",
    "outputId": "e0cae064-e7f4-4776-fed4-73d1e8516125"
   },
   "outputs": [
    {
     "name": "stdout",
     "output_type": "stream",
     "text": [
      "/notebooks\n"
     ]
    },
    {
     "name": "stdout",
     "output_type": "stream",
     "text": [
      "Cloning into 'fast-style-transfer-deeplearnjs'...\r\n"
     ]
    },
    {
     "name": "stdout",
     "output_type": "stream",
     "text": [
      "remote: Enumerating objects: 1407, done.\u001b[K\r\n",
      "Receiving objects:   0% (1/1407)   \r\n",
      "Receiving objects:   1% (15/1407)   \r\n",
      "Receiving objects:   2% (29/1407)   \r\n",
      "Receiving objects:   3% (43/1407)   \r\n",
      "Receiving objects:   4% (57/1407)   \r"
     ]
    },
    {
     "name": "stdout",
     "output_type": "stream",
     "text": [
      "Receiving objects:   5% (71/1407)   \r"
     ]
    },
    {
     "name": "stdout",
     "output_type": "stream",
     "text": [
      "Receiving objects:   6% (85/1407)   \r"
     ]
    },
    {
     "name": "stdout",
     "output_type": "stream",
     "text": [
      "Receiving objects:   7% (99/1407)   \r"
     ]
    },
    {
     "name": "stdout",
     "output_type": "stream",
     "text": [
      "Receiving objects:   8% (113/1407)   \r"
     ]
    },
    {
     "name": "stdout",
     "output_type": "stream",
     "text": [
      "Receiving objects:   9% (127/1407)   \r"
     ]
    },
    {
     "name": "stdout",
     "output_type": "stream",
     "text": [
      "Receiving objects:  10% (141/1407)   \r"
     ]
    },
    {
     "name": "stdout",
     "output_type": "stream",
     "text": [
      "Receiving objects:  11% (155/1407), 11.09 MiB | 22.18 MiB/s   \r"
     ]
    },
    {
     "name": "stdout",
     "output_type": "stream",
     "text": [
      "Receiving objects:  12% (169/1407), 11.09 MiB | 22.18 MiB/s   \r"
     ]
    },
    {
     "name": "stdout",
     "output_type": "stream",
     "text": [
      "Receiving objects:  13% (183/1407), 11.09 MiB | 22.18 MiB/s   \r"
     ]
    },
    {
     "name": "stdout",
     "output_type": "stream",
     "text": [
      "Receiving objects:  14% (197/1407), 11.09 MiB | 22.18 MiB/s   \r"
     ]
    },
    {
     "name": "stdout",
     "output_type": "stream",
     "text": [
      "Receiving objects:  15% (212/1407), 11.09 MiB | 22.18 MiB/s   \r"
     ]
    },
    {
     "name": "stdout",
     "output_type": "stream",
     "text": [
      "Receiving objects:  16% (226/1407), 11.09 MiB | 22.18 MiB/s   \r"
     ]
    },
    {
     "name": "stdout",
     "output_type": "stream",
     "text": [
      "Receiving objects:  16% (239/1407), 21.78 MiB | 21.77 MiB/s   \r\n",
      "Receiving objects:  17% (240/1407), 21.78 MiB | 21.77 MiB/s   \r"
     ]
    },
    {
     "name": "stdout",
     "output_type": "stream",
     "text": [
      "Receiving objects:  18% (254/1407), 21.78 MiB | 21.77 MiB/s   \r\n",
      "Receiving objects:  19% (268/1407), 21.78 MiB | 21.77 MiB/s   \r"
     ]
    },
    {
     "name": "stdout",
     "output_type": "stream",
     "text": [
      "Receiving objects:  20% (282/1407), 21.78 MiB | 21.77 MiB/s   \r"
     ]
    },
    {
     "name": "stdout",
     "output_type": "stream",
     "text": [
      "Receiving objects:  21% (296/1407), 21.78 MiB | 21.77 MiB/s   \r"
     ]
    },
    {
     "name": "stdout",
     "output_type": "stream",
     "text": [
      "Receiving objects:  22% (310/1407), 21.78 MiB | 21.77 MiB/s   \r"
     ]
    },
    {
     "name": "stdout",
     "output_type": "stream",
     "text": [
      "Receiving objects:  23% (324/1407), 21.78 MiB | 21.77 MiB/s   \r"
     ]
    },
    {
     "name": "stdout",
     "output_type": "stream",
     "text": [
      "Receiving objects:  24% (338/1407), 32.45 MiB | 21.63 MiB/s   \r"
     ]
    },
    {
     "name": "stdout",
     "output_type": "stream",
     "text": [
      "Receiving objects:  25% (352/1407), 32.45 MiB | 21.63 MiB/s   \r"
     ]
    },
    {
     "name": "stdout",
     "output_type": "stream",
     "text": [
      "Receiving objects:  26% (366/1407), 32.45 MiB | 21.63 MiB/s   \r"
     ]
    },
    {
     "name": "stdout",
     "output_type": "stream",
     "text": [
      "Receiving objects:  27% (380/1407), 32.45 MiB | 21.63 MiB/s   \r\n",
      "Receiving objects:  28% (394/1407), 32.45 MiB | 21.63 MiB/s   \r\n",
      "Receiving objects:  29% (409/1407), 32.45 MiB | 21.63 MiB/s   \r\n",
      "Receiving objects:  30% (423/1407), 32.45 MiB | 21.63 MiB/s   \r\n",
      "Receiving objects:  31% (437/1407), 32.45 MiB | 21.63 MiB/s   \r\n",
      "Receiving objects:  32% (451/1407), 32.45 MiB | 21.63 MiB/s   \r\n",
      "Receiving objects:  33% (465/1407), 32.45 MiB | 21.63 MiB/s   \r\n",
      "Receiving objects:  34% (479/1407), 32.45 MiB | 21.63 MiB/s   \r\n",
      "Receiving objects:  35% (493/1407), 32.45 MiB | 21.63 MiB/s   \r\n",
      "Receiving objects:  36% (507/1407), 32.45 MiB | 21.63 MiB/s   \r\n",
      "Receiving objects:  37% (521/1407), 32.45 MiB | 21.63 MiB/s   \r\n",
      "Receiving objects:  38% (535/1407), 32.45 MiB | 21.63 MiB/s   \r\n",
      "Receiving objects:  39% (549/1407), 32.45 MiB | 21.63 MiB/s   \r\n",
      "Receiving objects:  40% (563/1407), 32.45 MiB | 21.63 MiB/s   \r\n",
      "Receiving objects:  41% (577/1407), 32.45 MiB | 21.63 MiB/s   \r\n",
      "Receiving objects:  42% (591/1407), 32.45 MiB | 21.63 MiB/s   \r\n",
      "Receiving objects:  43% (606/1407), 32.45 MiB | 21.63 MiB/s   \r\n",
      "Receiving objects:  44% (620/1407), 32.45 MiB | 21.63 MiB/s   \r\n",
      "Receiving objects:  45% (634/1407), 32.45 MiB | 21.63 MiB/s   \r\n",
      "Receiving objects:  46% (648/1407), 32.45 MiB | 21.63 MiB/s   \r\n",
      "Receiving objects:  47% (662/1407), 32.45 MiB | 21.63 MiB/s   \r\n",
      "Receiving objects:  48% (676/1407), 32.45 MiB | 21.63 MiB/s   \r\n",
      "Receiving objects:  49% (690/1407), 32.45 MiB | 21.63 MiB/s   \r\n",
      "Receiving objects:  50% (704/1407), 32.45 MiB | 21.63 MiB/s   \r\n",
      "Receiving objects:  51% (718/1407), 32.45 MiB | 21.63 MiB/s   \r\n",
      "Receiving objects:  52% (732/1407), 32.45 MiB | 21.63 MiB/s   \r\n",
      "Receiving objects:  53% (746/1407), 32.45 MiB | 21.63 MiB/s   \r\n",
      "Receiving objects:  54% (760/1407), 32.45 MiB | 21.63 MiB/s   \r\n",
      "Receiving objects:  55% (774/1407), 32.45 MiB | 21.63 MiB/s   \r\n",
      "Receiving objects:  56% (788/1407), 32.45 MiB | 21.63 MiB/s   \r\n",
      "Receiving objects:  57% (802/1407), 32.45 MiB | 21.63 MiB/s   \r\n",
      "Receiving objects:  58% (817/1407), 32.45 MiB | 21.63 MiB/s   \r\n",
      "Receiving objects:  59% (831/1407), 32.45 MiB | 21.63 MiB/s   \r\n",
      "Receiving objects:  60% (845/1407), 32.45 MiB | 21.63 MiB/s   \r\n",
      "Receiving objects:  61% (859/1407), 32.45 MiB | 21.63 MiB/s   \r\n",
      "Receiving objects:  62% (873/1407), 32.45 MiB | 21.63 MiB/s   \r\n",
      "Receiving objects:  63% (887/1407), 32.45 MiB | 21.63 MiB/s   \r\n",
      "Receiving objects:  64% (901/1407), 32.45 MiB | 21.63 MiB/s   \r\n",
      "Receiving objects:  65% (915/1407), 32.45 MiB | 21.63 MiB/s   \r\n",
      "Receiving objects:  66% (929/1407), 32.45 MiB | 21.63 MiB/s   \r\n",
      "Receiving objects:  67% (943/1407), 32.45 MiB | 21.63 MiB/s   \r\n",
      "remote: Total 1407 (delta 0), reused 0 (delta 0), pack-reused 1407\u001b[K\r\n",
      "Receiving objects:  68% (957/1407), 32.45 MiB | 21.63 MiB/s   \r\n",
      "Receiving objects:  69% (971/1407), 32.45 MiB | 21.63 MiB/s   \r\n",
      "Receiving objects:  70% (985/1407), 32.45 MiB | 21.63 MiB/s   \r\n",
      "Receiving objects:  71% (999/1407), 32.45 MiB | 21.63 MiB/s   \r\n",
      "Receiving objects:  72% (1014/1407), 32.45 MiB | 21.63 MiB/s   \r\n",
      "Receiving objects:  73% (1028/1407), 32.45 MiB | 21.63 MiB/s   \r\n",
      "Receiving objects:  74% (1042/1407), 32.45 MiB | 21.63 MiB/s   \r\n",
      "Receiving objects:  75% (1056/1407), 32.45 MiB | 21.63 MiB/s   \r"
     ]
    },
    {
     "name": "stdout",
     "output_type": "stream",
     "text": [
      "Receiving objects:  76% (1070/1407), 32.45 MiB | 21.63 MiB/s   \r\n",
      "Receiving objects:  77% (1084/1407), 32.45 MiB | 21.63 MiB/s   \r\n",
      "Receiving objects:  78% (1098/1407), 32.45 MiB | 21.63 MiB/s   \r\n",
      "Receiving objects:  79% (1112/1407), 32.45 MiB | 21.63 MiB/s   \r\n",
      "Receiving objects:  80% (1126/1407), 32.45 MiB | 21.63 MiB/s   \r\n",
      "Receiving objects:  81% (1140/1407), 32.45 MiB | 21.63 MiB/s   \r\n",
      "Receiving objects:  82% (1154/1407), 32.45 MiB | 21.63 MiB/s   \r\n",
      "Receiving objects:  83% (1168/1407), 32.45 MiB | 21.63 MiB/s   \r\n",
      "Receiving objects:  84% (1182/1407), 32.45 MiB | 21.63 MiB/s   \r\n",
      "Receiving objects:  85% (1196/1407), 32.45 MiB | 21.63 MiB/s   \r\n",
      "Receiving objects:  86% (1211/1407), 32.45 MiB | 21.63 MiB/s   \r\n",
      "Receiving objects:  87% (1225/1407), 32.45 MiB | 21.63 MiB/s   \r\n",
      "Receiving objects:  88% (1239/1407), 32.45 MiB | 21.63 MiB/s   \r\n",
      "Receiving objects:  89% (1253/1407), 32.45 MiB | 21.63 MiB/s   \r\n",
      "Receiving objects:  90% (1267/1407), 32.45 MiB | 21.63 MiB/s   \r\n",
      "Receiving objects:  91% (1281/1407), 32.45 MiB | 21.63 MiB/s   \r\n",
      "Receiving objects:  92% (1295/1407), 32.45 MiB | 21.63 MiB/s   \r\n",
      "Receiving objects:  93% (1309/1407), 32.45 MiB | 21.63 MiB/s   \r\n",
      "Receiving objects:  94% (1323/1407), 32.45 MiB | 21.63 MiB/s   \r\n",
      "Receiving objects:  95% (1337/1407), 32.45 MiB | 21.63 MiB/s   \r\n",
      "Receiving objects:  96% (1351/1407), 32.45 MiB | 21.63 MiB/s   \r\n",
      "Receiving objects:  97% (1365/1407), 32.45 MiB | 21.63 MiB/s   \r\n",
      "Receiving objects:  98% (1379/1407), 32.45 MiB | 21.63 MiB/s   \r\n",
      "Receiving objects:  99% (1393/1407), 32.45 MiB | 21.63 MiB/s   \r\n",
      "Receiving objects: 100% (1407/1407), 32.45 MiB | 21.63 MiB/s   \r\n",
      "Receiving objects: 100% (1407/1407), 37.97 MiB | 21.72 MiB/s, done.\r\n",
      "Resolving deltas:   0% (0/135)   \r\n",
      "Resolving deltas:   2% (4/135)   \r\n",
      "Resolving deltas:   9% (13/135)   \r\n",
      "Resolving deltas:  10% (14/135)   \r\n",
      "Resolving deltas:  11% (16/135)   \r\n",
      "Resolving deltas:  13% (18/135)   \r\n",
      "Resolving deltas:  15% (21/135)   \r\n",
      "Resolving deltas:  16% (22/135)   \r\n",
      "Resolving deltas:  23% (32/135)   \r\n",
      "Resolving deltas:  25% (35/135)   \r\n",
      "Resolving deltas:  29% (40/135)   \r\n",
      "Resolving deltas:  40% (54/135)   \r\n",
      "Resolving deltas:  45% (61/135)   \r\n",
      "Resolving deltas:  62% (85/135)   \r\n",
      "Resolving deltas:  64% (87/135)   \r\n",
      "Resolving deltas:  66% (90/135)   \r\n",
      "Resolving deltas:  79% (107/135)   \r\n",
      "Resolving deltas:  80% (108/135)   \r\n",
      "Resolving deltas:  81% (110/135)   \r\n",
      "Resolving deltas:  82% (111/135)   \r\n",
      "Resolving deltas:  83% (113/135)   \r\n",
      "Resolving deltas:  84% (114/135)   \r\n",
      "Resolving deltas:  85% (116/135)   \r\n",
      "Resolving deltas:  98% (133/135)   \r\n",
      "Resolving deltas:  99% (134/135)   \r\n",
      "Resolving deltas: 100% (135/135)   \r\n",
      "Resolving deltas: 100% (135/135), done.\r\n"
     ]
    },
    {
     "name": "stdout",
     "output_type": "stream",
     "text": [
      "/notebooks/fast-style-transfer-deeplearnjs\n"
     ]
    }
   ],
   "source": [
    "# Let's go back to the root folder\n",
    "%cd /notebooks\n",
    "\n",
    "# Download the repo\n",
    "!git clone https://github.com/reiinakano/fast-style-transfer-deeplearnjs.git\n",
    "\n",
    "# Switch to the repo\n",
    "%cd fast-style-transfer-deeplearnjs"
   ]
  },
  {
   "cell_type": "markdown",
   "metadata": {
    "gradient": {
     "editing": false,
     "id": "d2cb1548-1390-440a-8756-af922d0ef749",
     "kernelId": "b625c23a-4b39-43be-b316-0bb9ffbecbd9"
    }
   },
   "source": [
    "### Convert the model\n",
    "\n",
    "Make sure that \n",
    "\n",
    "- the --output_dir argument points to your _ckpts/model_name_ (this directory will be created by this script)\n",
    "\n",
    "in both script calls."
   ]
  },
  {
   "cell_type": "code",
   "execution_count": null,
   "metadata": {
    "colab": {
     "base_uri": "https://localhost:8080/",
     "height": 1000
    },
    "gradient": {
     "editing": false,
     "id": "3ee91841-6d7c-4817-baf8-de89ac329142",
     "kernelId": "b625c23a-4b39-43be-b316-0bb9ffbecbd9"
    },
    "id": "N6ky6qQhYJBz",
    "outputId": "60d8c1b8-4dfc-4d67-cea7-15a18695e140"
   },
   "outputs": [
    {
     "name": "stdout",
     "output_type": "stream",
     "text": [
      "/usr/local/lib/python3.6/dist-packages/tensorflow/python/framework/dtypes.py:516: FutureWarning: Passing (type, 1) or '1type' as a synonym of type is deprecated; in a future version of numpy, it will be understood as (type, (1,)) / '(1,)type'.\r\n",
      "  _np_qint8 = np.dtype([(\"qint8\", np.int8, 1)])\r\n",
      "/usr/local/lib/python3.6/dist-packages/tensorflow/python/framework/dtypes.py:517: FutureWarning: Passing (type, 1) or '1type' as a synonym of type is deprecated; in a future version of numpy, it will be understood as (type, (1,)) / '(1,)type'.\r\n",
      "  _np_quint8 = np.dtype([(\"quint8\", np.uint8, 1)])\r\n",
      "/usr/local/lib/python3.6/dist-packages/tensorflow/python/framework/dtypes.py:518: FutureWarning: Passing (type, 1) or '1type' as a synonym of type is deprecated; in a future version of numpy, it will be understood as (type, (1,)) / '(1,)type'.\r\n",
      "  _np_qint16 = np.dtype([(\"qint16\", np.int16, 1)])\r\n",
      "/usr/local/lib/python3.6/dist-packages/tensorflow/python/framework/dtypes.py:519: FutureWarning: Passing (type, 1) or '1type' as a synonym of type is deprecated; in a future version of numpy, it will be understood as (type, (1,)) / '(1,)type'.\r\n",
      "  _np_quint16 = np.dtype([(\"quint16\", np.uint16, 1)])\r\n",
      "/usr/local/lib/python3.6/dist-packages/tensorflow/python/framework/dtypes.py:520: FutureWarning: Passing (type, 1) or '1type' as a synonym of type is deprecated; in a future version of numpy, it will be understood as (type, (1,)) / '(1,)type'.\r\n",
      "  _np_qint32 = np.dtype([(\"qint32\", np.int32, 1)])\r\n",
      "/usr/local/lib/python3.6/dist-packages/tensorflow/python/framework/dtypes.py:525: FutureWarning: Passing (type, 1) or '1type' as a synonym of type is deprecated; in a future version of numpy, it will be understood as (type, (1,)) / '(1,)type'.\r\n",
      "  np_resource = np.dtype([(\"resource\", np.ubyte, 1)])\r\n"
     ]
    },
    {
     "name": "stdout",
     "output_type": "stream",
     "text": [
      "/usr/local/lib/python3.6/dist-packages/tensorboard/compat/tensorflow_stub/dtypes.py:541: FutureWarning: Passing (type, 1) or '1type' as a synonym of type is deprecated; in a future version of numpy, it will be understood as (type, (1,)) / '(1,)type'.\r\n",
      "  _np_qint8 = np.dtype([(\"qint8\", np.int8, 1)])\r\n",
      "/usr/local/lib/python3.6/dist-packages/tensorboard/compat/tensorflow_stub/dtypes.py:542: FutureWarning: Passing (type, 1) or '1type' as a synonym of type is deprecated; in a future version of numpy, it will be understood as (type, (1,)) / '(1,)type'.\r\n",
      "  _np_quint8 = np.dtype([(\"quint8\", np.uint8, 1)])\r\n",
      "/usr/local/lib/python3.6/dist-packages/tensorboard/compat/tensorflow_stub/dtypes.py:543: FutureWarning: Passing (type, 1) or '1type' as a synonym of type is deprecated; in a future version of numpy, it will be understood as (type, (1,)) / '(1,)type'.\r\n",
      "  _np_qint16 = np.dtype([(\"qint16\", np.int16, 1)])\r\n",
      "/usr/local/lib/python3.6/dist-packages/tensorboard/compat/tensorflow_stub/dtypes.py:544: FutureWarning: Passing (type, 1) or '1type' as a synonym of type is deprecated; in a future version of numpy, it will be understood as (type, (1,)) / '(1,)type'.\r\n",
      "  _np_quint16 = np.dtype([(\"quint16\", np.uint16, 1)])\r\n",
      "/usr/local/lib/python3.6/dist-packages/tensorboard/compat/tensorflow_stub/dtypes.py:545: FutureWarning: Passing (type, 1) or '1type' as a synonym of type is deprecated; in a future version of numpy, it will be understood as (type, (1,)) / '(1,)type'.\r\n",
      "  _np_qint32 = np.dtype([(\"qint32\", np.int32, 1)])\r\n",
      "/usr/local/lib/python3.6/dist-packages/tensorboard/compat/tensorflow_stub/dtypes.py:550: FutureWarning: Passing (type, 1) or '1type' as a synonym of type is deprecated; in a future version of numpy, it will be understood as (type, (1,)) / '(1,)type'.\r\n",
      "  np_resource = np.dtype([(\"resource\", np.ubyte, 1)])\r\n"
     ]
    },
    {
     "name": "stdout",
     "output_type": "stream",
     "text": [
      "WARNING: Logging before flag parsing goes to stderr.\r\n",
      "W1118 21:41:48.192328 139620861376320 deprecation_wrapper.py:119] From scripts/dump_checkpoint_vars.py:48: The name tf.train.NewCheckpointReader is deprecated. Please use tf.compat.v1.train.NewCheckpointReader instead.\r\n",
      "\r\n"
     ]
    },
    {
     "name": "stdout",
     "output_type": "stream",
     "text": [
      "W1118 21:41:48.200464 139620861376320 deprecation_wrapper.py:119] From scripts/dump_checkpoint_vars.py:51: The name tf.gfile.MakeDirs is deprecated. Please use tf.io.gfile.makedirs instead.\r\n",
      "\r\n",
      "Writing variable Variable_9/Adam_1...\r\n",
      "Writing variable Variable_8/Adam...\r\n",
      "Writing variable Variable_8...\r\n",
      "Writing variable Variable_7/Adam_1...\r\n",
      "Writing variable Variable_7/Adam...\r\n",
      "Writing variable Variable_7...\r\n",
      "Writing variable Variable_6/Adam...\r\n",
      "Writing variable Variable_6...\r\n",
      "Writing variable Variable_5/Adam...\r\n",
      "Writing variable Variable_47/Adam_1...\r\n",
      "Writing variable Variable_45/Adam_1...\r\n",
      "Writing variable Variable_45/Adam...\r\n",
      "Writing variable Variable_45...\r\n",
      "Writing variable Variable_43/Adam_1...\r\n",
      "Writing variable Variable_43/Adam...\r\n",
      "Writing variable Variable_43...\r\n",
      "Writing variable Variable_5/Adam_1...\r\n",
      "Writing variable Variable_42/Adam...\r\n"
     ]
    },
    {
     "name": "stdout",
     "output_type": "stream",
     "text": [
      "Writing variable Variable_41/Adam...\r\n",
      "Writing variable Variable_41...\r\n",
      "Writing variable Variable_40...\r\n",
      "Writing variable Variable_39/Adam_1...\r\n",
      "Writing variable Variable_39...\r\n",
      "Writing variable Variable_38/Adam_1...\r\n",
      "Writing variable Variable_4/Adam_1...\r\n",
      "Writing variable Variable_38...\r\n",
      "Writing variable Variable_44...\r\n",
      "Writing variable Variable_20/Adam...\r\n",
      "Writing variable Variable_10/Adam...\r\n",
      "Writing variable Variable_37/Adam...\r\n",
      "Writing variable Variable_31/Adam...\r\n",
      "Writing variable Variable_19/Adam...\r\n",
      "Writing variable Variable_25...\r\n",
      "Writing variable Variable_9...\r\n",
      "Writing variable Variable_32/Adam...\r\n",
      "Writing variable Variable_34...\r\n"
     ]
    },
    {
     "name": "stdout",
     "output_type": "stream",
     "text": [
      "Writing variable Variable_5...\r\n",
      "Writing variable Variable_47/Adam...\r\n",
      "Writing variable Variable_17/Adam_1...\r\n",
      "Writing variable Variable_32...\r\n",
      "Writing variable Variable_18/Adam...\r\n",
      "Writing variable Variable_17/Adam...\r\n",
      "Writing variable Variable_19/Adam_1...\r\n",
      "Writing variable Variable_11/Adam_1...\r\n",
      "Writing variable Variable_17...\r\n",
      "Writing variable Variable_18...\r\n",
      "Writing variable Variable_44/Adam_1...\r\n",
      "Writing variable Variable_36...\r\n",
      "Writing variable Variable_16...\r\n",
      "Writing variable Variable_2...\r\n"
     ]
    },
    {
     "name": "stdout",
     "output_type": "stream",
     "text": [
      "Writing variable Variable_14/Adam_1...\r\n",
      "Writing variable beta2_power...\r\n",
      "Writing variable Variable_15...\r\n",
      "Writing variable Variable_30...\r\n",
      "Writing variable Variable_15/Adam_1...\r\n",
      "Writing variable Variable_46...\r\n",
      "Writing variable Variable_15/Adam...\r\n",
      "Writing variable Variable_24/Adam...\r\n",
      "Writing variable Variable_16/Adam...\r\n",
      "Writing variable Variable_11...\r\n",
      "Writing variable Variable_2/Adam_1...\r\n",
      "Writing variable Variable_41/Adam_1...\r\n",
      "Writing variable Variable_38/Adam...\r\n"
     ]
    },
    {
     "name": "stdout",
     "output_type": "stream",
     "text": [
      "Writing variable Variable_23...\r\n",
      "Writing variable Variable_10/Adam_1...\r\n",
      "Writing variable Variable_24...\r\n",
      "Writing variable Variable_37/Adam_1...\r\n",
      "Writing variable Variable_47...\r\n",
      "Writing variable Variable_14...\r\n",
      "Writing variable Variable_20...\r\n",
      "Writing variable Variable_30/Adam...\r\n",
      "Writing variable Variable_1/Adam...\r\n",
      "Writing variable Variable_29/Adam_1...\r\n",
      "Writing variable Variable/Adam_1...\r\n",
      "Writing variable Variable_19...\r\n",
      "Writing variable Variable_21/Adam_1...\r\n",
      "Writing variable Variable_11/Adam...\r\n",
      "Writing variable Variable_29...\r\n",
      "Writing variable Variable_22...\r\n",
      "Writing variable Variable_16/Adam_1...\r\n",
      "Writing variable beta1_power...\r\n",
      "Writing variable Variable_40/Adam_1...\r\n",
      "Writing variable Variable_1...\r\n",
      "Writing variable Variable_44/Adam...\r\n",
      "Writing variable Variable_12...\r\n"
     ]
    },
    {
     "name": "stdout",
     "output_type": "stream",
     "text": [
      "Writing variable Variable_36/Adam...\r\n",
      "Writing variable Variable/Adam...\r\n",
      "Writing variable Variable_25/Adam...\r\n",
      "Writing variable Variable_12/Adam_1...\r\n",
      "Writing variable Variable_23/Adam_1...\r\n",
      "Writing variable Variable_12/Adam...\r\n",
      "Writing variable Variable_21...\r\n",
      "Writing variable Variable_27...\r\n",
      "Writing variable Variable_4...\r\n",
      "Writing variable Variable_37...\r\n",
      "Writing variable Variable_10...\r\n",
      "Writing variable Variable_13...\r\n",
      "Writing variable Variable_28/Adam...\r\n",
      "Writing variable Variable_33/Adam_1...\r\n",
      "Writing variable Variable_13/Adam_1...\r\n"
     ]
    },
    {
     "name": "stdout",
     "output_type": "stream",
     "text": [
      "Writing variable Variable_14/Adam...\r\n",
      "Writing variable Variable_3/Adam_1...\r\n",
      "Writing variable Variable_18/Adam_1...\r\n",
      "Writing variable Variable_2/Adam...\r\n",
      "Writing variable Variable_31/Adam_1...\r\n",
      "Writing variable Variable_9/Adam...\r\n",
      "Writing variable Variable_42/Adam_1...\r\n",
      "Writing variable Variable_22/Adam...\r\n",
      "Writing variable Variable_6/Adam_1...\r\n",
      "Writing variable Variable_22/Adam_1...\r\n",
      "Writing variable Variable_23/Adam...\r\n",
      "Writing variable Variable_28/Adam_1...\r\n",
      "Writing variable Variable_35/Adam_1...\r\n",
      "Writing variable Variable_20/Adam_1...\r\n",
      "Writing variable Variable_26/Adam...\r\n",
      "Writing variable Variable_40/Adam...\r\n",
      "Writing variable Variable_4/Adam...\r\n",
      "Writing variable Variable_30/Adam_1...\r\n",
      "Writing variable Variable_33/Adam...\r\n",
      "Writing variable Variable_26/Adam_1...\r\n",
      "Writing variable Variable_26...\r\n",
      "Writing variable Variable_27/Adam_1...\r\n",
      "Writing variable Variable_1/Adam_1...\r\n",
      "Writing variable Variable_29/Adam...\r\n",
      "Writing variable Variable_25/Adam_1...\r\n",
      "Writing variable Variable_28...\r\n",
      "Writing variable Variable_3...\r\n",
      "Writing variable Variable_42...\r\n",
      "Writing variable Variable_39/Adam...\r\n",
      "Writing variable Variable_3/Adam...\r\n",
      "Writing variable Variable_31...\r\n",
      "Writing variable Variable_8/Adam_1...\r\n",
      "Writing variable Variable_21/Adam...\r\n",
      "Writing variable Variable_32/Adam_1...\r\n"
     ]
    },
    {
     "name": "stdout",
     "output_type": "stream",
     "text": [
      "Writing variable Variable_13/Adam...\r\n",
      "Writing variable Variable_27/Adam...\r\n",
      "Writing variable Variable_33...\r\n",
      "Writing variable Variable_34/Adam...\r\n",
      "Writing variable Variable_34/Adam_1...\r\n",
      "Writing variable Variable_46/Adam_1...\r\n",
      "Writing variable Variable_24/Adam_1...\r\n",
      "Writing variable Variable_35...\r\n",
      "Writing variable Variable_35/Adam...\r\n",
      "Writing variable Variable_46/Adam...\r\n",
      "Writing variable Variable...\r\n",
      "Writing variable Variable_36/Adam_1...\r\n",
      "Writing manifest to src/ckpts/slo-gan/manifest.json\r\n"
     ]
    },
    {
     "name": "stdout",
     "output_type": "stream",
     "text": [
      "Done!\r\n"
     ]
    }
   ],
   "source": [
    "# Change src/ckpts/slo-transfer to src/ckpts/YOUR_OWN_FOLDER\n",
    "!python scripts/dump_checkpoint_vars.py --output_dir=src/ckpts/slo-transfer --checkpoint_file=/notebooks/fast-style-transfer/ckpt/fns.ckpt\n",
    "\n",
    "# Change src/ckpts/slo-transfer to src/ckpts/YOUR_OWN_FOLDER\n",
    "!python scripts/remove_optimizer_variables.py --output_dir=src/ckpts/slo-transfer"
   ]
  },
  {
   "cell_type": "markdown",
   "metadata": {
    "gradient": {
     "editing": false,
     "id": "ef542c1c-a916-4bff-913c-6cc1aedd84e1",
     "kernelId": "b625c23a-4b39-43be-b316-0bb9ffbecbd9"
    }
   },
   "source": [
    "#### Zip the model and download it\n",
    "\n",
    "Again, make sure the paths are correct for your model.\n",
    "\n",
    "`tar cfz /notebooks/fast-style-transfer-deeplearnjs/src/ckpts/YOUR-MODEL-FOLDER.tar.gz /notebooks/fast-style-transfer-deeplearnjs/src/ckpts/YOUR-MODEL-FOLDER`"
   ]
  },
  {
   "cell_type": "code",
   "execution_count": null,
   "metadata": {
    "collapsed": false,
    "gradient": {
     "editing": false,
     "id": "4da2148c-f470-4232-b625-ab1b9ac24d38",
     "kernelId": "b625c23a-4b39-43be-b316-0bb9ffbecbd9",
     "source_hidden": false
    }
   },
   "outputs": [
    {
     "name": "stdout",
     "output_type": "stream",
     "text": [
      "tar: Removing leading `/' from member names\r\n"
     ]
    }
   ],
   "source": [
    "# We use tar because no zip support\n",
    "# Change /slo-transfer.tar.gz to /YOUR_FOLDER_NAME.tar.gz, same as src/ckpts/slo-transfer to /YOUR_FOLDER_NAME\n",
    "!tar czf /notebooks/fast-style-transfer-deeplearnjs/src/ckpts/slo-transfer.tar.gz /notebooks/fast-style-transfer-deeplearnjs/src/ckpts/slo-transfer"
   ]
  },
  {
   "cell_type": "markdown",
   "metadata": {
    "gradient": {
     "editing": false,
     "id": "6d767997-856f-4a76-b245-a78998e243e1",
     "kernelId": "b625c23a-4b39-43be-b316-0bb9ffbecbd9"
    }
   },
   "source": [
    "Now you should be able to see a YOUR_MODEL_NAME.tar.gz archived file from the Files panel (you might need to refresh the whole page if you don't see it there). Download it from the panel."
   ]
  },
  {
   "cell_type": "markdown",
   "metadata": {
    "gradient": {
     "editing": false,
     "id": "d54b45ea-2545-4301-9a4b-47e2fb0dc4c2",
     "kernelId": "b625c23a-4b39-43be-b316-0bb9ffbecbd9"
    },
    "id": "n8_X2DJIMiJW"
   },
   "source": [
    "## 5. Run the model in ml5js\n",
    "\n",
    "Put the downloaded and unzipped model folder into your [p5 sketch](https://editor.p5js.org/ml5/sketches/StyleTransfer_Image) in the _models/_ directory.\n",
    "\n",
    "Change the model path in your p5 sketch:  \n",
    "`style = ml5.styleTransfer('models/YOUR_MODEL_NAME', modelLoaded);`"
   ]
  },
  {
   "cell_type": "markdown",
   "metadata": {
    "gradient": {
     "editing": false,
     "id": "a02c3198-b566-482b-9819-33d2b6a15a32",
     "kernelId": "b625c23a-4b39-43be-b316-0bb9ffbecbd9"
    }
   },
   "source": [
    "## 6. Using the model for video style transfer\n",
    "\n",
    "Make sure you uploaded the video you'd like to transfer the style to. You can upload it to the root folder (i.e. inside /notebooks)\n",
    "\n",
    "Make sure you installed the required libraries before. You can also do so right here.\n",
    "\n",
    "_Note: You do not need to convert the model to ml5 to use it for video style transfer here._"
   ]
  },
  {
   "cell_type": "code",
   "execution_count": null,
   "metadata": {
    "collapsed": false,
    "gradient": {
     "editing": false,
     "id": "5f55c109-2260-4ca5-b870-bcfe3948769c",
     "kernelId": "b625c23a-4b39-43be-b316-0bb9ffbecbd9",
     "source_hidden": false
    }
   },
   "outputs": [],
   "source": [
    "# Install libraries for video style transfer\n",
    "!pip install ffmpeg\n",
    "!pip install moviepy==1.0.2\n",
    "!pip install scipy\n",
    "# Downgrading the image-ffmpeg prevent some pipe error\n",
    "!pip install imageio-ffmpeg==0.2.0"
   ]
  },
  {
   "cell_type": "markdown",
   "metadata": {
    "gradient": {
     "editing": false,
     "id": "04996ba0-1f71-4f00-930d-d583b5cc76cc",
     "kernelId": "b625c23a-4b39-43be-b316-0bb9ffbecbd9"
    }
   },
   "source": [
    "We also need to install TensorFlow 2.10. version again. You can skip this step if you did not convert the model to ml5."
   ]
  },
  {
   "cell_type": "code",
   "execution_count": null,
   "metadata": {
    "collapsed": false,
    "gradient": {
     "editing": false,
     "id": "0eb45b36-82f0-42c9-8111-a398b94cbbe8",
     "kernelId": "b625c23a-4b39-43be-b316-0bb9ffbecbd9",
     "source_hidden": false
    }
   },
   "outputs": [],
   "source": [
    "!pip install tensorflow-gpu==2.1.0"
   ]
  },
  {
   "cell_type": "markdown",
   "metadata": {
    "gradient": {
     "editing": false,
     "id": "ea47719b-63c0-45bc-ac00-2391b2715542",
     "kernelId": "b625c23a-4b39-43be-b316-0bb9ffbecbd9"
    }
   },
   "source": [
    "#### Create the output-video directory"
   ]
  },
  {
   "cell_type": "code",
   "execution_count": null,
   "metadata": {
    "collapsed": false,
    "gradient": {
     "editing": false,
     "id": "a6f18da9-4607-4e6b-bf22-5c6114cb2fcb",
     "kernelId": "b625c23a-4b39-43be-b316-0bb9ffbecbd9",
     "source_hidden": false
    }
   },
   "outputs": [],
   "source": [
    "%mkdir /notebooks/output-video"
   ]
  },
  {
   "cell_type": "markdown",
   "metadata": {
    "gradient": {
     "editing": false,
     "id": "24ade508-ebfd-47ef-a19d-bc4160e0cbc3",
     "kernelId": "b625c23a-4b39-43be-b316-0bb9ffbecbd9"
    }
   },
   "source": [
    "#### Style transfer!\n",
    "\n",
    "Again - paths!\n",
    "\n",
    "- the --in-path should point to your video, e.g. _/notebooks/MY_ORIGINAL_VIDEO.mp4_\n",
    "- the --out-path should point to the _/notebooks/output-video/MY_TRANSFERED_VIDEO.mp4_"
   ]
  },
  {
   "cell_type": "code",
   "execution_count": null,
   "metadata": {
    "collapsed": false,
    "gradient": {
     "editing": false,
     "id": "886bc6d8-9899-4799-a009-5b3dd4cca4d7",
     "kernelId": "b625c23a-4b39-43be-b316-0bb9ffbecbd9",
     "source_hidden": false
    }
   },
   "outputs": [],
   "source": [
    "# Go into the fast-style-transfer dir\n",
    "%cd /notebooks/fast-style-transfer/"
   ]
  },
  {
   "cell_type": "code",
   "execution_count": null,
   "metadata": {
    "collapsed": false,
    "gradient": {
     "editing": false,
     "id": "1134dd10-986e-48a8-97b7-e4236efa249b",
     "kernelId": "b625c23a-4b39-43be-b316-0bb9ffbecbd9",
     "source_hidden": false
    }
   },
   "outputs": [],
   "source": [
    "# From here we run out process\n",
    "# as stated here https://github.com/lengstrom/fast-style-transfer#stylizing-video\n",
    "\n",
    "!python transform_video.py --in-path /notebooks/maribor.mp4 \\\n",
    "  --checkpoint ckpt/ \\\n",
    "  --tmp-dir /notebooks/tmp-out/ \\\n",
    "  --out-path /notebooks/output-video/video.mp4 \\\n",
    "  --device /gpu:0 \\\n",
    "  --batch-size 4"
   ]
  },
  {
   "cell_type": "markdown",
   "metadata": {
    "gradient": {
     "editing": false,
     "id": "9efa1f98-2333-4bfa-8206-4c957cfeca02",
     "kernelId": "b625c23a-4b39-43be-b316-0bb9ffbecbd9"
    }
   },
   "source": [
    "You should now see your style-transfered video in the output-video directory. Download it and enjoy!"
   ]
  },
  {
   "cell_type": "markdown",
   "metadata": {
    "gradient": {
     "editing": false,
     "id": "10766f9f-613b-45d9-9fa6-66f2ce07bf4c",
     "kernelId": "b625c23a-4b39-43be-b316-0bb9ffbecbd9"
    }
   },
   "source": [
    "***\n",
    "\n",
    "Made by @zalashub on [GitHub](https://github.com/zalashub) and [Twitter](https://twitter.com/zalashub)."
   ]
  }
 ],
 "metadata": {
  "accelerator": "GPU",
  "colab": {
   "collapsed_sections": [],
   "name": "Train-Fast-style-transfer-tensorflow-ml5js.ipynb",
   "provenance": []
  },
  "kernelspec": {
   "display_name": "Python 3 (ipykernel)",
   "language": "python",
   "name": "python3"
  },
  "language_info": {
   "codemirror_mode": {
    "name": "ipython",
    "version": 3
   },
   "file_extension": ".py",
   "mimetype": "text/x-python",
   "name": "python",
   "nbconvert_exporter": "python",
   "pygments_lexer": "ipython3",
   "version": "3.8.10"
  }
 },
 "nbformat": 4,
 "nbformat_minor": 1
}
